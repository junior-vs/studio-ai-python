{
 "nbformat": 4,
 "nbformat_minor": 0,
 "metadata": {
  "colab": {
   "provenance": [],
   "gpuType": "T4"
  },
  "kernelspec": {
   "name": "python3",
   "display_name": "Python 3 (ipykernel)",
   "language": "python"
  },
  "language_info": {
   "name": "python"
  },
  "widgets": {
   "application/vnd.jupyter.widget-state+json": {
    "66b39e83322d4be7870927072b2451f2": {
     "model_module": "@jupyter-widgets/controls",
     "model_name": "HBoxModel",
     "model_module_version": "1.5.0",
     "state": {
      "_dom_classes": [],
      "_model_module": "@jupyter-widgets/controls",
      "_model_module_version": "1.5.0",
      "_model_name": "HBoxModel",
      "_view_count": null,
      "_view_module": "@jupyter-widgets/controls",
      "_view_module_version": "1.5.0",
      "_view_name": "HBoxView",
      "box_style": "",
      "children": [
       "IPY_MODEL_f712f377be7a40709bc259e054898c40",
       "IPY_MODEL_e2acd2a571464c77ad4721bf5324aec3",
       "IPY_MODEL_77ed2a6884f44d58816189fa684a8cbc"
      ],
      "layout": "IPY_MODEL_8183539308a24cee8674f2ba4712c395"
     }
    },
    "f712f377be7a40709bc259e054898c40": {
     "model_module": "@jupyter-widgets/controls",
     "model_name": "HTMLModel",
     "model_module_version": "1.5.0",
     "state": {
      "_dom_classes": [],
      "_model_module": "@jupyter-widgets/controls",
      "_model_module_version": "1.5.0",
      "_model_name": "HTMLModel",
      "_view_count": null,
      "_view_module": "@jupyter-widgets/controls",
      "_view_module_version": "1.5.0",
      "_view_name": "HTMLView",
      "description": "",
      "description_tooltip": null,
      "layout": "IPY_MODEL_b7077068afc04e7f93865b4dcb87af62",
      "placeholder": "​",
      "style": "IPY_MODEL_c27e7325c0f34bff9bf69a24aab49603",
      "value": "modules.json: 100%"
     }
    },
    "e2acd2a571464c77ad4721bf5324aec3": {
     "model_module": "@jupyter-widgets/controls",
     "model_name": "FloatProgressModel",
     "model_module_version": "1.5.0",
     "state": {
      "_dom_classes": [],
      "_model_module": "@jupyter-widgets/controls",
      "_model_module_version": "1.5.0",
      "_model_name": "FloatProgressModel",
      "_view_count": null,
      "_view_module": "@jupyter-widgets/controls",
      "_view_module_version": "1.5.0",
      "_view_name": "ProgressView",
      "bar_style": "success",
      "description": "",
      "description_tooltip": null,
      "layout": "IPY_MODEL_a74ccad6110843ec898986c47a2d2c30",
      "max": 229,
      "min": 0,
      "orientation": "horizontal",
      "style": "IPY_MODEL_03cfe087344148feb5b45a60e28ba39f",
      "value": 229
     }
    },
    "77ed2a6884f44d58816189fa684a8cbc": {
     "model_module": "@jupyter-widgets/controls",
     "model_name": "HTMLModel",
     "model_module_version": "1.5.0",
     "state": {
      "_dom_classes": [],
      "_model_module": "@jupyter-widgets/controls",
      "_model_module_version": "1.5.0",
      "_model_name": "HTMLModel",
      "_view_count": null,
      "_view_module": "@jupyter-widgets/controls",
      "_view_module_version": "1.5.0",
      "_view_name": "HTMLView",
      "description": "",
      "description_tooltip": null,
      "layout": "IPY_MODEL_3eb2056b018d47d6ad51133b3213fa34",
      "placeholder": "​",
      "style": "IPY_MODEL_79773f675ae74f3580a99e92cc5007e5",
      "value": " 229/229 [00:00&lt;00:00, 24.1kB/s]"
     }
    },
    "8183539308a24cee8674f2ba4712c395": {
     "model_module": "@jupyter-widgets/base",
     "model_name": "LayoutModel",
     "model_module_version": "1.2.0",
     "state": {
      "_model_module": "@jupyter-widgets/base",
      "_model_module_version": "1.2.0",
      "_model_name": "LayoutModel",
      "_view_count": null,
      "_view_module": "@jupyter-widgets/base",
      "_view_module_version": "1.2.0",
      "_view_name": "LayoutView",
      "align_content": null,
      "align_items": null,
      "align_self": null,
      "border": null,
      "bottom": null,
      "display": null,
      "flex": null,
      "flex_flow": null,
      "grid_area": null,
      "grid_auto_columns": null,
      "grid_auto_flow": null,
      "grid_auto_rows": null,
      "grid_column": null,
      "grid_gap": null,
      "grid_row": null,
      "grid_template_areas": null,
      "grid_template_columns": null,
      "grid_template_rows": null,
      "height": null,
      "justify_content": null,
      "justify_items": null,
      "left": null,
      "margin": null,
      "max_height": null,
      "max_width": null,
      "min_height": null,
      "min_width": null,
      "object_fit": null,
      "object_position": null,
      "order": null,
      "overflow": null,
      "overflow_x": null,
      "overflow_y": null,
      "padding": null,
      "right": null,
      "top": null,
      "visibility": null,
      "width": null
     }
    },
    "b7077068afc04e7f93865b4dcb87af62": {
     "model_module": "@jupyter-widgets/base",
     "model_name": "LayoutModel",
     "model_module_version": "1.2.0",
     "state": {
      "_model_module": "@jupyter-widgets/base",
      "_model_module_version": "1.2.0",
      "_model_name": "LayoutModel",
      "_view_count": null,
      "_view_module": "@jupyter-widgets/base",
      "_view_module_version": "1.2.0",
      "_view_name": "LayoutView",
      "align_content": null,
      "align_items": null,
      "align_self": null,
      "border": null,
      "bottom": null,
      "display": null,
      "flex": null,
      "flex_flow": null,
      "grid_area": null,
      "grid_auto_columns": null,
      "grid_auto_flow": null,
      "grid_auto_rows": null,
      "grid_column": null,
      "grid_gap": null,
      "grid_row": null,
      "grid_template_areas": null,
      "grid_template_columns": null,
      "grid_template_rows": null,
      "height": null,
      "justify_content": null,
      "justify_items": null,
      "left": null,
      "margin": null,
      "max_height": null,
      "max_width": null,
      "min_height": null,
      "min_width": null,
      "object_fit": null,
      "object_position": null,
      "order": null,
      "overflow": null,
      "overflow_x": null,
      "overflow_y": null,
      "padding": null,
      "right": null,
      "top": null,
      "visibility": null,
      "width": null
     }
    },
    "c27e7325c0f34bff9bf69a24aab49603": {
     "model_module": "@jupyter-widgets/controls",
     "model_name": "DescriptionStyleModel",
     "model_module_version": "1.5.0",
     "state": {
      "_model_module": "@jupyter-widgets/controls",
      "_model_module_version": "1.5.0",
      "_model_name": "DescriptionStyleModel",
      "_view_count": null,
      "_view_module": "@jupyter-widgets/base",
      "_view_module_version": "1.2.0",
      "_view_name": "StyleView",
      "description_width": ""
     }
    },
    "a74ccad6110843ec898986c47a2d2c30": {
     "model_module": "@jupyter-widgets/base",
     "model_name": "LayoutModel",
     "model_module_version": "1.2.0",
     "state": {
      "_model_module": "@jupyter-widgets/base",
      "_model_module_version": "1.2.0",
      "_model_name": "LayoutModel",
      "_view_count": null,
      "_view_module": "@jupyter-widgets/base",
      "_view_module_version": "1.2.0",
      "_view_name": "LayoutView",
      "align_content": null,
      "align_items": null,
      "align_self": null,
      "border": null,
      "bottom": null,
      "display": null,
      "flex": null,
      "flex_flow": null,
      "grid_area": null,
      "grid_auto_columns": null,
      "grid_auto_flow": null,
      "grid_auto_rows": null,
      "grid_column": null,
      "grid_gap": null,
      "grid_row": null,
      "grid_template_areas": null,
      "grid_template_columns": null,
      "grid_template_rows": null,
      "height": null,
      "justify_content": null,
      "justify_items": null,
      "left": null,
      "margin": null,
      "max_height": null,
      "max_width": null,
      "min_height": null,
      "min_width": null,
      "object_fit": null,
      "object_position": null,
      "order": null,
      "overflow": null,
      "overflow_x": null,
      "overflow_y": null,
      "padding": null,
      "right": null,
      "top": null,
      "visibility": null,
      "width": null
     }
    },
    "03cfe087344148feb5b45a60e28ba39f": {
     "model_module": "@jupyter-widgets/controls",
     "model_name": "ProgressStyleModel",
     "model_module_version": "1.5.0",
     "state": {
      "_model_module": "@jupyter-widgets/controls",
      "_model_module_version": "1.5.0",
      "_model_name": "ProgressStyleModel",
      "_view_count": null,
      "_view_module": "@jupyter-widgets/base",
      "_view_module_version": "1.2.0",
      "_view_name": "StyleView",
      "bar_color": null,
      "description_width": ""
     }
    },
    "3eb2056b018d47d6ad51133b3213fa34": {
     "model_module": "@jupyter-widgets/base",
     "model_name": "LayoutModel",
     "model_module_version": "1.2.0",
     "state": {
      "_model_module": "@jupyter-widgets/base",
      "_model_module_version": "1.2.0",
      "_model_name": "LayoutModel",
      "_view_count": null,
      "_view_module": "@jupyter-widgets/base",
      "_view_module_version": "1.2.0",
      "_view_name": "LayoutView",
      "align_content": null,
      "align_items": null,
      "align_self": null,
      "border": null,
      "bottom": null,
      "display": null,
      "flex": null,
      "flex_flow": null,
      "grid_area": null,
      "grid_auto_columns": null,
      "grid_auto_flow": null,
      "grid_auto_rows": null,
      "grid_column": null,
      "grid_gap": null,
      "grid_row": null,
      "grid_template_areas": null,
      "grid_template_columns": null,
      "grid_template_rows": null,
      "height": null,
      "justify_content": null,
      "justify_items": null,
      "left": null,
      "margin": null,
      "max_height": null,
      "max_width": null,
      "min_height": null,
      "min_width": null,
      "object_fit": null,
      "object_position": null,
      "order": null,
      "overflow": null,
      "overflow_x": null,
      "overflow_y": null,
      "padding": null,
      "right": null,
      "top": null,
      "visibility": null,
      "width": null
     }
    },
    "79773f675ae74f3580a99e92cc5007e5": {
     "model_module": "@jupyter-widgets/controls",
     "model_name": "DescriptionStyleModel",
     "model_module_version": "1.5.0",
     "state": {
      "_model_module": "@jupyter-widgets/controls",
      "_model_module_version": "1.5.0",
      "_model_name": "DescriptionStyleModel",
      "_view_count": null,
      "_view_module": "@jupyter-widgets/base",
      "_view_module_version": "1.2.0",
      "_view_name": "StyleView",
      "description_width": ""
     }
    },
    "0f87d90831c14c0793dbbf7a9824de47": {
     "model_module": "@jupyter-widgets/controls",
     "model_name": "HBoxModel",
     "model_module_version": "1.5.0",
     "state": {
      "_dom_classes": [],
      "_model_module": "@jupyter-widgets/controls",
      "_model_module_version": "1.5.0",
      "_model_name": "HBoxModel",
      "_view_count": null,
      "_view_module": "@jupyter-widgets/controls",
      "_view_module_version": "1.5.0",
      "_view_name": "HBoxView",
      "box_style": "",
      "children": [
       "IPY_MODEL_70fba00bb5aa4d52ac406b09dd164071",
       "IPY_MODEL_6981f724bf03434e82389310cda71ef8",
       "IPY_MODEL_ae2ca684471643e1a98ccb1ac5431326"
      ],
      "layout": "IPY_MODEL_e18df2b8baa048348ce4fdef6efece3a"
     }
    },
    "70fba00bb5aa4d52ac406b09dd164071": {
     "model_module": "@jupyter-widgets/controls",
     "model_name": "HTMLModel",
     "model_module_version": "1.5.0",
     "state": {
      "_dom_classes": [],
      "_model_module": "@jupyter-widgets/controls",
      "_model_module_version": "1.5.0",
      "_model_name": "HTMLModel",
      "_view_count": null,
      "_view_module": "@jupyter-widgets/controls",
      "_view_module_version": "1.5.0",
      "_view_name": "HTMLView",
      "description": "",
      "description_tooltip": null,
      "layout": "IPY_MODEL_a6c3e0e391fd4333a51d618241e9a75b",
      "placeholder": "​",
      "style": "IPY_MODEL_681e1dc41bf94de1b51f7851d7e2dbe7",
      "value": "config_sentence_transformers.json: 100%"
     }
    },
    "6981f724bf03434e82389310cda71ef8": {
     "model_module": "@jupyter-widgets/controls",
     "model_name": "FloatProgressModel",
     "model_module_version": "1.5.0",
     "state": {
      "_dom_classes": [],
      "_model_module": "@jupyter-widgets/controls",
      "_model_module_version": "1.5.0",
      "_model_name": "FloatProgressModel",
      "_view_count": null,
      "_view_module": "@jupyter-widgets/controls",
      "_view_module_version": "1.5.0",
      "_view_name": "ProgressView",
      "bar_style": "success",
      "description": "",
      "description_tooltip": null,
      "layout": "IPY_MODEL_9b182e6ad1684bb18762dbcf23fb3038",
      "max": 266,
      "min": 0,
      "orientation": "horizontal",
      "style": "IPY_MODEL_ffcae20b07d445bcaab82598d4d91a85",
      "value": 266
     }
    },
    "ae2ca684471643e1a98ccb1ac5431326": {
     "model_module": "@jupyter-widgets/controls",
     "model_name": "HTMLModel",
     "model_module_version": "1.5.0",
     "state": {
      "_dom_classes": [],
      "_model_module": "@jupyter-widgets/controls",
      "_model_module_version": "1.5.0",
      "_model_name": "HTMLModel",
      "_view_count": null,
      "_view_module": "@jupyter-widgets/controls",
      "_view_module_version": "1.5.0",
      "_view_name": "HTMLView",
      "description": "",
      "description_tooltip": null,
      "layout": "IPY_MODEL_0a42e55e3cb2427a863a6a69a993968d",
      "placeholder": "​",
      "style": "IPY_MODEL_8b7048778302459da442a3ca3d8f7b02",
      "value": " 266/266 [00:00&lt;00:00, 29.5kB/s]"
     }
    },
    "e18df2b8baa048348ce4fdef6efece3a": {
     "model_module": "@jupyter-widgets/base",
     "model_name": "LayoutModel",
     "model_module_version": "1.2.0",
     "state": {
      "_model_module": "@jupyter-widgets/base",
      "_model_module_version": "1.2.0",
      "_model_name": "LayoutModel",
      "_view_count": null,
      "_view_module": "@jupyter-widgets/base",
      "_view_module_version": "1.2.0",
      "_view_name": "LayoutView",
      "align_content": null,
      "align_items": null,
      "align_self": null,
      "border": null,
      "bottom": null,
      "display": null,
      "flex": null,
      "flex_flow": null,
      "grid_area": null,
      "grid_auto_columns": null,
      "grid_auto_flow": null,
      "grid_auto_rows": null,
      "grid_column": null,
      "grid_gap": null,
      "grid_row": null,
      "grid_template_areas": null,
      "grid_template_columns": null,
      "grid_template_rows": null,
      "height": null,
      "justify_content": null,
      "justify_items": null,
      "left": null,
      "margin": null,
      "max_height": null,
      "max_width": null,
      "min_height": null,
      "min_width": null,
      "object_fit": null,
      "object_position": null,
      "order": null,
      "overflow": null,
      "overflow_x": null,
      "overflow_y": null,
      "padding": null,
      "right": null,
      "top": null,
      "visibility": null,
      "width": null
     }
    },
    "a6c3e0e391fd4333a51d618241e9a75b": {
     "model_module": "@jupyter-widgets/base",
     "model_name": "LayoutModel",
     "model_module_version": "1.2.0",
     "state": {
      "_model_module": "@jupyter-widgets/base",
      "_model_module_version": "1.2.0",
      "_model_name": "LayoutModel",
      "_view_count": null,
      "_view_module": "@jupyter-widgets/base",
      "_view_module_version": "1.2.0",
      "_view_name": "LayoutView",
      "align_content": null,
      "align_items": null,
      "align_self": null,
      "border": null,
      "bottom": null,
      "display": null,
      "flex": null,
      "flex_flow": null,
      "grid_area": null,
      "grid_auto_columns": null,
      "grid_auto_flow": null,
      "grid_auto_rows": null,
      "grid_column": null,
      "grid_gap": null,
      "grid_row": null,
      "grid_template_areas": null,
      "grid_template_columns": null,
      "grid_template_rows": null,
      "height": null,
      "justify_content": null,
      "justify_items": null,
      "left": null,
      "margin": null,
      "max_height": null,
      "max_width": null,
      "min_height": null,
      "min_width": null,
      "object_fit": null,
      "object_position": null,
      "order": null,
      "overflow": null,
      "overflow_x": null,
      "overflow_y": null,
      "padding": null,
      "right": null,
      "top": null,
      "visibility": null,
      "width": null
     }
    },
    "681e1dc41bf94de1b51f7851d7e2dbe7": {
     "model_module": "@jupyter-widgets/controls",
     "model_name": "DescriptionStyleModel",
     "model_module_version": "1.5.0",
     "state": {
      "_model_module": "@jupyter-widgets/controls",
      "_model_module_version": "1.5.0",
      "_model_name": "DescriptionStyleModel",
      "_view_count": null,
      "_view_module": "@jupyter-widgets/base",
      "_view_module_version": "1.2.0",
      "_view_name": "StyleView",
      "description_width": ""
     }
    },
    "9b182e6ad1684bb18762dbcf23fb3038": {
     "model_module": "@jupyter-widgets/base",
     "model_name": "LayoutModel",
     "model_module_version": "1.2.0",
     "state": {
      "_model_module": "@jupyter-widgets/base",
      "_model_module_version": "1.2.0",
      "_model_name": "LayoutModel",
      "_view_count": null,
      "_view_module": "@jupyter-widgets/base",
      "_view_module_version": "1.2.0",
      "_view_name": "LayoutView",
      "align_content": null,
      "align_items": null,
      "align_self": null,
      "border": null,
      "bottom": null,
      "display": null,
      "flex": null,
      "flex_flow": null,
      "grid_area": null,
      "grid_auto_columns": null,
      "grid_auto_flow": null,
      "grid_auto_rows": null,
      "grid_column": null,
      "grid_gap": null,
      "grid_row": null,
      "grid_template_areas": null,
      "grid_template_columns": null,
      "grid_template_rows": null,
      "height": null,
      "justify_content": null,
      "justify_items": null,
      "left": null,
      "margin": null,
      "max_height": null,
      "max_width": null,
      "min_height": null,
      "min_width": null,
      "object_fit": null,
      "object_position": null,
      "order": null,
      "overflow": null,
      "overflow_x": null,
      "overflow_y": null,
      "padding": null,
      "right": null,
      "top": null,
      "visibility": null,
      "width": null
     }
    },
    "ffcae20b07d445bcaab82598d4d91a85": {
     "model_module": "@jupyter-widgets/controls",
     "model_name": "ProgressStyleModel",
     "model_module_version": "1.5.0",
     "state": {
      "_model_module": "@jupyter-widgets/controls",
      "_model_module_version": "1.5.0",
      "_model_name": "ProgressStyleModel",
      "_view_count": null,
      "_view_module": "@jupyter-widgets/base",
      "_view_module_version": "1.2.0",
      "_view_name": "StyleView",
      "bar_color": null,
      "description_width": ""
     }
    },
    "0a42e55e3cb2427a863a6a69a993968d": {
     "model_module": "@jupyter-widgets/base",
     "model_name": "LayoutModel",
     "model_module_version": "1.2.0",
     "state": {
      "_model_module": "@jupyter-widgets/base",
      "_model_module_version": "1.2.0",
      "_model_name": "LayoutModel",
      "_view_count": null,
      "_view_module": "@jupyter-widgets/base",
      "_view_module_version": "1.2.0",
      "_view_name": "LayoutView",
      "align_content": null,
      "align_items": null,
      "align_self": null,
      "border": null,
      "bottom": null,
      "display": null,
      "flex": null,
      "flex_flow": null,
      "grid_area": null,
      "grid_auto_columns": null,
      "grid_auto_flow": null,
      "grid_auto_rows": null,
      "grid_column": null,
      "grid_gap": null,
      "grid_row": null,
      "grid_template_areas": null,
      "grid_template_columns": null,
      "grid_template_rows": null,
      "height": null,
      "justify_content": null,
      "justify_items": null,
      "left": null,
      "margin": null,
      "max_height": null,
      "max_width": null,
      "min_height": null,
      "min_width": null,
      "object_fit": null,
      "object_position": null,
      "order": null,
      "overflow": null,
      "overflow_x": null,
      "overflow_y": null,
      "padding": null,
      "right": null,
      "top": null,
      "visibility": null,
      "width": null
     }
    },
    "8b7048778302459da442a3ca3d8f7b02": {
     "model_module": "@jupyter-widgets/controls",
     "model_name": "DescriptionStyleModel",
     "model_module_version": "1.5.0",
     "state": {
      "_model_module": "@jupyter-widgets/controls",
      "_model_module_version": "1.5.0",
      "_model_name": "DescriptionStyleModel",
      "_view_count": null,
      "_view_module": "@jupyter-widgets/base",
      "_view_module_version": "1.2.0",
      "_view_name": "StyleView",
      "description_width": ""
     }
    },
    "9b3c9912ae8345f79ffcb382085e0850": {
     "model_module": "@jupyter-widgets/controls",
     "model_name": "HBoxModel",
     "model_module_version": "1.5.0",
     "state": {
      "_dom_classes": [],
      "_model_module": "@jupyter-widgets/controls",
      "_model_module_version": "1.5.0",
      "_model_name": "HBoxModel",
      "_view_count": null,
      "_view_module": "@jupyter-widgets/controls",
      "_view_module_version": "1.5.0",
      "_view_name": "HBoxView",
      "box_style": "",
      "children": [
       "IPY_MODEL_3c437d09b55443609a5fc37c1df6e7ad",
       "IPY_MODEL_f64dc8ac0fa0424cb76afe36139012f1",
       "IPY_MODEL_97c21b75b9af4fd6894cbe74c1969dd5"
      ],
      "layout": "IPY_MODEL_ef3e2722b2504c34abd5acdfe941c194"
     }
    },
    "3c437d09b55443609a5fc37c1df6e7ad": {
     "model_module": "@jupyter-widgets/controls",
     "model_name": "HTMLModel",
     "model_module_version": "1.5.0",
     "state": {
      "_dom_classes": [],
      "_model_module": "@jupyter-widgets/controls",
      "_model_module_version": "1.5.0",
      "_model_name": "HTMLModel",
      "_view_count": null,
      "_view_module": "@jupyter-widgets/controls",
      "_view_module_version": "1.5.0",
      "_view_name": "HTMLView",
      "description": "",
      "description_tooltip": null,
      "layout": "IPY_MODEL_02bb8719a1444f5db8538a862908b828",
      "placeholder": "​",
      "style": "IPY_MODEL_2298ed0f32e049c99e1ec02ceb931bc0",
      "value": "README.md: "
     }
    },
    "f64dc8ac0fa0424cb76afe36139012f1": {
     "model_module": "@jupyter-widgets/controls",
     "model_name": "FloatProgressModel",
     "model_module_version": "1.5.0",
     "state": {
      "_dom_classes": [],
      "_model_module": "@jupyter-widgets/controls",
      "_model_module_version": "1.5.0",
      "_model_name": "FloatProgressModel",
      "_view_count": null,
      "_view_module": "@jupyter-widgets/controls",
      "_view_module_version": "1.5.0",
      "_view_name": "ProgressView",
      "bar_style": "success",
      "description": "",
      "description_tooltip": null,
      "layout": "IPY_MODEL_c75ac322860a4520899c4ac0da87452b",
      "max": 1,
      "min": 0,
      "orientation": "horizontal",
      "style": "IPY_MODEL_ae7fd200e0694772b91ae49ef097130e",
      "value": 1
     }
    },
    "97c21b75b9af4fd6894cbe74c1969dd5": {
     "model_module": "@jupyter-widgets/controls",
     "model_name": "HTMLModel",
     "model_module_version": "1.5.0",
     "state": {
      "_dom_classes": [],
      "_model_module": "@jupyter-widgets/controls",
      "_model_module_version": "1.5.0",
      "_model_name": "HTMLModel",
      "_view_count": null,
      "_view_module": "@jupyter-widgets/controls",
      "_view_module_version": "1.5.0",
      "_view_name": "HTMLView",
      "description": "",
      "description_tooltip": null,
      "layout": "IPY_MODEL_0e1ec1d705184f31aefc8df96468f1a8",
      "placeholder": "​",
      "style": "IPY_MODEL_5a850197348847529e7db1a10c1f1f68",
      "value": " 114k/? [00:00&lt;00:00, 10.7MB/s]"
     }
    },
    "ef3e2722b2504c34abd5acdfe941c194": {
     "model_module": "@jupyter-widgets/base",
     "model_name": "LayoutModel",
     "model_module_version": "1.2.0",
     "state": {
      "_model_module": "@jupyter-widgets/base",
      "_model_module_version": "1.2.0",
      "_model_name": "LayoutModel",
      "_view_count": null,
      "_view_module": "@jupyter-widgets/base",
      "_view_module_version": "1.2.0",
      "_view_name": "LayoutView",
      "align_content": null,
      "align_items": null,
      "align_self": null,
      "border": null,
      "bottom": null,
      "display": null,
      "flex": null,
      "flex_flow": null,
      "grid_area": null,
      "grid_auto_columns": null,
      "grid_auto_flow": null,
      "grid_auto_rows": null,
      "grid_column": null,
      "grid_gap": null,
      "grid_row": null,
      "grid_template_areas": null,
      "grid_template_columns": null,
      "grid_template_rows": null,
      "height": null,
      "justify_content": null,
      "justify_items": null,
      "left": null,
      "margin": null,
      "max_height": null,
      "max_width": null,
      "min_height": null,
      "min_width": null,
      "object_fit": null,
      "object_position": null,
      "order": null,
      "overflow": null,
      "overflow_x": null,
      "overflow_y": null,
      "padding": null,
      "right": null,
      "top": null,
      "visibility": null,
      "width": null
     }
    },
    "02bb8719a1444f5db8538a862908b828": {
     "model_module": "@jupyter-widgets/base",
     "model_name": "LayoutModel",
     "model_module_version": "1.2.0",
     "state": {
      "_model_module": "@jupyter-widgets/base",
      "_model_module_version": "1.2.0",
      "_model_name": "LayoutModel",
      "_view_count": null,
      "_view_module": "@jupyter-widgets/base",
      "_view_module_version": "1.2.0",
      "_view_name": "LayoutView",
      "align_content": null,
      "align_items": null,
      "align_self": null,
      "border": null,
      "bottom": null,
      "display": null,
      "flex": null,
      "flex_flow": null,
      "grid_area": null,
      "grid_auto_columns": null,
      "grid_auto_flow": null,
      "grid_auto_rows": null,
      "grid_column": null,
      "grid_gap": null,
      "grid_row": null,
      "grid_template_areas": null,
      "grid_template_columns": null,
      "grid_template_rows": null,
      "height": null,
      "justify_content": null,
      "justify_items": null,
      "left": null,
      "margin": null,
      "max_height": null,
      "max_width": null,
      "min_height": null,
      "min_width": null,
      "object_fit": null,
      "object_position": null,
      "order": null,
      "overflow": null,
      "overflow_x": null,
      "overflow_y": null,
      "padding": null,
      "right": null,
      "top": null,
      "visibility": null,
      "width": null
     }
    },
    "2298ed0f32e049c99e1ec02ceb931bc0": {
     "model_module": "@jupyter-widgets/controls",
     "model_name": "DescriptionStyleModel",
     "model_module_version": "1.5.0",
     "state": {
      "_model_module": "@jupyter-widgets/controls",
      "_model_module_version": "1.5.0",
      "_model_name": "DescriptionStyleModel",
      "_view_count": null,
      "_view_module": "@jupyter-widgets/base",
      "_view_module_version": "1.2.0",
      "_view_name": "StyleView",
      "description_width": ""
     }
    },
    "c75ac322860a4520899c4ac0da87452b": {
     "model_module": "@jupyter-widgets/base",
     "model_name": "LayoutModel",
     "model_module_version": "1.2.0",
     "state": {
      "_model_module": "@jupyter-widgets/base",
      "_model_module_version": "1.2.0",
      "_model_name": "LayoutModel",
      "_view_count": null,
      "_view_module": "@jupyter-widgets/base",
      "_view_module_version": "1.2.0",
      "_view_name": "LayoutView",
      "align_content": null,
      "align_items": null,
      "align_self": null,
      "border": null,
      "bottom": null,
      "display": null,
      "flex": null,
      "flex_flow": null,
      "grid_area": null,
      "grid_auto_columns": null,
      "grid_auto_flow": null,
      "grid_auto_rows": null,
      "grid_column": null,
      "grid_gap": null,
      "grid_row": null,
      "grid_template_areas": null,
      "grid_template_columns": null,
      "grid_template_rows": null,
      "height": null,
      "justify_content": null,
      "justify_items": null,
      "left": null,
      "margin": null,
      "max_height": null,
      "max_width": null,
      "min_height": null,
      "min_width": null,
      "object_fit": null,
      "object_position": null,
      "order": null,
      "overflow": null,
      "overflow_x": null,
      "overflow_y": null,
      "padding": null,
      "right": null,
      "top": null,
      "visibility": null,
      "width": "20px"
     }
    },
    "ae7fd200e0694772b91ae49ef097130e": {
     "model_module": "@jupyter-widgets/controls",
     "model_name": "ProgressStyleModel",
     "model_module_version": "1.5.0",
     "state": {
      "_model_module": "@jupyter-widgets/controls",
      "_model_module_version": "1.5.0",
      "_model_name": "ProgressStyleModel",
      "_view_count": null,
      "_view_module": "@jupyter-widgets/base",
      "_view_module_version": "1.2.0",
      "_view_name": "StyleView",
      "bar_color": null,
      "description_width": ""
     }
    },
    "0e1ec1d705184f31aefc8df96468f1a8": {
     "model_module": "@jupyter-widgets/base",
     "model_name": "LayoutModel",
     "model_module_version": "1.2.0",
     "state": {
      "_model_module": "@jupyter-widgets/base",
      "_model_module_version": "1.2.0",
      "_model_name": "LayoutModel",
      "_view_count": null,
      "_view_module": "@jupyter-widgets/base",
      "_view_module_version": "1.2.0",
      "_view_name": "LayoutView",
      "align_content": null,
      "align_items": null,
      "align_self": null,
      "border": null,
      "bottom": null,
      "display": null,
      "flex": null,
      "flex_flow": null,
      "grid_area": null,
      "grid_auto_columns": null,
      "grid_auto_flow": null,
      "grid_auto_rows": null,
      "grid_column": null,
      "grid_gap": null,
      "grid_row": null,
      "grid_template_areas": null,
      "grid_template_columns": null,
      "grid_template_rows": null,
      "height": null,
      "justify_content": null,
      "justify_items": null,
      "left": null,
      "margin": null,
      "max_height": null,
      "max_width": null,
      "min_height": null,
      "min_width": null,
      "object_fit": null,
      "object_position": null,
      "order": null,
      "overflow": null,
      "overflow_x": null,
      "overflow_y": null,
      "padding": null,
      "right": null,
      "top": null,
      "visibility": null,
      "width": null
     }
    },
    "5a850197348847529e7db1a10c1f1f68": {
     "model_module": "@jupyter-widgets/controls",
     "model_name": "DescriptionStyleModel",
     "model_module_version": "1.5.0",
     "state": {
      "_model_module": "@jupyter-widgets/controls",
      "_model_module_version": "1.5.0",
      "_model_name": "DescriptionStyleModel",
      "_view_count": null,
      "_view_module": "@jupyter-widgets/base",
      "_view_module_version": "1.2.0",
      "_view_name": "StyleView",
      "description_width": ""
     }
    },
    "ec21fd6393a240ec9ea5dba5329927f7": {
     "model_module": "@jupyter-widgets/controls",
     "model_name": "HBoxModel",
     "model_module_version": "1.5.0",
     "state": {
      "_dom_classes": [],
      "_model_module": "@jupyter-widgets/controls",
      "_model_module_version": "1.5.0",
      "_model_name": "HBoxModel",
      "_view_count": null,
      "_view_module": "@jupyter-widgets/controls",
      "_view_module_version": "1.5.0",
      "_view_name": "HBoxView",
      "box_style": "",
      "children": [
       "IPY_MODEL_084852ffe9ed41b085821f91cf955d0a",
       "IPY_MODEL_9714139bb8fc449990b63c96584e086d",
       "IPY_MODEL_873aebd8810f40c8882d6041d2b4e1b6"
      ],
      "layout": "IPY_MODEL_95ea0497937b4841a3e8992b8182685b"
     }
    },
    "084852ffe9ed41b085821f91cf955d0a": {
     "model_module": "@jupyter-widgets/controls",
     "model_name": "HTMLModel",
     "model_module_version": "1.5.0",
     "state": {
      "_dom_classes": [],
      "_model_module": "@jupyter-widgets/controls",
      "_model_module_version": "1.5.0",
      "_model_name": "HTMLModel",
      "_view_count": null,
      "_view_module": "@jupyter-widgets/controls",
      "_view_module_version": "1.5.0",
      "_view_name": "HTMLView",
      "description": "",
      "description_tooltip": null,
      "layout": "IPY_MODEL_249e1001dbba41cdb9c366d0fa75d0b3",
      "placeholder": "​",
      "style": "IPY_MODEL_f337e068467c45a4862dae16473ae73c",
      "value": "sentence_bert_config.json: 100%"
     }
    },
    "9714139bb8fc449990b63c96584e086d": {
     "model_module": "@jupyter-widgets/controls",
     "model_name": "FloatProgressModel",
     "model_module_version": "1.5.0",
     "state": {
      "_dom_classes": [],
      "_model_module": "@jupyter-widgets/controls",
      "_model_module_version": "1.5.0",
      "_model_name": "FloatProgressModel",
      "_view_count": null,
      "_view_module": "@jupyter-widgets/controls",
      "_view_module_version": "1.5.0",
      "_view_name": "ProgressView",
      "bar_style": "success",
      "description": "",
      "description_tooltip": null,
      "layout": "IPY_MODEL_6a170a51ef63422f9013994b5b5564a5",
      "max": 53,
      "min": 0,
      "orientation": "horizontal",
      "style": "IPY_MODEL_cf89c8e5290445028a9c686ed060ceed",
      "value": 53
     }
    },
    "873aebd8810f40c8882d6041d2b4e1b6": {
     "model_module": "@jupyter-widgets/controls",
     "model_name": "HTMLModel",
     "model_module_version": "1.5.0",
     "state": {
      "_dom_classes": [],
      "_model_module": "@jupyter-widgets/controls",
      "_model_module_version": "1.5.0",
      "_model_name": "HTMLModel",
      "_view_count": null,
      "_view_module": "@jupyter-widgets/controls",
      "_view_module_version": "1.5.0",
      "_view_name": "HTMLView",
      "description": "",
      "description_tooltip": null,
      "layout": "IPY_MODEL_4e9aba63fa8a4c0eb4257dc2361ec0e2",
      "placeholder": "​",
      "style": "IPY_MODEL_19db5f7539734db3a4cd7f8df2a99f16",
      "value": " 53.0/53.0 [00:00&lt;00:00, 4.82kB/s]"
     }
    },
    "95ea0497937b4841a3e8992b8182685b": {
     "model_module": "@jupyter-widgets/base",
     "model_name": "LayoutModel",
     "model_module_version": "1.2.0",
     "state": {
      "_model_module": "@jupyter-widgets/base",
      "_model_module_version": "1.2.0",
      "_model_name": "LayoutModel",
      "_view_count": null,
      "_view_module": "@jupyter-widgets/base",
      "_view_module_version": "1.2.0",
      "_view_name": "LayoutView",
      "align_content": null,
      "align_items": null,
      "align_self": null,
      "border": null,
      "bottom": null,
      "display": null,
      "flex": null,
      "flex_flow": null,
      "grid_area": null,
      "grid_auto_columns": null,
      "grid_auto_flow": null,
      "grid_auto_rows": null,
      "grid_column": null,
      "grid_gap": null,
      "grid_row": null,
      "grid_template_areas": null,
      "grid_template_columns": null,
      "grid_template_rows": null,
      "height": null,
      "justify_content": null,
      "justify_items": null,
      "left": null,
      "margin": null,
      "max_height": null,
      "max_width": null,
      "min_height": null,
      "min_width": null,
      "object_fit": null,
      "object_position": null,
      "order": null,
      "overflow": null,
      "overflow_x": null,
      "overflow_y": null,
      "padding": null,
      "right": null,
      "top": null,
      "visibility": null,
      "width": null
     }
    },
    "249e1001dbba41cdb9c366d0fa75d0b3": {
     "model_module": "@jupyter-widgets/base",
     "model_name": "LayoutModel",
     "model_module_version": "1.2.0",
     "state": {
      "_model_module": "@jupyter-widgets/base",
      "_model_module_version": "1.2.0",
      "_model_name": "LayoutModel",
      "_view_count": null,
      "_view_module": "@jupyter-widgets/base",
      "_view_module_version": "1.2.0",
      "_view_name": "LayoutView",
      "align_content": null,
      "align_items": null,
      "align_self": null,
      "border": null,
      "bottom": null,
      "display": null,
      "flex": null,
      "flex_flow": null,
      "grid_area": null,
      "grid_auto_columns": null,
      "grid_auto_flow": null,
      "grid_auto_rows": null,
      "grid_column": null,
      "grid_gap": null,
      "grid_row": null,
      "grid_template_areas": null,
      "grid_template_columns": null,
      "grid_template_rows": null,
      "height": null,
      "justify_content": null,
      "justify_items": null,
      "left": null,
      "margin": null,
      "max_height": null,
      "max_width": null,
      "min_height": null,
      "min_width": null,
      "object_fit": null,
      "object_position": null,
      "order": null,
      "overflow": null,
      "overflow_x": null,
      "overflow_y": null,
      "padding": null,
      "right": null,
      "top": null,
      "visibility": null,
      "width": null
     }
    },
    "f337e068467c45a4862dae16473ae73c": {
     "model_module": "@jupyter-widgets/controls",
     "model_name": "DescriptionStyleModel",
     "model_module_version": "1.5.0",
     "state": {
      "_model_module": "@jupyter-widgets/controls",
      "_model_module_version": "1.5.0",
      "_model_name": "DescriptionStyleModel",
      "_view_count": null,
      "_view_module": "@jupyter-widgets/base",
      "_view_module_version": "1.2.0",
      "_view_name": "StyleView",
      "description_width": ""
     }
    },
    "6a170a51ef63422f9013994b5b5564a5": {
     "model_module": "@jupyter-widgets/base",
     "model_name": "LayoutModel",
     "model_module_version": "1.2.0",
     "state": {
      "_model_module": "@jupyter-widgets/base",
      "_model_module_version": "1.2.0",
      "_model_name": "LayoutModel",
      "_view_count": null,
      "_view_module": "@jupyter-widgets/base",
      "_view_module_version": "1.2.0",
      "_view_name": "LayoutView",
      "align_content": null,
      "align_items": null,
      "align_self": null,
      "border": null,
      "bottom": null,
      "display": null,
      "flex": null,
      "flex_flow": null,
      "grid_area": null,
      "grid_auto_columns": null,
      "grid_auto_flow": null,
      "grid_auto_rows": null,
      "grid_column": null,
      "grid_gap": null,
      "grid_row": null,
      "grid_template_areas": null,
      "grid_template_columns": null,
      "grid_template_rows": null,
      "height": null,
      "justify_content": null,
      "justify_items": null,
      "left": null,
      "margin": null,
      "max_height": null,
      "max_width": null,
      "min_height": null,
      "min_width": null,
      "object_fit": null,
      "object_position": null,
      "order": null,
      "overflow": null,
      "overflow_x": null,
      "overflow_y": null,
      "padding": null,
      "right": null,
      "top": null,
      "visibility": null,
      "width": null
     }
    },
    "cf89c8e5290445028a9c686ed060ceed": {
     "model_module": "@jupyter-widgets/controls",
     "model_name": "ProgressStyleModel",
     "model_module_version": "1.5.0",
     "state": {
      "_model_module": "@jupyter-widgets/controls",
      "_model_module_version": "1.5.0",
      "_model_name": "ProgressStyleModel",
      "_view_count": null,
      "_view_module": "@jupyter-widgets/base",
      "_view_module_version": "1.2.0",
      "_view_name": "StyleView",
      "bar_color": null,
      "description_width": ""
     }
    },
    "4e9aba63fa8a4c0eb4257dc2361ec0e2": {
     "model_module": "@jupyter-widgets/base",
     "model_name": "LayoutModel",
     "model_module_version": "1.2.0",
     "state": {
      "_model_module": "@jupyter-widgets/base",
      "_model_module_version": "1.2.0",
      "_model_name": "LayoutModel",
      "_view_count": null,
      "_view_module": "@jupyter-widgets/base",
      "_view_module_version": "1.2.0",
      "_view_name": "LayoutView",
      "align_content": null,
      "align_items": null,
      "align_self": null,
      "border": null,
      "bottom": null,
      "display": null,
      "flex": null,
      "flex_flow": null,
      "grid_area": null,
      "grid_auto_columns": null,
      "grid_auto_flow": null,
      "grid_auto_rows": null,
      "grid_column": null,
      "grid_gap": null,
      "grid_row": null,
      "grid_template_areas": null,
      "grid_template_columns": null,
      "grid_template_rows": null,
      "height": null,
      "justify_content": null,
      "justify_items": null,
      "left": null,
      "margin": null,
      "max_height": null,
      "max_width": null,
      "min_height": null,
      "min_width": null,
      "object_fit": null,
      "object_position": null,
      "order": null,
      "overflow": null,
      "overflow_x": null,
      "overflow_y": null,
      "padding": null,
      "right": null,
      "top": null,
      "visibility": null,
      "width": null
     }
    },
    "19db5f7539734db3a4cd7f8df2a99f16": {
     "model_module": "@jupyter-widgets/controls",
     "model_name": "DescriptionStyleModel",
     "model_module_version": "1.5.0",
     "state": {
      "_model_module": "@jupyter-widgets/controls",
      "_model_module_version": "1.5.0",
      "_model_name": "DescriptionStyleModel",
      "_view_count": null,
      "_view_module": "@jupyter-widgets/base",
      "_view_module_version": "1.2.0",
      "_view_name": "StyleView",
      "description_width": ""
     }
    },
    "3ba294f9898046d3a58f4e17a95043ed": {
     "model_module": "@jupyter-widgets/controls",
     "model_name": "HBoxModel",
     "model_module_version": "1.5.0",
     "state": {
      "_dom_classes": [],
      "_model_module": "@jupyter-widgets/controls",
      "_model_module_version": "1.5.0",
      "_model_name": "HBoxModel",
      "_view_count": null,
      "_view_module": "@jupyter-widgets/controls",
      "_view_module_version": "1.5.0",
      "_view_name": "HBoxView",
      "box_style": "",
      "children": [
       "IPY_MODEL_44cf7987d7364acba5a308392a16c6f3",
       "IPY_MODEL_8ad770435f704d18a3fa6da349ff07f7",
       "IPY_MODEL_809a827fdbc3499e835dea227fe9ac72"
      ],
      "layout": "IPY_MODEL_ed1c820e3a224e3f83977be7785a1c41"
     }
    },
    "44cf7987d7364acba5a308392a16c6f3": {
     "model_module": "@jupyter-widgets/controls",
     "model_name": "HTMLModel",
     "model_module_version": "1.5.0",
     "state": {
      "_dom_classes": [],
      "_model_module": "@jupyter-widgets/controls",
      "_model_module_version": "1.5.0",
      "_model_name": "HTMLModel",
      "_view_count": null,
      "_view_module": "@jupyter-widgets/controls",
      "_view_module_version": "1.5.0",
      "_view_name": "HTMLView",
      "description": "",
      "description_tooltip": null,
      "layout": "IPY_MODEL_3f227785d4004d328c78a68616ff60de",
      "placeholder": "​",
      "style": "IPY_MODEL_7d9f5edf83a4411892dd9611af58e953",
      "value": "config.json: 100%"
     }
    },
    "8ad770435f704d18a3fa6da349ff07f7": {
     "model_module": "@jupyter-widgets/controls",
     "model_name": "FloatProgressModel",
     "model_module_version": "1.5.0",
     "state": {
      "_dom_classes": [],
      "_model_module": "@jupyter-widgets/controls",
      "_model_module_version": "1.5.0",
      "_model_name": "FloatProgressModel",
      "_view_count": null,
      "_view_module": "@jupyter-widgets/controls",
      "_view_module_version": "1.5.0",
      "_view_name": "ProgressView",
      "bar_style": "success",
      "description": "",
      "description_tooltip": null,
      "layout": "IPY_MODEL_f87caeae1f0c468896e24991a20cf8a7",
      "max": 677,
      "min": 0,
      "orientation": "horizontal",
      "style": "IPY_MODEL_f6a5319ee2de4ad189be20a6ddeb0710",
      "value": 677
     }
    },
    "809a827fdbc3499e835dea227fe9ac72": {
     "model_module": "@jupyter-widgets/controls",
     "model_name": "HTMLModel",
     "model_module_version": "1.5.0",
     "state": {
      "_dom_classes": [],
      "_model_module": "@jupyter-widgets/controls",
      "_model_module_version": "1.5.0",
      "_model_name": "HTMLModel",
      "_view_count": null,
      "_view_module": "@jupyter-widgets/controls",
      "_view_module_version": "1.5.0",
      "_view_name": "HTMLView",
      "description": "",
      "description_tooltip": null,
      "layout": "IPY_MODEL_c855fbec7cb3428386274a3511f857c4",
      "placeholder": "​",
      "style": "IPY_MODEL_80a6247f237641a89b87c31bd58b3e03",
      "value": " 677/677 [00:00&lt;00:00, 64.1kB/s]"
     }
    },
    "ed1c820e3a224e3f83977be7785a1c41": {
     "model_module": "@jupyter-widgets/base",
     "model_name": "LayoutModel",
     "model_module_version": "1.2.0",
     "state": {
      "_model_module": "@jupyter-widgets/base",
      "_model_module_version": "1.2.0",
      "_model_name": "LayoutModel",
      "_view_count": null,
      "_view_module": "@jupyter-widgets/base",
      "_view_module_version": "1.2.0",
      "_view_name": "LayoutView",
      "align_content": null,
      "align_items": null,
      "align_self": null,
      "border": null,
      "bottom": null,
      "display": null,
      "flex": null,
      "flex_flow": null,
      "grid_area": null,
      "grid_auto_columns": null,
      "grid_auto_flow": null,
      "grid_auto_rows": null,
      "grid_column": null,
      "grid_gap": null,
      "grid_row": null,
      "grid_template_areas": null,
      "grid_template_columns": null,
      "grid_template_rows": null,
      "height": null,
      "justify_content": null,
      "justify_items": null,
      "left": null,
      "margin": null,
      "max_height": null,
      "max_width": null,
      "min_height": null,
      "min_width": null,
      "object_fit": null,
      "object_position": null,
      "order": null,
      "overflow": null,
      "overflow_x": null,
      "overflow_y": null,
      "padding": null,
      "right": null,
      "top": null,
      "visibility": null,
      "width": null
     }
    },
    "3f227785d4004d328c78a68616ff60de": {
     "model_module": "@jupyter-widgets/base",
     "model_name": "LayoutModel",
     "model_module_version": "1.2.0",
     "state": {
      "_model_module": "@jupyter-widgets/base",
      "_model_module_version": "1.2.0",
      "_model_name": "LayoutModel",
      "_view_count": null,
      "_view_module": "@jupyter-widgets/base",
      "_view_module_version": "1.2.0",
      "_view_name": "LayoutView",
      "align_content": null,
      "align_items": null,
      "align_self": null,
      "border": null,
      "bottom": null,
      "display": null,
      "flex": null,
      "flex_flow": null,
      "grid_area": null,
      "grid_auto_columns": null,
      "grid_auto_flow": null,
      "grid_auto_rows": null,
      "grid_column": null,
      "grid_gap": null,
      "grid_row": null,
      "grid_template_areas": null,
      "grid_template_columns": null,
      "grid_template_rows": null,
      "height": null,
      "justify_content": null,
      "justify_items": null,
      "left": null,
      "margin": null,
      "max_height": null,
      "max_width": null,
      "min_height": null,
      "min_width": null,
      "object_fit": null,
      "object_position": null,
      "order": null,
      "overflow": null,
      "overflow_x": null,
      "overflow_y": null,
      "padding": null,
      "right": null,
      "top": null,
      "visibility": null,
      "width": null
     }
    },
    "7d9f5edf83a4411892dd9611af58e953": {
     "model_module": "@jupyter-widgets/controls",
     "model_name": "DescriptionStyleModel",
     "model_module_version": "1.5.0",
     "state": {
      "_model_module": "@jupyter-widgets/controls",
      "_model_module_version": "1.5.0",
      "_model_name": "DescriptionStyleModel",
      "_view_count": null,
      "_view_module": "@jupyter-widgets/base",
      "_view_module_version": "1.2.0",
      "_view_name": "StyleView",
      "description_width": ""
     }
    },
    "f87caeae1f0c468896e24991a20cf8a7": {
     "model_module": "@jupyter-widgets/base",
     "model_name": "LayoutModel",
     "model_module_version": "1.2.0",
     "state": {
      "_model_module": "@jupyter-widgets/base",
      "_model_module_version": "1.2.0",
      "_model_name": "LayoutModel",
      "_view_count": null,
      "_view_module": "@jupyter-widgets/base",
      "_view_module_version": "1.2.0",
      "_view_name": "LayoutView",
      "align_content": null,
      "align_items": null,
      "align_self": null,
      "border": null,
      "bottom": null,
      "display": null,
      "flex": null,
      "flex_flow": null,
      "grid_area": null,
      "grid_auto_columns": null,
      "grid_auto_flow": null,
      "grid_auto_rows": null,
      "grid_column": null,
      "grid_gap": null,
      "grid_row": null,
      "grid_template_areas": null,
      "grid_template_columns": null,
      "grid_template_rows": null,
      "height": null,
      "justify_content": null,
      "justify_items": null,
      "left": null,
      "margin": null,
      "max_height": null,
      "max_width": null,
      "min_height": null,
      "min_width": null,
      "object_fit": null,
      "object_position": null,
      "order": null,
      "overflow": null,
      "overflow_x": null,
      "overflow_y": null,
      "padding": null,
      "right": null,
      "top": null,
      "visibility": null,
      "width": null
     }
    },
    "f6a5319ee2de4ad189be20a6ddeb0710": {
     "model_module": "@jupyter-widgets/controls",
     "model_name": "ProgressStyleModel",
     "model_module_version": "1.5.0",
     "state": {
      "_model_module": "@jupyter-widgets/controls",
      "_model_module_version": "1.5.0",
      "_model_name": "ProgressStyleModel",
      "_view_count": null,
      "_view_module": "@jupyter-widgets/base",
      "_view_module_version": "1.2.0",
      "_view_name": "StyleView",
      "bar_color": null,
      "description_width": ""
     }
    },
    "c855fbec7cb3428386274a3511f857c4": {
     "model_module": "@jupyter-widgets/base",
     "model_name": "LayoutModel",
     "model_module_version": "1.2.0",
     "state": {
      "_model_module": "@jupyter-widgets/base",
      "_model_module_version": "1.2.0",
      "_model_name": "LayoutModel",
      "_view_count": null,
      "_view_module": "@jupyter-widgets/base",
      "_view_module_version": "1.2.0",
      "_view_name": "LayoutView",
      "align_content": null,
      "align_items": null,
      "align_self": null,
      "border": null,
      "bottom": null,
      "display": null,
      "flex": null,
      "flex_flow": null,
      "grid_area": null,
      "grid_auto_columns": null,
      "grid_auto_flow": null,
      "grid_auto_rows": null,
      "grid_column": null,
      "grid_gap": null,
      "grid_row": null,
      "grid_template_areas": null,
      "grid_template_columns": null,
      "grid_template_rows": null,
      "height": null,
      "justify_content": null,
      "justify_items": null,
      "left": null,
      "margin": null,
      "max_height": null,
      "max_width": null,
      "min_height": null,
      "min_width": null,
      "object_fit": null,
      "object_position": null,
      "order": null,
      "overflow": null,
      "overflow_x": null,
      "overflow_y": null,
      "padding": null,
      "right": null,
      "top": null,
      "visibility": null,
      "width": null
     }
    },
    "80a6247f237641a89b87c31bd58b3e03": {
     "model_module": "@jupyter-widgets/controls",
     "model_name": "DescriptionStyleModel",
     "model_module_version": "1.5.0",
     "state": {
      "_model_module": "@jupyter-widgets/controls",
      "_model_module_version": "1.5.0",
      "_model_name": "DescriptionStyleModel",
      "_view_count": null,
      "_view_module": "@jupyter-widgets/base",
      "_view_module_version": "1.2.0",
      "_view_name": "StyleView",
      "description_width": ""
     }
    },
    "a18ce5d79c7746d6932e8b2a320761fb": {
     "model_module": "@jupyter-widgets/controls",
     "model_name": "HBoxModel",
     "model_module_version": "1.5.0",
     "state": {
      "_dom_classes": [],
      "_model_module": "@jupyter-widgets/controls",
      "_model_module_version": "1.5.0",
      "_model_name": "HBoxModel",
      "_view_count": null,
      "_view_module": "@jupyter-widgets/controls",
      "_view_module_version": "1.5.0",
      "_view_name": "HBoxView",
      "box_style": "",
      "children": [
       "IPY_MODEL_b905d58f8a6841b3a505df8a68d53199",
       "IPY_MODEL_1cdfff3bd6ec4dda92be622e7efd57da",
       "IPY_MODEL_4f0f9e39101a4accaea9cbc0301e3509"
      ],
      "layout": "IPY_MODEL_6a8261fa730d4ff997faa4ed3e51e9d3"
     }
    },
    "b905d58f8a6841b3a505df8a68d53199": {
     "model_module": "@jupyter-widgets/controls",
     "model_name": "HTMLModel",
     "model_module_version": "1.5.0",
     "state": {
      "_dom_classes": [],
      "_model_module": "@jupyter-widgets/controls",
      "_model_module_version": "1.5.0",
      "_model_name": "HTMLModel",
      "_view_count": null,
      "_view_module": "@jupyter-widgets/controls",
      "_view_module_version": "1.5.0",
      "_view_name": "HTMLView",
      "description": "",
      "description_tooltip": null,
      "layout": "IPY_MODEL_d724affb48414ce6a15bad9fcb7007e4",
      "placeholder": "​",
      "style": "IPY_MODEL_030a106570304525aa45427e388e1a41",
      "value": "model.safetensors: 100%"
     }
    },
    "1cdfff3bd6ec4dda92be622e7efd57da": {
     "model_module": "@jupyter-widgets/controls",
     "model_name": "FloatProgressModel",
     "model_module_version": "1.5.0",
     "state": {
      "_dom_classes": [],
      "_model_module": "@jupyter-widgets/controls",
      "_model_module_version": "1.5.0",
      "_model_name": "FloatProgressModel",
      "_view_count": null,
      "_view_module": "@jupyter-widgets/controls",
      "_view_module_version": "1.5.0",
      "_view_name": "ProgressView",
      "bar_style": "success",
      "description": "",
      "description_tooltip": null,
      "layout": "IPY_MODEL_2da645314fa9478cb4111399f6a8a983",
      "max": 670328392,
      "min": 0,
      "orientation": "horizontal",
      "style": "IPY_MODEL_7dbc29e770204630907f2ed744d098d8",
      "value": 670328392
     }
    },
    "4f0f9e39101a4accaea9cbc0301e3509": {
     "model_module": "@jupyter-widgets/controls",
     "model_name": "HTMLModel",
     "model_module_version": "1.5.0",
     "state": {
      "_dom_classes": [],
      "_model_module": "@jupyter-widgets/controls",
      "_model_module_version": "1.5.0",
      "_model_name": "HTMLModel",
      "_view_count": null,
      "_view_module": "@jupyter-widgets/controls",
      "_view_module_version": "1.5.0",
      "_view_name": "HTMLView",
      "description": "",
      "description_tooltip": null,
      "layout": "IPY_MODEL_8d322515cda44ddb89e2c486b6108407",
      "placeholder": "​",
      "style": "IPY_MODEL_df93646759a940fc838e1ad2133066b9",
      "value": " 670M/670M [00:10&lt;00:00, 157MB/s]"
     }
    },
    "6a8261fa730d4ff997faa4ed3e51e9d3": {
     "model_module": "@jupyter-widgets/base",
     "model_name": "LayoutModel",
     "model_module_version": "1.2.0",
     "state": {
      "_model_module": "@jupyter-widgets/base",
      "_model_module_version": "1.2.0",
      "_model_name": "LayoutModel",
      "_view_count": null,
      "_view_module": "@jupyter-widgets/base",
      "_view_module_version": "1.2.0",
      "_view_name": "LayoutView",
      "align_content": null,
      "align_items": null,
      "align_self": null,
      "border": null,
      "bottom": null,
      "display": null,
      "flex": null,
      "flex_flow": null,
      "grid_area": null,
      "grid_auto_columns": null,
      "grid_auto_flow": null,
      "grid_auto_rows": null,
      "grid_column": null,
      "grid_gap": null,
      "grid_row": null,
      "grid_template_areas": null,
      "grid_template_columns": null,
      "grid_template_rows": null,
      "height": null,
      "justify_content": null,
      "justify_items": null,
      "left": null,
      "margin": null,
      "max_height": null,
      "max_width": null,
      "min_height": null,
      "min_width": null,
      "object_fit": null,
      "object_position": null,
      "order": null,
      "overflow": null,
      "overflow_x": null,
      "overflow_y": null,
      "padding": null,
      "right": null,
      "top": null,
      "visibility": null,
      "width": null
     }
    },
    "d724affb48414ce6a15bad9fcb7007e4": {
     "model_module": "@jupyter-widgets/base",
     "model_name": "LayoutModel",
     "model_module_version": "1.2.0",
     "state": {
      "_model_module": "@jupyter-widgets/base",
      "_model_module_version": "1.2.0",
      "_model_name": "LayoutModel",
      "_view_count": null,
      "_view_module": "@jupyter-widgets/base",
      "_view_module_version": "1.2.0",
      "_view_name": "LayoutView",
      "align_content": null,
      "align_items": null,
      "align_self": null,
      "border": null,
      "bottom": null,
      "display": null,
      "flex": null,
      "flex_flow": null,
      "grid_area": null,
      "grid_auto_columns": null,
      "grid_auto_flow": null,
      "grid_auto_rows": null,
      "grid_column": null,
      "grid_gap": null,
      "grid_row": null,
      "grid_template_areas": null,
      "grid_template_columns": null,
      "grid_template_rows": null,
      "height": null,
      "justify_content": null,
      "justify_items": null,
      "left": null,
      "margin": null,
      "max_height": null,
      "max_width": null,
      "min_height": null,
      "min_width": null,
      "object_fit": null,
      "object_position": null,
      "order": null,
      "overflow": null,
      "overflow_x": null,
      "overflow_y": null,
      "padding": null,
      "right": null,
      "top": null,
      "visibility": null,
      "width": null
     }
    },
    "030a106570304525aa45427e388e1a41": {
     "model_module": "@jupyter-widgets/controls",
     "model_name": "DescriptionStyleModel",
     "model_module_version": "1.5.0",
     "state": {
      "_model_module": "@jupyter-widgets/controls",
      "_model_module_version": "1.5.0",
      "_model_name": "DescriptionStyleModel",
      "_view_count": null,
      "_view_module": "@jupyter-widgets/base",
      "_view_module_version": "1.2.0",
      "_view_name": "StyleView",
      "description_width": ""
     }
    },
    "2da645314fa9478cb4111399f6a8a983": {
     "model_module": "@jupyter-widgets/base",
     "model_name": "LayoutModel",
     "model_module_version": "1.2.0",
     "state": {
      "_model_module": "@jupyter-widgets/base",
      "_model_module_version": "1.2.0",
      "_model_name": "LayoutModel",
      "_view_count": null,
      "_view_module": "@jupyter-widgets/base",
      "_view_module_version": "1.2.0",
      "_view_name": "LayoutView",
      "align_content": null,
      "align_items": null,
      "align_self": null,
      "border": null,
      "bottom": null,
      "display": null,
      "flex": null,
      "flex_flow": null,
      "grid_area": null,
      "grid_auto_columns": null,
      "grid_auto_flow": null,
      "grid_auto_rows": null,
      "grid_column": null,
      "grid_gap": null,
      "grid_row": null,
      "grid_template_areas": null,
      "grid_template_columns": null,
      "grid_template_rows": null,
      "height": null,
      "justify_content": null,
      "justify_items": null,
      "left": null,
      "margin": null,
      "max_height": null,
      "max_width": null,
      "min_height": null,
      "min_width": null,
      "object_fit": null,
      "object_position": null,
      "order": null,
      "overflow": null,
      "overflow_x": null,
      "overflow_y": null,
      "padding": null,
      "right": null,
      "top": null,
      "visibility": null,
      "width": null
     }
    },
    "7dbc29e770204630907f2ed744d098d8": {
     "model_module": "@jupyter-widgets/controls",
     "model_name": "ProgressStyleModel",
     "model_module_version": "1.5.0",
     "state": {
      "_model_module": "@jupyter-widgets/controls",
      "_model_module_version": "1.5.0",
      "_model_name": "ProgressStyleModel",
      "_view_count": null,
      "_view_module": "@jupyter-widgets/base",
      "_view_module_version": "1.2.0",
      "_view_name": "StyleView",
      "bar_color": null,
      "description_width": ""
     }
    },
    "8d322515cda44ddb89e2c486b6108407": {
     "model_module": "@jupyter-widgets/base",
     "model_name": "LayoutModel",
     "model_module_version": "1.2.0",
     "state": {
      "_model_module": "@jupyter-widgets/base",
      "_model_module_version": "1.2.0",
      "_model_name": "LayoutModel",
      "_view_count": null,
      "_view_module": "@jupyter-widgets/base",
      "_view_module_version": "1.2.0",
      "_view_name": "LayoutView",
      "align_content": null,
      "align_items": null,
      "align_self": null,
      "border": null,
      "bottom": null,
      "display": null,
      "flex": null,
      "flex_flow": null,
      "grid_area": null,
      "grid_auto_columns": null,
      "grid_auto_flow": null,
      "grid_auto_rows": null,
      "grid_column": null,
      "grid_gap": null,
      "grid_row": null,
      "grid_template_areas": null,
      "grid_template_columns": null,
      "grid_template_rows": null,
      "height": null,
      "justify_content": null,
      "justify_items": null,
      "left": null,
      "margin": null,
      "max_height": null,
      "max_width": null,
      "min_height": null,
      "min_width": null,
      "object_fit": null,
      "object_position": null,
      "order": null,
      "overflow": null,
      "overflow_x": null,
      "overflow_y": null,
      "padding": null,
      "right": null,
      "top": null,
      "visibility": null,
      "width": null
     }
    },
    "df93646759a940fc838e1ad2133066b9": {
     "model_module": "@jupyter-widgets/controls",
     "model_name": "DescriptionStyleModel",
     "model_module_version": "1.5.0",
     "state": {
      "_model_module": "@jupyter-widgets/controls",
      "_model_module_version": "1.5.0",
      "_model_name": "DescriptionStyleModel",
      "_view_count": null,
      "_view_module": "@jupyter-widgets/base",
      "_view_module_version": "1.2.0",
      "_view_name": "StyleView",
      "description_width": ""
     }
    },
    "b2c079e225ce4d1b905e343890fd2495": {
     "model_module": "@jupyter-widgets/controls",
     "model_name": "HBoxModel",
     "model_module_version": "1.5.0",
     "state": {
      "_dom_classes": [],
      "_model_module": "@jupyter-widgets/controls",
      "_model_module_version": "1.5.0",
      "_model_name": "HBoxModel",
      "_view_count": null,
      "_view_module": "@jupyter-widgets/controls",
      "_view_module_version": "1.5.0",
      "_view_name": "HBoxView",
      "box_style": "",
      "children": [
       "IPY_MODEL_ce9e3a860f2b43d6a0b11e9adc70dd5e",
       "IPY_MODEL_4a6383f9d10646a69f79ac30f05b6597",
       "IPY_MODEL_b3d66860b4fc4a5680c865ff4b38d600"
      ],
      "layout": "IPY_MODEL_0cce157f09174660bd8864befb59d50d"
     }
    },
    "ce9e3a860f2b43d6a0b11e9adc70dd5e": {
     "model_module": "@jupyter-widgets/controls",
     "model_name": "HTMLModel",
     "model_module_version": "1.5.0",
     "state": {
      "_dom_classes": [],
      "_model_module": "@jupyter-widgets/controls",
      "_model_module_version": "1.5.0",
      "_model_name": "HTMLModel",
      "_view_count": null,
      "_view_module": "@jupyter-widgets/controls",
      "_view_module_version": "1.5.0",
      "_view_name": "HTMLView",
      "description": "",
      "description_tooltip": null,
      "layout": "IPY_MODEL_87961513fe5d4d3b9c59d1a152f0b0b8",
      "placeholder": "​",
      "style": "IPY_MODEL_9ac1b2ccd32c4be4b70561943ed1baaa",
      "value": "tokenizer_config.json: "
     }
    },
    "4a6383f9d10646a69f79ac30f05b6597": {
     "model_module": "@jupyter-widgets/controls",
     "model_name": "FloatProgressModel",
     "model_module_version": "1.5.0",
     "state": {
      "_dom_classes": [],
      "_model_module": "@jupyter-widgets/controls",
      "_model_module_version": "1.5.0",
      "_model_name": "FloatProgressModel",
      "_view_count": null,
      "_view_module": "@jupyter-widgets/controls",
      "_view_module_version": "1.5.0",
      "_view_name": "ProgressView",
      "bar_style": "success",
      "description": "",
      "description_tooltip": null,
      "layout": "IPY_MODEL_35564f1069e443c9ae04b0b14be70df6",
      "max": 1,
      "min": 0,
      "orientation": "horizontal",
      "style": "IPY_MODEL_411f2721e2eb40e79acc1f750012acb0",
      "value": 1
     }
    },
    "b3d66860b4fc4a5680c865ff4b38d600": {
     "model_module": "@jupyter-widgets/controls",
     "model_name": "HTMLModel",
     "model_module_version": "1.5.0",
     "state": {
      "_dom_classes": [],
      "_model_module": "@jupyter-widgets/controls",
      "_model_module_version": "1.5.0",
      "_model_name": "HTMLModel",
      "_view_count": null,
      "_view_module": "@jupyter-widgets/controls",
      "_view_module_version": "1.5.0",
      "_view_name": "HTMLView",
      "description": "",
      "description_tooltip": null,
      "layout": "IPY_MODEL_4ed052a9e18743c39f50f759251a4fd5",
      "placeholder": "​",
      "style": "IPY_MODEL_d51558dd1210498d97f02b3c2f209dda",
      "value": " 1.24k/? [00:00&lt;00:00, 118kB/s]"
     }
    },
    "0cce157f09174660bd8864befb59d50d": {
     "model_module": "@jupyter-widgets/base",
     "model_name": "LayoutModel",
     "model_module_version": "1.2.0",
     "state": {
      "_model_module": "@jupyter-widgets/base",
      "_model_module_version": "1.2.0",
      "_model_name": "LayoutModel",
      "_view_count": null,
      "_view_module": "@jupyter-widgets/base",
      "_view_module_version": "1.2.0",
      "_view_name": "LayoutView",
      "align_content": null,
      "align_items": null,
      "align_self": null,
      "border": null,
      "bottom": null,
      "display": null,
      "flex": null,
      "flex_flow": null,
      "grid_area": null,
      "grid_auto_columns": null,
      "grid_auto_flow": null,
      "grid_auto_rows": null,
      "grid_column": null,
      "grid_gap": null,
      "grid_row": null,
      "grid_template_areas": null,
      "grid_template_columns": null,
      "grid_template_rows": null,
      "height": null,
      "justify_content": null,
      "justify_items": null,
      "left": null,
      "margin": null,
      "max_height": null,
      "max_width": null,
      "min_height": null,
      "min_width": null,
      "object_fit": null,
      "object_position": null,
      "order": null,
      "overflow": null,
      "overflow_x": null,
      "overflow_y": null,
      "padding": null,
      "right": null,
      "top": null,
      "visibility": null,
      "width": null
     }
    },
    "87961513fe5d4d3b9c59d1a152f0b0b8": {
     "model_module": "@jupyter-widgets/base",
     "model_name": "LayoutModel",
     "model_module_version": "1.2.0",
     "state": {
      "_model_module": "@jupyter-widgets/base",
      "_model_module_version": "1.2.0",
      "_model_name": "LayoutModel",
      "_view_count": null,
      "_view_module": "@jupyter-widgets/base",
      "_view_module_version": "1.2.0",
      "_view_name": "LayoutView",
      "align_content": null,
      "align_items": null,
      "align_self": null,
      "border": null,
      "bottom": null,
      "display": null,
      "flex": null,
      "flex_flow": null,
      "grid_area": null,
      "grid_auto_columns": null,
      "grid_auto_flow": null,
      "grid_auto_rows": null,
      "grid_column": null,
      "grid_gap": null,
      "grid_row": null,
      "grid_template_areas": null,
      "grid_template_columns": null,
      "grid_template_rows": null,
      "height": null,
      "justify_content": null,
      "justify_items": null,
      "left": null,
      "margin": null,
      "max_height": null,
      "max_width": null,
      "min_height": null,
      "min_width": null,
      "object_fit": null,
      "object_position": null,
      "order": null,
      "overflow": null,
      "overflow_x": null,
      "overflow_y": null,
      "padding": null,
      "right": null,
      "top": null,
      "visibility": null,
      "width": null
     }
    },
    "9ac1b2ccd32c4be4b70561943ed1baaa": {
     "model_module": "@jupyter-widgets/controls",
     "model_name": "DescriptionStyleModel",
     "model_module_version": "1.5.0",
     "state": {
      "_model_module": "@jupyter-widgets/controls",
      "_model_module_version": "1.5.0",
      "_model_name": "DescriptionStyleModel",
      "_view_count": null,
      "_view_module": "@jupyter-widgets/base",
      "_view_module_version": "1.2.0",
      "_view_name": "StyleView",
      "description_width": ""
     }
    },
    "35564f1069e443c9ae04b0b14be70df6": {
     "model_module": "@jupyter-widgets/base",
     "model_name": "LayoutModel",
     "model_module_version": "1.2.0",
     "state": {
      "_model_module": "@jupyter-widgets/base",
      "_model_module_version": "1.2.0",
      "_model_name": "LayoutModel",
      "_view_count": null,
      "_view_module": "@jupyter-widgets/base",
      "_view_module_version": "1.2.0",
      "_view_name": "LayoutView",
      "align_content": null,
      "align_items": null,
      "align_self": null,
      "border": null,
      "bottom": null,
      "display": null,
      "flex": null,
      "flex_flow": null,
      "grid_area": null,
      "grid_auto_columns": null,
      "grid_auto_flow": null,
      "grid_auto_rows": null,
      "grid_column": null,
      "grid_gap": null,
      "grid_row": null,
      "grid_template_areas": null,
      "grid_template_columns": null,
      "grid_template_rows": null,
      "height": null,
      "justify_content": null,
      "justify_items": null,
      "left": null,
      "margin": null,
      "max_height": null,
      "max_width": null,
      "min_height": null,
      "min_width": null,
      "object_fit": null,
      "object_position": null,
      "order": null,
      "overflow": null,
      "overflow_x": null,
      "overflow_y": null,
      "padding": null,
      "right": null,
      "top": null,
      "visibility": null,
      "width": "20px"
     }
    },
    "411f2721e2eb40e79acc1f750012acb0": {
     "model_module": "@jupyter-widgets/controls",
     "model_name": "ProgressStyleModel",
     "model_module_version": "1.5.0",
     "state": {
      "_model_module": "@jupyter-widgets/controls",
      "_model_module_version": "1.5.0",
      "_model_name": "ProgressStyleModel",
      "_view_count": null,
      "_view_module": "@jupyter-widgets/base",
      "_view_module_version": "1.2.0",
      "_view_name": "StyleView",
      "bar_color": null,
      "description_width": ""
     }
    },
    "4ed052a9e18743c39f50f759251a4fd5": {
     "model_module": "@jupyter-widgets/base",
     "model_name": "LayoutModel",
     "model_module_version": "1.2.0",
     "state": {
      "_model_module": "@jupyter-widgets/base",
      "_model_module_version": "1.2.0",
      "_model_name": "LayoutModel",
      "_view_count": null,
      "_view_module": "@jupyter-widgets/base",
      "_view_module_version": "1.2.0",
      "_view_name": "LayoutView",
      "align_content": null,
      "align_items": null,
      "align_self": null,
      "border": null,
      "bottom": null,
      "display": null,
      "flex": null,
      "flex_flow": null,
      "grid_area": null,
      "grid_auto_columns": null,
      "grid_auto_flow": null,
      "grid_auto_rows": null,
      "grid_column": null,
      "grid_gap": null,
      "grid_row": null,
      "grid_template_areas": null,
      "grid_template_columns": null,
      "grid_template_rows": null,
      "height": null,
      "justify_content": null,
      "justify_items": null,
      "left": null,
      "margin": null,
      "max_height": null,
      "max_width": null,
      "min_height": null,
      "min_width": null,
      "object_fit": null,
      "object_position": null,
      "order": null,
      "overflow": null,
      "overflow_x": null,
      "overflow_y": null,
      "padding": null,
      "right": null,
      "top": null,
      "visibility": null,
      "width": null
     }
    },
    "d51558dd1210498d97f02b3c2f209dda": {
     "model_module": "@jupyter-widgets/controls",
     "model_name": "DescriptionStyleModel",
     "model_module_version": "1.5.0",
     "state": {
      "_model_module": "@jupyter-widgets/controls",
      "_model_module_version": "1.5.0",
      "_model_name": "DescriptionStyleModel",
      "_view_count": null,
      "_view_module": "@jupyter-widgets/base",
      "_view_module_version": "1.2.0",
      "_view_name": "StyleView",
      "description_width": ""
     }
    },
    "3a2347f1087e45f58aa04c8e166b7609": {
     "model_module": "@jupyter-widgets/controls",
     "model_name": "HBoxModel",
     "model_module_version": "1.5.0",
     "state": {
      "_dom_classes": [],
      "_model_module": "@jupyter-widgets/controls",
      "_model_module_version": "1.5.0",
      "_model_name": "HBoxModel",
      "_view_count": null,
      "_view_module": "@jupyter-widgets/controls",
      "_view_module_version": "1.5.0",
      "_view_name": "HBoxView",
      "box_style": "",
      "children": [
       "IPY_MODEL_90691ea7d8a4404082546ff44684fa3b",
       "IPY_MODEL_c608a36acfd04388a91e79115b45ec73",
       "IPY_MODEL_7d6268a08b8044c6835846a6c8106da3"
      ],
      "layout": "IPY_MODEL_dcf191cf95154ee3b19bec1b20477844"
     }
    },
    "90691ea7d8a4404082546ff44684fa3b": {
     "model_module": "@jupyter-widgets/controls",
     "model_name": "HTMLModel",
     "model_module_version": "1.5.0",
     "state": {
      "_dom_classes": [],
      "_model_module": "@jupyter-widgets/controls",
      "_model_module_version": "1.5.0",
      "_model_name": "HTMLModel",
      "_view_count": null,
      "_view_module": "@jupyter-widgets/controls",
      "_view_module_version": "1.5.0",
      "_view_name": "HTMLView",
      "description": "",
      "description_tooltip": null,
      "layout": "IPY_MODEL_782ab966d42d4c769ab5a2fc53929bf5",
      "placeholder": "​",
      "style": "IPY_MODEL_680df6f3670c483bb8e3164eaf97a0d0",
      "value": "vocab.txt: "
     }
    },
    "c608a36acfd04388a91e79115b45ec73": {
     "model_module": "@jupyter-widgets/controls",
     "model_name": "FloatProgressModel",
     "model_module_version": "1.5.0",
     "state": {
      "_dom_classes": [],
      "_model_module": "@jupyter-widgets/controls",
      "_model_module_version": "1.5.0",
      "_model_name": "FloatProgressModel",
      "_view_count": null,
      "_view_module": "@jupyter-widgets/controls",
      "_view_module_version": "1.5.0",
      "_view_name": "ProgressView",
      "bar_style": "success",
      "description": "",
      "description_tooltip": null,
      "layout": "IPY_MODEL_0158be5b1b3e4d13b5356327d13ab588",
      "max": 1,
      "min": 0,
      "orientation": "horizontal",
      "style": "IPY_MODEL_468d923d2e634c0a9e73efd29e2c9178",
      "value": 1
     }
    },
    "7d6268a08b8044c6835846a6c8106da3": {
     "model_module": "@jupyter-widgets/controls",
     "model_name": "HTMLModel",
     "model_module_version": "1.5.0",
     "state": {
      "_dom_classes": [],
      "_model_module": "@jupyter-widgets/controls",
      "_model_module_version": "1.5.0",
      "_model_name": "HTMLModel",
      "_view_count": null,
      "_view_module": "@jupyter-widgets/controls",
      "_view_module_version": "1.5.0",
      "_view_name": "HTMLView",
      "description": "",
      "description_tooltip": null,
      "layout": "IPY_MODEL_83549cde934d4559938556b8d4781159",
      "placeholder": "​",
      "style": "IPY_MODEL_f00c9fca50c64ee78f086a0215b4f5a5",
      "value": " 232k/? [00:00&lt;00:00, 16.7MB/s]"
     }
    },
    "dcf191cf95154ee3b19bec1b20477844": {
     "model_module": "@jupyter-widgets/base",
     "model_name": "LayoutModel",
     "model_module_version": "1.2.0",
     "state": {
      "_model_module": "@jupyter-widgets/base",
      "_model_module_version": "1.2.0",
      "_model_name": "LayoutModel",
      "_view_count": null,
      "_view_module": "@jupyter-widgets/base",
      "_view_module_version": "1.2.0",
      "_view_name": "LayoutView",
      "align_content": null,
      "align_items": null,
      "align_self": null,
      "border": null,
      "bottom": null,
      "display": null,
      "flex": null,
      "flex_flow": null,
      "grid_area": null,
      "grid_auto_columns": null,
      "grid_auto_flow": null,
      "grid_auto_rows": null,
      "grid_column": null,
      "grid_gap": null,
      "grid_row": null,
      "grid_template_areas": null,
      "grid_template_columns": null,
      "grid_template_rows": null,
      "height": null,
      "justify_content": null,
      "justify_items": null,
      "left": null,
      "margin": null,
      "max_height": null,
      "max_width": null,
      "min_height": null,
      "min_width": null,
      "object_fit": null,
      "object_position": null,
      "order": null,
      "overflow": null,
      "overflow_x": null,
      "overflow_y": null,
      "padding": null,
      "right": null,
      "top": null,
      "visibility": null,
      "width": null
     }
    },
    "782ab966d42d4c769ab5a2fc53929bf5": {
     "model_module": "@jupyter-widgets/base",
     "model_name": "LayoutModel",
     "model_module_version": "1.2.0",
     "state": {
      "_model_module": "@jupyter-widgets/base",
      "_model_module_version": "1.2.0",
      "_model_name": "LayoutModel",
      "_view_count": null,
      "_view_module": "@jupyter-widgets/base",
      "_view_module_version": "1.2.0",
      "_view_name": "LayoutView",
      "align_content": null,
      "align_items": null,
      "align_self": null,
      "border": null,
      "bottom": null,
      "display": null,
      "flex": null,
      "flex_flow": null,
      "grid_area": null,
      "grid_auto_columns": null,
      "grid_auto_flow": null,
      "grid_auto_rows": null,
      "grid_column": null,
      "grid_gap": null,
      "grid_row": null,
      "grid_template_areas": null,
      "grid_template_columns": null,
      "grid_template_rows": null,
      "height": null,
      "justify_content": null,
      "justify_items": null,
      "left": null,
      "margin": null,
      "max_height": null,
      "max_width": null,
      "min_height": null,
      "min_width": null,
      "object_fit": null,
      "object_position": null,
      "order": null,
      "overflow": null,
      "overflow_x": null,
      "overflow_y": null,
      "padding": null,
      "right": null,
      "top": null,
      "visibility": null,
      "width": null
     }
    },
    "680df6f3670c483bb8e3164eaf97a0d0": {
     "model_module": "@jupyter-widgets/controls",
     "model_name": "DescriptionStyleModel",
     "model_module_version": "1.5.0",
     "state": {
      "_model_module": "@jupyter-widgets/controls",
      "_model_module_version": "1.5.0",
      "_model_name": "DescriptionStyleModel",
      "_view_count": null,
      "_view_module": "@jupyter-widgets/base",
      "_view_module_version": "1.2.0",
      "_view_name": "StyleView",
      "description_width": ""
     }
    },
    "0158be5b1b3e4d13b5356327d13ab588": {
     "model_module": "@jupyter-widgets/base",
     "model_name": "LayoutModel",
     "model_module_version": "1.2.0",
     "state": {
      "_model_module": "@jupyter-widgets/base",
      "_model_module_version": "1.2.0",
      "_model_name": "LayoutModel",
      "_view_count": null,
      "_view_module": "@jupyter-widgets/base",
      "_view_module_version": "1.2.0",
      "_view_name": "LayoutView",
      "align_content": null,
      "align_items": null,
      "align_self": null,
      "border": null,
      "bottom": null,
      "display": null,
      "flex": null,
      "flex_flow": null,
      "grid_area": null,
      "grid_auto_columns": null,
      "grid_auto_flow": null,
      "grid_auto_rows": null,
      "grid_column": null,
      "grid_gap": null,
      "grid_row": null,
      "grid_template_areas": null,
      "grid_template_columns": null,
      "grid_template_rows": null,
      "height": null,
      "justify_content": null,
      "justify_items": null,
      "left": null,
      "margin": null,
      "max_height": null,
      "max_width": null,
      "min_height": null,
      "min_width": null,
      "object_fit": null,
      "object_position": null,
      "order": null,
      "overflow": null,
      "overflow_x": null,
      "overflow_y": null,
      "padding": null,
      "right": null,
      "top": null,
      "visibility": null,
      "width": "20px"
     }
    },
    "468d923d2e634c0a9e73efd29e2c9178": {
     "model_module": "@jupyter-widgets/controls",
     "model_name": "ProgressStyleModel",
     "model_module_version": "1.5.0",
     "state": {
      "_model_module": "@jupyter-widgets/controls",
      "_model_module_version": "1.5.0",
      "_model_name": "ProgressStyleModel",
      "_view_count": null,
      "_view_module": "@jupyter-widgets/base",
      "_view_module_version": "1.2.0",
      "_view_name": "StyleView",
      "bar_color": null,
      "description_width": ""
     }
    },
    "83549cde934d4559938556b8d4781159": {
     "model_module": "@jupyter-widgets/base",
     "model_name": "LayoutModel",
     "model_module_version": "1.2.0",
     "state": {
      "_model_module": "@jupyter-widgets/base",
      "_model_module_version": "1.2.0",
      "_model_name": "LayoutModel",
      "_view_count": null,
      "_view_module": "@jupyter-widgets/base",
      "_view_module_version": "1.2.0",
      "_view_name": "LayoutView",
      "align_content": null,
      "align_items": null,
      "align_self": null,
      "border": null,
      "bottom": null,
      "display": null,
      "flex": null,
      "flex_flow": null,
      "grid_area": null,
      "grid_auto_columns": null,
      "grid_auto_flow": null,
      "grid_auto_rows": null,
      "grid_column": null,
      "grid_gap": null,
      "grid_row": null,
      "grid_template_areas": null,
      "grid_template_columns": null,
      "grid_template_rows": null,
      "height": null,
      "justify_content": null,
      "justify_items": null,
      "left": null,
      "margin": null,
      "max_height": null,
      "max_width": null,
      "min_height": null,
      "min_width": null,
      "object_fit": null,
      "object_position": null,
      "order": null,
      "overflow": null,
      "overflow_x": null,
      "overflow_y": null,
      "padding": null,
      "right": null,
      "top": null,
      "visibility": null,
      "width": null
     }
    },
    "f00c9fca50c64ee78f086a0215b4f5a5": {
     "model_module": "@jupyter-widgets/controls",
     "model_name": "DescriptionStyleModel",
     "model_module_version": "1.5.0",
     "state": {
      "_model_module": "@jupyter-widgets/controls",
      "_model_module_version": "1.5.0",
      "_model_name": "DescriptionStyleModel",
      "_view_count": null,
      "_view_module": "@jupyter-widgets/base",
      "_view_module_version": "1.2.0",
      "_view_name": "StyleView",
      "description_width": ""
     }
    },
    "d3146668c7f4460a9d0008781875b7b4": {
     "model_module": "@jupyter-widgets/controls",
     "model_name": "HBoxModel",
     "model_module_version": "1.5.0",
     "state": {
      "_dom_classes": [],
      "_model_module": "@jupyter-widgets/controls",
      "_model_module_version": "1.5.0",
      "_model_name": "HBoxModel",
      "_view_count": null,
      "_view_module": "@jupyter-widgets/controls",
      "_view_module_version": "1.5.0",
      "_view_name": "HBoxView",
      "box_style": "",
      "children": [
       "IPY_MODEL_515193786e064733be6a82ae3e6d7b46",
       "IPY_MODEL_68ad68d4cc204943be4ef6624487df16",
       "IPY_MODEL_b9d85835763841b989a584b55cadd803"
      ],
      "layout": "IPY_MODEL_777899c7aded444a829adaac4c9f05d6"
     }
    },
    "515193786e064733be6a82ae3e6d7b46": {
     "model_module": "@jupyter-widgets/controls",
     "model_name": "HTMLModel",
     "model_module_version": "1.5.0",
     "state": {
      "_dom_classes": [],
      "_model_module": "@jupyter-widgets/controls",
      "_model_module_version": "1.5.0",
      "_model_name": "HTMLModel",
      "_view_count": null,
      "_view_module": "@jupyter-widgets/controls",
      "_view_module_version": "1.5.0",
      "_view_name": "HTMLView",
      "description": "",
      "description_tooltip": null,
      "layout": "IPY_MODEL_150c58ad391048d3a189862edcc69ee1",
      "placeholder": "​",
      "style": "IPY_MODEL_926785c7450747ff8ebe2a58c6a402c2",
      "value": "tokenizer.json: "
     }
    },
    "68ad68d4cc204943be4ef6624487df16": {
     "model_module": "@jupyter-widgets/controls",
     "model_name": "FloatProgressModel",
     "model_module_version": "1.5.0",
     "state": {
      "_dom_classes": [],
      "_model_module": "@jupyter-widgets/controls",
      "_model_module_version": "1.5.0",
      "_model_name": "FloatProgressModel",
      "_view_count": null,
      "_view_module": "@jupyter-widgets/controls",
      "_view_module_version": "1.5.0",
      "_view_name": "ProgressView",
      "bar_style": "success",
      "description": "",
      "description_tooltip": null,
      "layout": "IPY_MODEL_17d2c3f6ae68483eb543096d9c2607b9",
      "max": 1,
      "min": 0,
      "orientation": "horizontal",
      "style": "IPY_MODEL_a9e2360ecc0c4417ac655aa3c702a48f",
      "value": 1
     }
    },
    "b9d85835763841b989a584b55cadd803": {
     "model_module": "@jupyter-widgets/controls",
     "model_name": "HTMLModel",
     "model_module_version": "1.5.0",
     "state": {
      "_dom_classes": [],
      "_model_module": "@jupyter-widgets/controls",
      "_model_module_version": "1.5.0",
      "_model_name": "HTMLModel",
      "_view_count": null,
      "_view_module": "@jupyter-widgets/controls",
      "_view_module_version": "1.5.0",
      "_view_name": "HTMLView",
      "description": "",
      "description_tooltip": null,
      "layout": "IPY_MODEL_85b14208607540c5a713692d6fd4ccfe",
      "placeholder": "​",
      "style": "IPY_MODEL_5bcaefb285d34839a9041d33100a52df",
      "value": " 711k/? [00:00&lt;00:00, 28.5MB/s]"
     }
    },
    "777899c7aded444a829adaac4c9f05d6": {
     "model_module": "@jupyter-widgets/base",
     "model_name": "LayoutModel",
     "model_module_version": "1.2.0",
     "state": {
      "_model_module": "@jupyter-widgets/base",
      "_model_module_version": "1.2.0",
      "_model_name": "LayoutModel",
      "_view_count": null,
      "_view_module": "@jupyter-widgets/base",
      "_view_module_version": "1.2.0",
      "_view_name": "LayoutView",
      "align_content": null,
      "align_items": null,
      "align_self": null,
      "border": null,
      "bottom": null,
      "display": null,
      "flex": null,
      "flex_flow": null,
      "grid_area": null,
      "grid_auto_columns": null,
      "grid_auto_flow": null,
      "grid_auto_rows": null,
      "grid_column": null,
      "grid_gap": null,
      "grid_row": null,
      "grid_template_areas": null,
      "grid_template_columns": null,
      "grid_template_rows": null,
      "height": null,
      "justify_content": null,
      "justify_items": null,
      "left": null,
      "margin": null,
      "max_height": null,
      "max_width": null,
      "min_height": null,
      "min_width": null,
      "object_fit": null,
      "object_position": null,
      "order": null,
      "overflow": null,
      "overflow_x": null,
      "overflow_y": null,
      "padding": null,
      "right": null,
      "top": null,
      "visibility": null,
      "width": null
     }
    },
    "150c58ad391048d3a189862edcc69ee1": {
     "model_module": "@jupyter-widgets/base",
     "model_name": "LayoutModel",
     "model_module_version": "1.2.0",
     "state": {
      "_model_module": "@jupyter-widgets/base",
      "_model_module_version": "1.2.0",
      "_model_name": "LayoutModel",
      "_view_count": null,
      "_view_module": "@jupyter-widgets/base",
      "_view_module_version": "1.2.0",
      "_view_name": "LayoutView",
      "align_content": null,
      "align_items": null,
      "align_self": null,
      "border": null,
      "bottom": null,
      "display": null,
      "flex": null,
      "flex_flow": null,
      "grid_area": null,
      "grid_auto_columns": null,
      "grid_auto_flow": null,
      "grid_auto_rows": null,
      "grid_column": null,
      "grid_gap": null,
      "grid_row": null,
      "grid_template_areas": null,
      "grid_template_columns": null,
      "grid_template_rows": null,
      "height": null,
      "justify_content": null,
      "justify_items": null,
      "left": null,
      "margin": null,
      "max_height": null,
      "max_width": null,
      "min_height": null,
      "min_width": null,
      "object_fit": null,
      "object_position": null,
      "order": null,
      "overflow": null,
      "overflow_x": null,
      "overflow_y": null,
      "padding": null,
      "right": null,
      "top": null,
      "visibility": null,
      "width": null
     }
    },
    "926785c7450747ff8ebe2a58c6a402c2": {
     "model_module": "@jupyter-widgets/controls",
     "model_name": "DescriptionStyleModel",
     "model_module_version": "1.5.0",
     "state": {
      "_model_module": "@jupyter-widgets/controls",
      "_model_module_version": "1.5.0",
      "_model_name": "DescriptionStyleModel",
      "_view_count": null,
      "_view_module": "@jupyter-widgets/base",
      "_view_module_version": "1.2.0",
      "_view_name": "StyleView",
      "description_width": ""
     }
    },
    "17d2c3f6ae68483eb543096d9c2607b9": {
     "model_module": "@jupyter-widgets/base",
     "model_name": "LayoutModel",
     "model_module_version": "1.2.0",
     "state": {
      "_model_module": "@jupyter-widgets/base",
      "_model_module_version": "1.2.0",
      "_model_name": "LayoutModel",
      "_view_count": null,
      "_view_module": "@jupyter-widgets/base",
      "_view_module_version": "1.2.0",
      "_view_name": "LayoutView",
      "align_content": null,
      "align_items": null,
      "align_self": null,
      "border": null,
      "bottom": null,
      "display": null,
      "flex": null,
      "flex_flow": null,
      "grid_area": null,
      "grid_auto_columns": null,
      "grid_auto_flow": null,
      "grid_auto_rows": null,
      "grid_column": null,
      "grid_gap": null,
      "grid_row": null,
      "grid_template_areas": null,
      "grid_template_columns": null,
      "grid_template_rows": null,
      "height": null,
      "justify_content": null,
      "justify_items": null,
      "left": null,
      "margin": null,
      "max_height": null,
      "max_width": null,
      "min_height": null,
      "min_width": null,
      "object_fit": null,
      "object_position": null,
      "order": null,
      "overflow": null,
      "overflow_x": null,
      "overflow_y": null,
      "padding": null,
      "right": null,
      "top": null,
      "visibility": null,
      "width": "20px"
     }
    },
    "a9e2360ecc0c4417ac655aa3c702a48f": {
     "model_module": "@jupyter-widgets/controls",
     "model_name": "ProgressStyleModel",
     "model_module_version": "1.5.0",
     "state": {
      "_model_module": "@jupyter-widgets/controls",
      "_model_module_version": "1.5.0",
      "_model_name": "ProgressStyleModel",
      "_view_count": null,
      "_view_module": "@jupyter-widgets/base",
      "_view_module_version": "1.2.0",
      "_view_name": "StyleView",
      "bar_color": null,
      "description_width": ""
     }
    },
    "85b14208607540c5a713692d6fd4ccfe": {
     "model_module": "@jupyter-widgets/base",
     "model_name": "LayoutModel",
     "model_module_version": "1.2.0",
     "state": {
      "_model_module": "@jupyter-widgets/base",
      "_model_module_version": "1.2.0",
      "_model_name": "LayoutModel",
      "_view_count": null,
      "_view_module": "@jupyter-widgets/base",
      "_view_module_version": "1.2.0",
      "_view_name": "LayoutView",
      "align_content": null,
      "align_items": null,
      "align_self": null,
      "border": null,
      "bottom": null,
      "display": null,
      "flex": null,
      "flex_flow": null,
      "grid_area": null,
      "grid_auto_columns": null,
      "grid_auto_flow": null,
      "grid_auto_rows": null,
      "grid_column": null,
      "grid_gap": null,
      "grid_row": null,
      "grid_template_areas": null,
      "grid_template_columns": null,
      "grid_template_rows": null,
      "height": null,
      "justify_content": null,
      "justify_items": null,
      "left": null,
      "margin": null,
      "max_height": null,
      "max_width": null,
      "min_height": null,
      "min_width": null,
      "object_fit": null,
      "object_position": null,
      "order": null,
      "overflow": null,
      "overflow_x": null,
      "overflow_y": null,
      "padding": null,
      "right": null,
      "top": null,
      "visibility": null,
      "width": null
     }
    },
    "5bcaefb285d34839a9041d33100a52df": {
     "model_module": "@jupyter-widgets/controls",
     "model_name": "DescriptionStyleModel",
     "model_module_version": "1.5.0",
     "state": {
      "_model_module": "@jupyter-widgets/controls",
      "_model_module_version": "1.5.0",
      "_model_name": "DescriptionStyleModel",
      "_view_count": null,
      "_view_module": "@jupyter-widgets/base",
      "_view_module_version": "1.2.0",
      "_view_name": "StyleView",
      "description_width": ""
     }
    },
    "90859410deed4b82be8c363690bf2052": {
     "model_module": "@jupyter-widgets/controls",
     "model_name": "HBoxModel",
     "model_module_version": "1.5.0",
     "state": {
      "_dom_classes": [],
      "_model_module": "@jupyter-widgets/controls",
      "_model_module_version": "1.5.0",
      "_model_name": "HBoxModel",
      "_view_count": null,
      "_view_module": "@jupyter-widgets/controls",
      "_view_module_version": "1.5.0",
      "_view_name": "HBoxView",
      "box_style": "",
      "children": [
       "IPY_MODEL_997babc96fd14949a2bb3bdf984f90a8",
       "IPY_MODEL_b25029e79e934e27b50c5bc344f597fe",
       "IPY_MODEL_6dbd6cb32a6e4421a49be83ca6c1c91b"
      ],
      "layout": "IPY_MODEL_eb292fc1bc6f4069b0ba4a3f8b38cf7e"
     }
    },
    "997babc96fd14949a2bb3bdf984f90a8": {
     "model_module": "@jupyter-widgets/controls",
     "model_name": "HTMLModel",
     "model_module_version": "1.5.0",
     "state": {
      "_dom_classes": [],
      "_model_module": "@jupyter-widgets/controls",
      "_model_module_version": "1.5.0",
      "_model_name": "HTMLModel",
      "_view_count": null,
      "_view_module": "@jupyter-widgets/controls",
      "_view_module_version": "1.5.0",
      "_view_name": "HTMLView",
      "description": "",
      "description_tooltip": null,
      "layout": "IPY_MODEL_9b1922f3218d4b159692e92ceb66b8e8",
      "placeholder": "​",
      "style": "IPY_MODEL_2c6ce03c96ab4fc69b2901037b49fb0c",
      "value": "special_tokens_map.json: 100%"
     }
    },
    "b25029e79e934e27b50c5bc344f597fe": {
     "model_module": "@jupyter-widgets/controls",
     "model_name": "FloatProgressModel",
     "model_module_version": "1.5.0",
     "state": {
      "_dom_classes": [],
      "_model_module": "@jupyter-widgets/controls",
      "_model_module_version": "1.5.0",
      "_model_name": "FloatProgressModel",
      "_view_count": null,
      "_view_module": "@jupyter-widgets/controls",
      "_view_module_version": "1.5.0",
      "_view_name": "ProgressView",
      "bar_style": "success",
      "description": "",
      "description_tooltip": null,
      "layout": "IPY_MODEL_0e89c82570ba4ddfa756d6c7d60617bc",
      "max": 695,
      "min": 0,
      "orientation": "horizontal",
      "style": "IPY_MODEL_0ab3deb983d64dc58007347835fdc2c8",
      "value": 695
     }
    },
    "6dbd6cb32a6e4421a49be83ca6c1c91b": {
     "model_module": "@jupyter-widgets/controls",
     "model_name": "HTMLModel",
     "model_module_version": "1.5.0",
     "state": {
      "_dom_classes": [],
      "_model_module": "@jupyter-widgets/controls",
      "_model_module_version": "1.5.0",
      "_model_name": "HTMLModel",
      "_view_count": null,
      "_view_module": "@jupyter-widgets/controls",
      "_view_module_version": "1.5.0",
      "_view_name": "HTMLView",
      "description": "",
      "description_tooltip": null,
      "layout": "IPY_MODEL_824e3c45336741d29755cf30ad64b8f9",
      "placeholder": "​",
      "style": "IPY_MODEL_89b6027824c5452b983d117ac6db50ca",
      "value": " 695/695 [00:00&lt;00:00, 73.8kB/s]"
     }
    },
    "eb292fc1bc6f4069b0ba4a3f8b38cf7e": {
     "model_module": "@jupyter-widgets/base",
     "model_name": "LayoutModel",
     "model_module_version": "1.2.0",
     "state": {
      "_model_module": "@jupyter-widgets/base",
      "_model_module_version": "1.2.0",
      "_model_name": "LayoutModel",
      "_view_count": null,
      "_view_module": "@jupyter-widgets/base",
      "_view_module_version": "1.2.0",
      "_view_name": "LayoutView",
      "align_content": null,
      "align_items": null,
      "align_self": null,
      "border": null,
      "bottom": null,
      "display": null,
      "flex": null,
      "flex_flow": null,
      "grid_area": null,
      "grid_auto_columns": null,
      "grid_auto_flow": null,
      "grid_auto_rows": null,
      "grid_column": null,
      "grid_gap": null,
      "grid_row": null,
      "grid_template_areas": null,
      "grid_template_columns": null,
      "grid_template_rows": null,
      "height": null,
      "justify_content": null,
      "justify_items": null,
      "left": null,
      "margin": null,
      "max_height": null,
      "max_width": null,
      "min_height": null,
      "min_width": null,
      "object_fit": null,
      "object_position": null,
      "order": null,
      "overflow": null,
      "overflow_x": null,
      "overflow_y": null,
      "padding": null,
      "right": null,
      "top": null,
      "visibility": null,
      "width": null
     }
    },
    "9b1922f3218d4b159692e92ceb66b8e8": {
     "model_module": "@jupyter-widgets/base",
     "model_name": "LayoutModel",
     "model_module_version": "1.2.0",
     "state": {
      "_model_module": "@jupyter-widgets/base",
      "_model_module_version": "1.2.0",
      "_model_name": "LayoutModel",
      "_view_count": null,
      "_view_module": "@jupyter-widgets/base",
      "_view_module_version": "1.2.0",
      "_view_name": "LayoutView",
      "align_content": null,
      "align_items": null,
      "align_self": null,
      "border": null,
      "bottom": null,
      "display": null,
      "flex": null,
      "flex_flow": null,
      "grid_area": null,
      "grid_auto_columns": null,
      "grid_auto_flow": null,
      "grid_auto_rows": null,
      "grid_column": null,
      "grid_gap": null,
      "grid_row": null,
      "grid_template_areas": null,
      "grid_template_columns": null,
      "grid_template_rows": null,
      "height": null,
      "justify_content": null,
      "justify_items": null,
      "left": null,
      "margin": null,
      "max_height": null,
      "max_width": null,
      "min_height": null,
      "min_width": null,
      "object_fit": null,
      "object_position": null,
      "order": null,
      "overflow": null,
      "overflow_x": null,
      "overflow_y": null,
      "padding": null,
      "right": null,
      "top": null,
      "visibility": null,
      "width": null
     }
    },
    "2c6ce03c96ab4fc69b2901037b49fb0c": {
     "model_module": "@jupyter-widgets/controls",
     "model_name": "DescriptionStyleModel",
     "model_module_version": "1.5.0",
     "state": {
      "_model_module": "@jupyter-widgets/controls",
      "_model_module_version": "1.5.0",
      "_model_name": "DescriptionStyleModel",
      "_view_count": null,
      "_view_module": "@jupyter-widgets/base",
      "_view_module_version": "1.2.0",
      "_view_name": "StyleView",
      "description_width": ""
     }
    },
    "0e89c82570ba4ddfa756d6c7d60617bc": {
     "model_module": "@jupyter-widgets/base",
     "model_name": "LayoutModel",
     "model_module_version": "1.2.0",
     "state": {
      "_model_module": "@jupyter-widgets/base",
      "_model_module_version": "1.2.0",
      "_model_name": "LayoutModel",
      "_view_count": null,
      "_view_module": "@jupyter-widgets/base",
      "_view_module_version": "1.2.0",
      "_view_name": "LayoutView",
      "align_content": null,
      "align_items": null,
      "align_self": null,
      "border": null,
      "bottom": null,
      "display": null,
      "flex": null,
      "flex_flow": null,
      "grid_area": null,
      "grid_auto_columns": null,
      "grid_auto_flow": null,
      "grid_auto_rows": null,
      "grid_column": null,
      "grid_gap": null,
      "grid_row": null,
      "grid_template_areas": null,
      "grid_template_columns": null,
      "grid_template_rows": null,
      "height": null,
      "justify_content": null,
      "justify_items": null,
      "left": null,
      "margin": null,
      "max_height": null,
      "max_width": null,
      "min_height": null,
      "min_width": null,
      "object_fit": null,
      "object_position": null,
      "order": null,
      "overflow": null,
      "overflow_x": null,
      "overflow_y": null,
      "padding": null,
      "right": null,
      "top": null,
      "visibility": null,
      "width": null
     }
    },
    "0ab3deb983d64dc58007347835fdc2c8": {
     "model_module": "@jupyter-widgets/controls",
     "model_name": "ProgressStyleModel",
     "model_module_version": "1.5.0",
     "state": {
      "_model_module": "@jupyter-widgets/controls",
      "_model_module_version": "1.5.0",
      "_model_name": "ProgressStyleModel",
      "_view_count": null,
      "_view_module": "@jupyter-widgets/base",
      "_view_module_version": "1.2.0",
      "_view_name": "StyleView",
      "bar_color": null,
      "description_width": ""
     }
    },
    "824e3c45336741d29755cf30ad64b8f9": {
     "model_module": "@jupyter-widgets/base",
     "model_name": "LayoutModel",
     "model_module_version": "1.2.0",
     "state": {
      "_model_module": "@jupyter-widgets/base",
      "_model_module_version": "1.2.0",
      "_model_name": "LayoutModel",
      "_view_count": null,
      "_view_module": "@jupyter-widgets/base",
      "_view_module_version": "1.2.0",
      "_view_name": "LayoutView",
      "align_content": null,
      "align_items": null,
      "align_self": null,
      "border": null,
      "bottom": null,
      "display": null,
      "flex": null,
      "flex_flow": null,
      "grid_area": null,
      "grid_auto_columns": null,
      "grid_auto_flow": null,
      "grid_auto_rows": null,
      "grid_column": null,
      "grid_gap": null,
      "grid_row": null,
      "grid_template_areas": null,
      "grid_template_columns": null,
      "grid_template_rows": null,
      "height": null,
      "justify_content": null,
      "justify_items": null,
      "left": null,
      "margin": null,
      "max_height": null,
      "max_width": null,
      "min_height": null,
      "min_width": null,
      "object_fit": null,
      "object_position": null,
      "order": null,
      "overflow": null,
      "overflow_x": null,
      "overflow_y": null,
      "padding": null,
      "right": null,
      "top": null,
      "visibility": null,
      "width": null
     }
    },
    "89b6027824c5452b983d117ac6db50ca": {
     "model_module": "@jupyter-widgets/controls",
     "model_name": "DescriptionStyleModel",
     "model_module_version": "1.5.0",
     "state": {
      "_model_module": "@jupyter-widgets/controls",
      "_model_module_version": "1.5.0",
      "_model_name": "DescriptionStyleModel",
      "_view_count": null,
      "_view_module": "@jupyter-widgets/base",
      "_view_module_version": "1.2.0",
      "_view_name": "StyleView",
      "description_width": ""
     }
    },
    "0f4f3f486b574a5e926f273db51e89ce": {
     "model_module": "@jupyter-widgets/controls",
     "model_name": "HBoxModel",
     "model_module_version": "1.5.0",
     "state": {
      "_dom_classes": [],
      "_model_module": "@jupyter-widgets/controls",
      "_model_module_version": "1.5.0",
      "_model_name": "HBoxModel",
      "_view_count": null,
      "_view_module": "@jupyter-widgets/controls",
      "_view_module_version": "1.5.0",
      "_view_name": "HBoxView",
      "box_style": "",
      "children": [
       "IPY_MODEL_56cecb1b26424869ac55933b28e8f0d4",
       "IPY_MODEL_dafb1110a1564867a6a1543c2afeaeb9",
       "IPY_MODEL_ccf3cbee3d974479a6bba042313d0d43"
      ],
      "layout": "IPY_MODEL_25b0fc6cba0d4e9d8e9295344c8ec699"
     }
    },
    "56cecb1b26424869ac55933b28e8f0d4": {
     "model_module": "@jupyter-widgets/controls",
     "model_name": "HTMLModel",
     "model_module_version": "1.5.0",
     "state": {
      "_dom_classes": [],
      "_model_module": "@jupyter-widgets/controls",
      "_model_module_version": "1.5.0",
      "_model_name": "HTMLModel",
      "_view_count": null,
      "_view_module": "@jupyter-widgets/controls",
      "_view_module_version": "1.5.0",
      "_view_name": "HTMLView",
      "description": "",
      "description_tooltip": null,
      "layout": "IPY_MODEL_413df1a7f6534016b10de9097818a465",
      "placeholder": "​",
      "style": "IPY_MODEL_ec901e6780c94d9ba41f9ceaae6d84f1",
      "value": "config.json: 100%"
     }
    },
    "dafb1110a1564867a6a1543c2afeaeb9": {
     "model_module": "@jupyter-widgets/controls",
     "model_name": "FloatProgressModel",
     "model_module_version": "1.5.0",
     "state": {
      "_dom_classes": [],
      "_model_module": "@jupyter-widgets/controls",
      "_model_module_version": "1.5.0",
      "_model_name": "FloatProgressModel",
      "_view_count": null,
      "_view_module": "@jupyter-widgets/controls",
      "_view_module_version": "1.5.0",
      "_view_name": "ProgressView",
      "bar_style": "success",
      "description": "",
      "description_tooltip": null,
      "layout": "IPY_MODEL_a2a9f8df3f6c4660b7b5afb8f2189b0b",
      "max": 297,
      "min": 0,
      "orientation": "horizontal",
      "style": "IPY_MODEL_2035c91befa1433385fa0d9b1af52638",
      "value": 297
     }
    },
    "ccf3cbee3d974479a6bba042313d0d43": {
     "model_module": "@jupyter-widgets/controls",
     "model_name": "HTMLModel",
     "model_module_version": "1.5.0",
     "state": {
      "_dom_classes": [],
      "_model_module": "@jupyter-widgets/controls",
      "_model_module_version": "1.5.0",
      "_model_name": "HTMLModel",
      "_view_count": null,
      "_view_module": "@jupyter-widgets/controls",
      "_view_module_version": "1.5.0",
      "_view_name": "HTMLView",
      "description": "",
      "description_tooltip": null,
      "layout": "IPY_MODEL_d4188a8063784f9d9d14829c706d849b",
      "placeholder": "​",
      "style": "IPY_MODEL_80078ebe110b465da94c077ec08bf0db",
      "value": " 297/297 [00:00&lt;00:00, 32.6kB/s]"
     }
    },
    "25b0fc6cba0d4e9d8e9295344c8ec699": {
     "model_module": "@jupyter-widgets/base",
     "model_name": "LayoutModel",
     "model_module_version": "1.2.0",
     "state": {
      "_model_module": "@jupyter-widgets/base",
      "_model_module_version": "1.2.0",
      "_model_name": "LayoutModel",
      "_view_count": null,
      "_view_module": "@jupyter-widgets/base",
      "_view_module_version": "1.2.0",
      "_view_name": "LayoutView",
      "align_content": null,
      "align_items": null,
      "align_self": null,
      "border": null,
      "bottom": null,
      "display": null,
      "flex": null,
      "flex_flow": null,
      "grid_area": null,
      "grid_auto_columns": null,
      "grid_auto_flow": null,
      "grid_auto_rows": null,
      "grid_column": null,
      "grid_gap": null,
      "grid_row": null,
      "grid_template_areas": null,
      "grid_template_columns": null,
      "grid_template_rows": null,
      "height": null,
      "justify_content": null,
      "justify_items": null,
      "left": null,
      "margin": null,
      "max_height": null,
      "max_width": null,
      "min_height": null,
      "min_width": null,
      "object_fit": null,
      "object_position": null,
      "order": null,
      "overflow": null,
      "overflow_x": null,
      "overflow_y": null,
      "padding": null,
      "right": null,
      "top": null,
      "visibility": null,
      "width": null
     }
    },
    "413df1a7f6534016b10de9097818a465": {
     "model_module": "@jupyter-widgets/base",
     "model_name": "LayoutModel",
     "model_module_version": "1.2.0",
     "state": {
      "_model_module": "@jupyter-widgets/base",
      "_model_module_version": "1.2.0",
      "_model_name": "LayoutModel",
      "_view_count": null,
      "_view_module": "@jupyter-widgets/base",
      "_view_module_version": "1.2.0",
      "_view_name": "LayoutView",
      "align_content": null,
      "align_items": null,
      "align_self": null,
      "border": null,
      "bottom": null,
      "display": null,
      "flex": null,
      "flex_flow": null,
      "grid_area": null,
      "grid_auto_columns": null,
      "grid_auto_flow": null,
      "grid_auto_rows": null,
      "grid_column": null,
      "grid_gap": null,
      "grid_row": null,
      "grid_template_areas": null,
      "grid_template_columns": null,
      "grid_template_rows": null,
      "height": null,
      "justify_content": null,
      "justify_items": null,
      "left": null,
      "margin": null,
      "max_height": null,
      "max_width": null,
      "min_height": null,
      "min_width": null,
      "object_fit": null,
      "object_position": null,
      "order": null,
      "overflow": null,
      "overflow_x": null,
      "overflow_y": null,
      "padding": null,
      "right": null,
      "top": null,
      "visibility": null,
      "width": null
     }
    },
    "ec901e6780c94d9ba41f9ceaae6d84f1": {
     "model_module": "@jupyter-widgets/controls",
     "model_name": "DescriptionStyleModel",
     "model_module_version": "1.5.0",
     "state": {
      "_model_module": "@jupyter-widgets/controls",
      "_model_module_version": "1.5.0",
      "_model_name": "DescriptionStyleModel",
      "_view_count": null,
      "_view_module": "@jupyter-widgets/base",
      "_view_module_version": "1.2.0",
      "_view_name": "StyleView",
      "description_width": ""
     }
    },
    "a2a9f8df3f6c4660b7b5afb8f2189b0b": {
     "model_module": "@jupyter-widgets/base",
     "model_name": "LayoutModel",
     "model_module_version": "1.2.0",
     "state": {
      "_model_module": "@jupyter-widgets/base",
      "_model_module_version": "1.2.0",
      "_model_name": "LayoutModel",
      "_view_count": null,
      "_view_module": "@jupyter-widgets/base",
      "_view_module_version": "1.2.0",
      "_view_name": "LayoutView",
      "align_content": null,
      "align_items": null,
      "align_self": null,
      "border": null,
      "bottom": null,
      "display": null,
      "flex": null,
      "flex_flow": null,
      "grid_area": null,
      "grid_auto_columns": null,
      "grid_auto_flow": null,
      "grid_auto_rows": null,
      "grid_column": null,
      "grid_gap": null,
      "grid_row": null,
      "grid_template_areas": null,
      "grid_template_columns": null,
      "grid_template_rows": null,
      "height": null,
      "justify_content": null,
      "justify_items": null,
      "left": null,
      "margin": null,
      "max_height": null,
      "max_width": null,
      "min_height": null,
      "min_width": null,
      "object_fit": null,
      "object_position": null,
      "order": null,
      "overflow": null,
      "overflow_x": null,
      "overflow_y": null,
      "padding": null,
      "right": null,
      "top": null,
      "visibility": null,
      "width": null
     }
    },
    "2035c91befa1433385fa0d9b1af52638": {
     "model_module": "@jupyter-widgets/controls",
     "model_name": "ProgressStyleModel",
     "model_module_version": "1.5.0",
     "state": {
      "_model_module": "@jupyter-widgets/controls",
      "_model_module_version": "1.5.0",
      "_model_name": "ProgressStyleModel",
      "_view_count": null,
      "_view_module": "@jupyter-widgets/base",
      "_view_module_version": "1.2.0",
      "_view_name": "StyleView",
      "bar_color": null,
      "description_width": ""
     }
    },
    "d4188a8063784f9d9d14829c706d849b": {
     "model_module": "@jupyter-widgets/base",
     "model_name": "LayoutModel",
     "model_module_version": "1.2.0",
     "state": {
      "_model_module": "@jupyter-widgets/base",
      "_model_module_version": "1.2.0",
      "_model_name": "LayoutModel",
      "_view_count": null,
      "_view_module": "@jupyter-widgets/base",
      "_view_module_version": "1.2.0",
      "_view_name": "LayoutView",
      "align_content": null,
      "align_items": null,
      "align_self": null,
      "border": null,
      "bottom": null,
      "display": null,
      "flex": null,
      "flex_flow": null,
      "grid_area": null,
      "grid_auto_columns": null,
      "grid_auto_flow": null,
      "grid_auto_rows": null,
      "grid_column": null,
      "grid_gap": null,
      "grid_row": null,
      "grid_template_areas": null,
      "grid_template_columns": null,
      "grid_template_rows": null,
      "height": null,
      "justify_content": null,
      "justify_items": null,
      "left": null,
      "margin": null,
      "max_height": null,
      "max_width": null,
      "min_height": null,
      "min_width": null,
      "object_fit": null,
      "object_position": null,
      "order": null,
      "overflow": null,
      "overflow_x": null,
      "overflow_y": null,
      "padding": null,
      "right": null,
      "top": null,
      "visibility": null,
      "width": null
     }
    },
    "80078ebe110b465da94c077ec08bf0db": {
     "model_module": "@jupyter-widgets/controls",
     "model_name": "DescriptionStyleModel",
     "model_module_version": "1.5.0",
     "state": {
      "_model_module": "@jupyter-widgets/controls",
      "_model_module_version": "1.5.0",
      "_model_name": "DescriptionStyleModel",
      "_view_count": null,
      "_view_module": "@jupyter-widgets/base",
      "_view_module_version": "1.2.0",
      "_view_name": "StyleView",
      "description_width": ""
     }
    }
   }
  },
  "accelerator": "GPU"
 },
 "cells": [
  {
   "cell_type": "code",
   "metadata": {
    "colab": {
     "base_uri": "https://localhost:8080/"
    },
    "id": "VZQTImCaRw0u",
    "outputId": "70cda5f2-dfd5-4210-91bd-d5f9a5e70845",
    "ExecuteTime": {
     "end_time": "2025-08-19T12:33:34.536828Z",
     "start_time": "2025-08-19T12:33:30.516637Z"
    }
   },
   "source": [
    "%pip install -qU pypdf\n",
    "%pip install -U langchain\n",
    "%pip install -U langchain-community\n",
    "%pip install -U langchain-groq\n",
    "%pip install langchain-huggingface\n",
    "%pip install langgraph\n",
    "%pip install python-dotenv"
   ],
   "outputs": [
    {
     "name": "stdout",
     "output_type": "stream",
     "text": [
      "/bin/bash: warning: setlocale: LC_ALL: cannot change locale (en_US.UTF-8)\r\n",
      "\r\n",
      "\u001B[1m[\u001B[0m\u001B[34;49mnotice\u001B[0m\u001B[1;39;49m]\u001B[0m\u001B[39;49m A new release of pip is available: \u001B[0m\u001B[31;49m25.1.1\u001B[0m\u001B[39;49m -> \u001B[0m\u001B[32;49m25.2\u001B[0m\r\n",
      "\u001B[1m[\u001B[0m\u001B[34;49mnotice\u001B[0m\u001B[1;39;49m]\u001B[0m\u001B[39;49m To update, run: \u001B[0m\u001B[32;49m/home/bender/.virtualenvs/flash-skills-rag-agentes-ia/bin/python -m pip install --upgrade pip\u001B[0m\r\n",
      "Note: you may need to restart the kernel to use updated packages.\n",
      "/bin/bash: warning: setlocale: LC_ALL: cannot change locale (en_US.UTF-8)\r\n",
      "Requirement already satisfied: langchain in /home/bender/.virtualenvs/flash-skills-rag-agentes-ia/lib/python3.12/site-packages (0.3.27)\r\n",
      "Requirement already satisfied: langchain-core<1.0.0,>=0.3.72 in /home/bender/.virtualenvs/flash-skills-rag-agentes-ia/lib/python3.12/site-packages (from langchain) (0.3.74)\r\n",
      "Requirement already satisfied: langchain-text-splitters<1.0.0,>=0.3.9 in /home/bender/.virtualenvs/flash-skills-rag-agentes-ia/lib/python3.12/site-packages (from langchain) (0.3.9)\r\n",
      "Requirement already satisfied: langsmith>=0.1.17 in /home/bender/.virtualenvs/flash-skills-rag-agentes-ia/lib/python3.12/site-packages (from langchain) (0.4.14)\r\n",
      "Requirement already satisfied: pydantic<3.0.0,>=2.7.4 in /home/bender/.virtualenvs/flash-skills-rag-agentes-ia/lib/python3.12/site-packages (from langchain) (2.11.7)\r\n",
      "Requirement already satisfied: SQLAlchemy<3,>=1.4 in /home/bender/.virtualenvs/flash-skills-rag-agentes-ia/lib/python3.12/site-packages (from langchain) (2.0.43)\r\n",
      "Requirement already satisfied: requests<3,>=2 in /home/bender/.virtualenvs/flash-skills-rag-agentes-ia/lib/python3.12/site-packages (from langchain) (2.32.4)\r\n",
      "Requirement already satisfied: PyYAML>=5.3 in /home/bender/.virtualenvs/flash-skills-rag-agentes-ia/lib/python3.12/site-packages (from langchain) (6.0.2)\r\n",
      "Requirement already satisfied: tenacity!=8.4.0,<10.0.0,>=8.1.0 in /home/bender/.virtualenvs/flash-skills-rag-agentes-ia/lib/python3.12/site-packages (from langchain-core<1.0.0,>=0.3.72->langchain) (9.1.2)\r\n",
      "Requirement already satisfied: jsonpatch<2.0,>=1.33 in /home/bender/.virtualenvs/flash-skills-rag-agentes-ia/lib/python3.12/site-packages (from langchain-core<1.0.0,>=0.3.72->langchain) (1.33)\r\n",
      "Requirement already satisfied: typing-extensions>=4.7 in /home/bender/.virtualenvs/flash-skills-rag-agentes-ia/lib/python3.12/site-packages (from langchain-core<1.0.0,>=0.3.72->langchain) (4.14.1)\r\n",
      "Requirement already satisfied: packaging>=23.2 in /home/bender/.virtualenvs/flash-skills-rag-agentes-ia/lib/python3.12/site-packages (from langchain-core<1.0.0,>=0.3.72->langchain) (25.0)\r\n",
      "Requirement already satisfied: jsonpointer>=1.9 in /home/bender/.virtualenvs/flash-skills-rag-agentes-ia/lib/python3.12/site-packages (from jsonpatch<2.0,>=1.33->langchain-core<1.0.0,>=0.3.72->langchain) (3.0.0)\r\n",
      "Requirement already satisfied: annotated-types>=0.6.0 in /home/bender/.virtualenvs/flash-skills-rag-agentes-ia/lib/python3.12/site-packages (from pydantic<3.0.0,>=2.7.4->langchain) (0.7.0)\r\n",
      "Requirement already satisfied: pydantic-core==2.33.2 in /home/bender/.virtualenvs/flash-skills-rag-agentes-ia/lib/python3.12/site-packages (from pydantic<3.0.0,>=2.7.4->langchain) (2.33.2)\r\n",
      "Requirement already satisfied: typing-inspection>=0.4.0 in /home/bender/.virtualenvs/flash-skills-rag-agentes-ia/lib/python3.12/site-packages (from pydantic<3.0.0,>=2.7.4->langchain) (0.4.1)\r\n",
      "Requirement already satisfied: charset_normalizer<4,>=2 in /home/bender/.virtualenvs/flash-skills-rag-agentes-ia/lib/python3.12/site-packages (from requests<3,>=2->langchain) (3.4.3)\r\n",
      "Requirement already satisfied: idna<4,>=2.5 in /home/bender/.virtualenvs/flash-skills-rag-agentes-ia/lib/python3.12/site-packages (from requests<3,>=2->langchain) (3.10)\r\n",
      "Requirement already satisfied: urllib3<3,>=1.21.1 in /home/bender/.virtualenvs/flash-skills-rag-agentes-ia/lib/python3.12/site-packages (from requests<3,>=2->langchain) (2.5.0)\r\n",
      "Requirement already satisfied: certifi>=2017.4.17 in /home/bender/.virtualenvs/flash-skills-rag-agentes-ia/lib/python3.12/site-packages (from requests<3,>=2->langchain) (2025.8.3)\r\n",
      "Requirement already satisfied: greenlet>=1 in /home/bender/.virtualenvs/flash-skills-rag-agentes-ia/lib/python3.12/site-packages (from SQLAlchemy<3,>=1.4->langchain) (3.2.4)\r\n",
      "Requirement already satisfied: httpx<1,>=0.23.0 in /home/bender/.virtualenvs/flash-skills-rag-agentes-ia/lib/python3.12/site-packages (from langsmith>=0.1.17->langchain) (0.28.1)\r\n",
      "Requirement already satisfied: orjson>=3.9.14 in /home/bender/.virtualenvs/flash-skills-rag-agentes-ia/lib/python3.12/site-packages (from langsmith>=0.1.17->langchain) (3.11.2)\r\n",
      "Requirement already satisfied: requests-toolbelt>=1.0.0 in /home/bender/.virtualenvs/flash-skills-rag-agentes-ia/lib/python3.12/site-packages (from langsmith>=0.1.17->langchain) (1.0.0)\r\n",
      "Requirement already satisfied: zstandard>=0.23.0 in /home/bender/.virtualenvs/flash-skills-rag-agentes-ia/lib/python3.12/site-packages (from langsmith>=0.1.17->langchain) (0.23.0)\r\n",
      "Requirement already satisfied: anyio in /home/bender/.virtualenvs/flash-skills-rag-agentes-ia/lib/python3.12/site-packages (from httpx<1,>=0.23.0->langsmith>=0.1.17->langchain) (4.10.0)\r\n",
      "Requirement already satisfied: httpcore==1.* in /home/bender/.virtualenvs/flash-skills-rag-agentes-ia/lib/python3.12/site-packages (from httpx<1,>=0.23.0->langsmith>=0.1.17->langchain) (1.0.9)\r\n",
      "Requirement already satisfied: h11>=0.16 in /home/bender/.virtualenvs/flash-skills-rag-agentes-ia/lib/python3.12/site-packages (from httpcore==1.*->httpx<1,>=0.23.0->langsmith>=0.1.17->langchain) (0.16.0)\r\n",
      "Requirement already satisfied: sniffio>=1.1 in /home/bender/.virtualenvs/flash-skills-rag-agentes-ia/lib/python3.12/site-packages (from anyio->httpx<1,>=0.23.0->langsmith>=0.1.17->langchain) (1.3.1)\r\n",
      "\r\n",
      "\u001B[1m[\u001B[0m\u001B[34;49mnotice\u001B[0m\u001B[1;39;49m]\u001B[0m\u001B[39;49m A new release of pip is available: \u001B[0m\u001B[31;49m25.1.1\u001B[0m\u001B[39;49m -> \u001B[0m\u001B[32;49m25.2\u001B[0m\r\n",
      "\u001B[1m[\u001B[0m\u001B[34;49mnotice\u001B[0m\u001B[1;39;49m]\u001B[0m\u001B[39;49m To update, run: \u001B[0m\u001B[32;49m/home/bender/.virtualenvs/flash-skills-rag-agentes-ia/bin/python -m pip install --upgrade pip\u001B[0m\r\n",
      "Note: you may need to restart the kernel to use updated packages.\n",
      "/bin/bash: warning: setlocale: LC_ALL: cannot change locale (en_US.UTF-8)\r\n",
      "Requirement already satisfied: langchain-community in /home/bender/.virtualenvs/flash-skills-rag-agentes-ia/lib/python3.12/site-packages (0.3.27)\r\n",
      "Requirement already satisfied: langchain-core<1.0.0,>=0.3.66 in /home/bender/.virtualenvs/flash-skills-rag-agentes-ia/lib/python3.12/site-packages (from langchain-community) (0.3.74)\r\n",
      "Requirement already satisfied: langchain<1.0.0,>=0.3.26 in /home/bender/.virtualenvs/flash-skills-rag-agentes-ia/lib/python3.12/site-packages (from langchain-community) (0.3.27)\r\n",
      "Requirement already satisfied: SQLAlchemy<3,>=1.4 in /home/bender/.virtualenvs/flash-skills-rag-agentes-ia/lib/python3.12/site-packages (from langchain-community) (2.0.43)\r\n",
      "Requirement already satisfied: requests<3,>=2 in /home/bender/.virtualenvs/flash-skills-rag-agentes-ia/lib/python3.12/site-packages (from langchain-community) (2.32.4)\r\n",
      "Requirement already satisfied: PyYAML>=5.3 in /home/bender/.virtualenvs/flash-skills-rag-agentes-ia/lib/python3.12/site-packages (from langchain-community) (6.0.2)\r\n",
      "Requirement already satisfied: aiohttp<4.0.0,>=3.8.3 in /home/bender/.virtualenvs/flash-skills-rag-agentes-ia/lib/python3.12/site-packages (from langchain-community) (3.12.15)\r\n",
      "Requirement already satisfied: tenacity!=8.4.0,<10,>=8.1.0 in /home/bender/.virtualenvs/flash-skills-rag-agentes-ia/lib/python3.12/site-packages (from langchain-community) (9.1.2)\r\n",
      "Requirement already satisfied: dataclasses-json<0.7,>=0.5.7 in /home/bender/.virtualenvs/flash-skills-rag-agentes-ia/lib/python3.12/site-packages (from langchain-community) (0.6.7)\r\n",
      "Requirement already satisfied: pydantic-settings<3.0.0,>=2.4.0 in /home/bender/.virtualenvs/flash-skills-rag-agentes-ia/lib/python3.12/site-packages (from langchain-community) (2.10.1)\r\n",
      "Requirement already satisfied: langsmith>=0.1.125 in /home/bender/.virtualenvs/flash-skills-rag-agentes-ia/lib/python3.12/site-packages (from langchain-community) (0.4.14)\r\n",
      "Requirement already satisfied: httpx-sse<1.0.0,>=0.4.0 in /home/bender/.virtualenvs/flash-skills-rag-agentes-ia/lib/python3.12/site-packages (from langchain-community) (0.4.1)\r\n",
      "Requirement already satisfied: numpy>=1.26.2 in /home/bender/.virtualenvs/flash-skills-rag-agentes-ia/lib/python3.12/site-packages (from langchain-community) (2.3.2)\r\n",
      "Requirement already satisfied: aiohappyeyeballs>=2.5.0 in /home/bender/.virtualenvs/flash-skills-rag-agentes-ia/lib/python3.12/site-packages (from aiohttp<4.0.0,>=3.8.3->langchain-community) (2.6.1)\r\n",
      "Requirement already satisfied: aiosignal>=1.4.0 in /home/bender/.virtualenvs/flash-skills-rag-agentes-ia/lib/python3.12/site-packages (from aiohttp<4.0.0,>=3.8.3->langchain-community) (1.4.0)\r\n",
      "Requirement already satisfied: attrs>=17.3.0 in /home/bender/.virtualenvs/flash-skills-rag-agentes-ia/lib/python3.12/site-packages (from aiohttp<4.0.0,>=3.8.3->langchain-community) (25.3.0)\r\n",
      "Requirement already satisfied: frozenlist>=1.1.1 in /home/bender/.virtualenvs/flash-skills-rag-agentes-ia/lib/python3.12/site-packages (from aiohttp<4.0.0,>=3.8.3->langchain-community) (1.7.0)\r\n",
      "Requirement already satisfied: multidict<7.0,>=4.5 in /home/bender/.virtualenvs/flash-skills-rag-agentes-ia/lib/python3.12/site-packages (from aiohttp<4.0.0,>=3.8.3->langchain-community) (6.6.4)\r\n",
      "Requirement already satisfied: propcache>=0.2.0 in /home/bender/.virtualenvs/flash-skills-rag-agentes-ia/lib/python3.12/site-packages (from aiohttp<4.0.0,>=3.8.3->langchain-community) (0.3.2)\r\n",
      "Requirement already satisfied: yarl<2.0,>=1.17.0 in /home/bender/.virtualenvs/flash-skills-rag-agentes-ia/lib/python3.12/site-packages (from aiohttp<4.0.0,>=3.8.3->langchain-community) (1.20.1)\r\n",
      "Requirement already satisfied: marshmallow<4.0.0,>=3.18.0 in /home/bender/.virtualenvs/flash-skills-rag-agentes-ia/lib/python3.12/site-packages (from dataclasses-json<0.7,>=0.5.7->langchain-community) (3.26.1)\r\n",
      "Requirement already satisfied: typing-inspect<1,>=0.4.0 in /home/bender/.virtualenvs/flash-skills-rag-agentes-ia/lib/python3.12/site-packages (from dataclasses-json<0.7,>=0.5.7->langchain-community) (0.9.0)\r\n",
      "Requirement already satisfied: langchain-text-splitters<1.0.0,>=0.3.9 in /home/bender/.virtualenvs/flash-skills-rag-agentes-ia/lib/python3.12/site-packages (from langchain<1.0.0,>=0.3.26->langchain-community) (0.3.9)\r\n",
      "Requirement already satisfied: pydantic<3.0.0,>=2.7.4 in /home/bender/.virtualenvs/flash-skills-rag-agentes-ia/lib/python3.12/site-packages (from langchain<1.0.0,>=0.3.26->langchain-community) (2.11.7)\r\n",
      "Requirement already satisfied: jsonpatch<2.0,>=1.33 in /home/bender/.virtualenvs/flash-skills-rag-agentes-ia/lib/python3.12/site-packages (from langchain-core<1.0.0,>=0.3.66->langchain-community) (1.33)\r\n",
      "Requirement already satisfied: typing-extensions>=4.7 in /home/bender/.virtualenvs/flash-skills-rag-agentes-ia/lib/python3.12/site-packages (from langchain-core<1.0.0,>=0.3.66->langchain-community) (4.14.1)\r\n",
      "Requirement already satisfied: packaging>=23.2 in /home/bender/.virtualenvs/flash-skills-rag-agentes-ia/lib/python3.12/site-packages (from langchain-core<1.0.0,>=0.3.66->langchain-community) (25.0)\r\n",
      "Requirement already satisfied: jsonpointer>=1.9 in /home/bender/.virtualenvs/flash-skills-rag-agentes-ia/lib/python3.12/site-packages (from jsonpatch<2.0,>=1.33->langchain-core<1.0.0,>=0.3.66->langchain-community) (3.0.0)\r\n",
      "Requirement already satisfied: annotated-types>=0.6.0 in /home/bender/.virtualenvs/flash-skills-rag-agentes-ia/lib/python3.12/site-packages (from pydantic<3.0.0,>=2.7.4->langchain<1.0.0,>=0.3.26->langchain-community) (0.7.0)\r\n",
      "Requirement already satisfied: pydantic-core==2.33.2 in /home/bender/.virtualenvs/flash-skills-rag-agentes-ia/lib/python3.12/site-packages (from pydantic<3.0.0,>=2.7.4->langchain<1.0.0,>=0.3.26->langchain-community) (2.33.2)\r\n",
      "Requirement already satisfied: typing-inspection>=0.4.0 in /home/bender/.virtualenvs/flash-skills-rag-agentes-ia/lib/python3.12/site-packages (from pydantic<3.0.0,>=2.7.4->langchain<1.0.0,>=0.3.26->langchain-community) (0.4.1)\r\n",
      "Requirement already satisfied: python-dotenv>=0.21.0 in /home/bender/.virtualenvs/flash-skills-rag-agentes-ia/lib/python3.12/site-packages (from pydantic-settings<3.0.0,>=2.4.0->langchain-community) (1.1.1)\r\n",
      "Requirement already satisfied: charset_normalizer<4,>=2 in /home/bender/.virtualenvs/flash-skills-rag-agentes-ia/lib/python3.12/site-packages (from requests<3,>=2->langchain-community) (3.4.3)\r\n",
      "Requirement already satisfied: idna<4,>=2.5 in /home/bender/.virtualenvs/flash-skills-rag-agentes-ia/lib/python3.12/site-packages (from requests<3,>=2->langchain-community) (3.10)\r\n",
      "Requirement already satisfied: urllib3<3,>=1.21.1 in /home/bender/.virtualenvs/flash-skills-rag-agentes-ia/lib/python3.12/site-packages (from requests<3,>=2->langchain-community) (2.5.0)\r\n",
      "Requirement already satisfied: certifi>=2017.4.17 in /home/bender/.virtualenvs/flash-skills-rag-agentes-ia/lib/python3.12/site-packages (from requests<3,>=2->langchain-community) (2025.8.3)\r\n",
      "Requirement already satisfied: greenlet>=1 in /home/bender/.virtualenvs/flash-skills-rag-agentes-ia/lib/python3.12/site-packages (from SQLAlchemy<3,>=1.4->langchain-community) (3.2.4)\r\n",
      "Requirement already satisfied: mypy-extensions>=0.3.0 in /home/bender/.virtualenvs/flash-skills-rag-agentes-ia/lib/python3.12/site-packages (from typing-inspect<1,>=0.4.0->dataclasses-json<0.7,>=0.5.7->langchain-community) (1.1.0)\r\n",
      "Requirement already satisfied: httpx<1,>=0.23.0 in /home/bender/.virtualenvs/flash-skills-rag-agentes-ia/lib/python3.12/site-packages (from langsmith>=0.1.125->langchain-community) (0.28.1)\r\n",
      "Requirement already satisfied: orjson>=3.9.14 in /home/bender/.virtualenvs/flash-skills-rag-agentes-ia/lib/python3.12/site-packages (from langsmith>=0.1.125->langchain-community) (3.11.2)\r\n",
      "Requirement already satisfied: requests-toolbelt>=1.0.0 in /home/bender/.virtualenvs/flash-skills-rag-agentes-ia/lib/python3.12/site-packages (from langsmith>=0.1.125->langchain-community) (1.0.0)\r\n",
      "Requirement already satisfied: zstandard>=0.23.0 in /home/bender/.virtualenvs/flash-skills-rag-agentes-ia/lib/python3.12/site-packages (from langsmith>=0.1.125->langchain-community) (0.23.0)\r\n",
      "Requirement already satisfied: anyio in /home/bender/.virtualenvs/flash-skills-rag-agentes-ia/lib/python3.12/site-packages (from httpx<1,>=0.23.0->langsmith>=0.1.125->langchain-community) (4.10.0)\r\n",
      "Requirement already satisfied: httpcore==1.* in /home/bender/.virtualenvs/flash-skills-rag-agentes-ia/lib/python3.12/site-packages (from httpx<1,>=0.23.0->langsmith>=0.1.125->langchain-community) (1.0.9)\r\n",
      "Requirement already satisfied: h11>=0.16 in /home/bender/.virtualenvs/flash-skills-rag-agentes-ia/lib/python3.12/site-packages (from httpcore==1.*->httpx<1,>=0.23.0->langsmith>=0.1.125->langchain-community) (0.16.0)\r\n",
      "Requirement already satisfied: sniffio>=1.1 in /home/bender/.virtualenvs/flash-skills-rag-agentes-ia/lib/python3.12/site-packages (from anyio->httpx<1,>=0.23.0->langsmith>=0.1.125->langchain-community) (1.3.1)\r\n",
      "\r\n",
      "\u001B[1m[\u001B[0m\u001B[34;49mnotice\u001B[0m\u001B[1;39;49m]\u001B[0m\u001B[39;49m A new release of pip is available: \u001B[0m\u001B[31;49m25.1.1\u001B[0m\u001B[39;49m -> \u001B[0m\u001B[32;49m25.2\u001B[0m\r\n",
      "\u001B[1m[\u001B[0m\u001B[34;49mnotice\u001B[0m\u001B[1;39;49m]\u001B[0m\u001B[39;49m To update, run: \u001B[0m\u001B[32;49m/home/bender/.virtualenvs/flash-skills-rag-agentes-ia/bin/python -m pip install --upgrade pip\u001B[0m\r\n",
      "Note: you may need to restart the kernel to use updated packages.\n",
      "/bin/bash: warning: setlocale: LC_ALL: cannot change locale (en_US.UTF-8)\r\n",
      "Requirement already satisfied: langchain-groq in /home/bender/.virtualenvs/flash-skills-rag-agentes-ia/lib/python3.12/site-packages (0.3.7)\r\n",
      "Requirement already satisfied: langchain-core<1.0.0,>=0.3.72 in /home/bender/.virtualenvs/flash-skills-rag-agentes-ia/lib/python3.12/site-packages (from langchain-groq) (0.3.74)\r\n",
      "Requirement already satisfied: groq<1,>=0.30.0 in /home/bender/.virtualenvs/flash-skills-rag-agentes-ia/lib/python3.12/site-packages (from langchain-groq) (0.31.0)\r\n",
      "Requirement already satisfied: anyio<5,>=3.5.0 in /home/bender/.virtualenvs/flash-skills-rag-agentes-ia/lib/python3.12/site-packages (from groq<1,>=0.30.0->langchain-groq) (4.10.0)\r\n",
      "Requirement already satisfied: distro<2,>=1.7.0 in /home/bender/.virtualenvs/flash-skills-rag-agentes-ia/lib/python3.12/site-packages (from groq<1,>=0.30.0->langchain-groq) (1.9.0)\r\n",
      "Requirement already satisfied: httpx<1,>=0.23.0 in /home/bender/.virtualenvs/flash-skills-rag-agentes-ia/lib/python3.12/site-packages (from groq<1,>=0.30.0->langchain-groq) (0.28.1)\r\n",
      "Requirement already satisfied: pydantic<3,>=1.9.0 in /home/bender/.virtualenvs/flash-skills-rag-agentes-ia/lib/python3.12/site-packages (from groq<1,>=0.30.0->langchain-groq) (2.11.7)\r\n",
      "Requirement already satisfied: sniffio in /home/bender/.virtualenvs/flash-skills-rag-agentes-ia/lib/python3.12/site-packages (from groq<1,>=0.30.0->langchain-groq) (1.3.1)\r\n",
      "Requirement already satisfied: typing-extensions<5,>=4.10 in /home/bender/.virtualenvs/flash-skills-rag-agentes-ia/lib/python3.12/site-packages (from groq<1,>=0.30.0->langchain-groq) (4.14.1)\r\n",
      "Requirement already satisfied: idna>=2.8 in /home/bender/.virtualenvs/flash-skills-rag-agentes-ia/lib/python3.12/site-packages (from anyio<5,>=3.5.0->groq<1,>=0.30.0->langchain-groq) (3.10)\r\n",
      "Requirement already satisfied: certifi in /home/bender/.virtualenvs/flash-skills-rag-agentes-ia/lib/python3.12/site-packages (from httpx<1,>=0.23.0->groq<1,>=0.30.0->langchain-groq) (2025.8.3)\r\n",
      "Requirement already satisfied: httpcore==1.* in /home/bender/.virtualenvs/flash-skills-rag-agentes-ia/lib/python3.12/site-packages (from httpx<1,>=0.23.0->groq<1,>=0.30.0->langchain-groq) (1.0.9)\r\n",
      "Requirement already satisfied: h11>=0.16 in /home/bender/.virtualenvs/flash-skills-rag-agentes-ia/lib/python3.12/site-packages (from httpcore==1.*->httpx<1,>=0.23.0->groq<1,>=0.30.0->langchain-groq) (0.16.0)\r\n",
      "Requirement already satisfied: langsmith>=0.3.45 in /home/bender/.virtualenvs/flash-skills-rag-agentes-ia/lib/python3.12/site-packages (from langchain-core<1.0.0,>=0.3.72->langchain-groq) (0.4.14)\r\n",
      "Requirement already satisfied: tenacity!=8.4.0,<10.0.0,>=8.1.0 in /home/bender/.virtualenvs/flash-skills-rag-agentes-ia/lib/python3.12/site-packages (from langchain-core<1.0.0,>=0.3.72->langchain-groq) (9.1.2)\r\n",
      "Requirement already satisfied: jsonpatch<2.0,>=1.33 in /home/bender/.virtualenvs/flash-skills-rag-agentes-ia/lib/python3.12/site-packages (from langchain-core<1.0.0,>=0.3.72->langchain-groq) (1.33)\r\n",
      "Requirement already satisfied: PyYAML>=5.3 in /home/bender/.virtualenvs/flash-skills-rag-agentes-ia/lib/python3.12/site-packages (from langchain-core<1.0.0,>=0.3.72->langchain-groq) (6.0.2)\r\n",
      "Requirement already satisfied: packaging>=23.2 in /home/bender/.virtualenvs/flash-skills-rag-agentes-ia/lib/python3.12/site-packages (from langchain-core<1.0.0,>=0.3.72->langchain-groq) (25.0)\r\n",
      "Requirement already satisfied: jsonpointer>=1.9 in /home/bender/.virtualenvs/flash-skills-rag-agentes-ia/lib/python3.12/site-packages (from jsonpatch<2.0,>=1.33->langchain-core<1.0.0,>=0.3.72->langchain-groq) (3.0.0)\r\n",
      "Requirement already satisfied: annotated-types>=0.6.0 in /home/bender/.virtualenvs/flash-skills-rag-agentes-ia/lib/python3.12/site-packages (from pydantic<3,>=1.9.0->groq<1,>=0.30.0->langchain-groq) (0.7.0)\r\n",
      "Requirement already satisfied: pydantic-core==2.33.2 in /home/bender/.virtualenvs/flash-skills-rag-agentes-ia/lib/python3.12/site-packages (from pydantic<3,>=1.9.0->groq<1,>=0.30.0->langchain-groq) (2.33.2)\r\n",
      "Requirement already satisfied: typing-inspection>=0.4.0 in /home/bender/.virtualenvs/flash-skills-rag-agentes-ia/lib/python3.12/site-packages (from pydantic<3,>=1.9.0->groq<1,>=0.30.0->langchain-groq) (0.4.1)\r\n",
      "Requirement already satisfied: orjson>=3.9.14 in /home/bender/.virtualenvs/flash-skills-rag-agentes-ia/lib/python3.12/site-packages (from langsmith>=0.3.45->langchain-core<1.0.0,>=0.3.72->langchain-groq) (3.11.2)\r\n",
      "Requirement already satisfied: requests-toolbelt>=1.0.0 in /home/bender/.virtualenvs/flash-skills-rag-agentes-ia/lib/python3.12/site-packages (from langsmith>=0.3.45->langchain-core<1.0.0,>=0.3.72->langchain-groq) (1.0.0)\r\n",
      "Requirement already satisfied: requests>=2.0.0 in /home/bender/.virtualenvs/flash-skills-rag-agentes-ia/lib/python3.12/site-packages (from langsmith>=0.3.45->langchain-core<1.0.0,>=0.3.72->langchain-groq) (2.32.4)\r\n",
      "Requirement already satisfied: zstandard>=0.23.0 in /home/bender/.virtualenvs/flash-skills-rag-agentes-ia/lib/python3.12/site-packages (from langsmith>=0.3.45->langchain-core<1.0.0,>=0.3.72->langchain-groq) (0.23.0)\r\n",
      "Requirement already satisfied: charset_normalizer<4,>=2 in /home/bender/.virtualenvs/flash-skills-rag-agentes-ia/lib/python3.12/site-packages (from requests>=2.0.0->langsmith>=0.3.45->langchain-core<1.0.0,>=0.3.72->langchain-groq) (3.4.3)\r\n",
      "Requirement already satisfied: urllib3<3,>=1.21.1 in /home/bender/.virtualenvs/flash-skills-rag-agentes-ia/lib/python3.12/site-packages (from requests>=2.0.0->langsmith>=0.3.45->langchain-core<1.0.0,>=0.3.72->langchain-groq) (2.5.0)\r\n",
      "\r\n",
      "\u001B[1m[\u001B[0m\u001B[34;49mnotice\u001B[0m\u001B[1;39;49m]\u001B[0m\u001B[39;49m A new release of pip is available: \u001B[0m\u001B[31;49m25.1.1\u001B[0m\u001B[39;49m -> \u001B[0m\u001B[32;49m25.2\u001B[0m\r\n",
      "\u001B[1m[\u001B[0m\u001B[34;49mnotice\u001B[0m\u001B[1;39;49m]\u001B[0m\u001B[39;49m To update, run: \u001B[0m\u001B[32;49m/home/bender/.virtualenvs/flash-skills-rag-agentes-ia/bin/python -m pip install --upgrade pip\u001B[0m\r\n",
      "Note: you may need to restart the kernel to use updated packages.\n",
      "/bin/bash: warning: setlocale: LC_ALL: cannot change locale (en_US.UTF-8)\r\n",
      "Requirement already satisfied: langchain-huggingface in /home/bender/.virtualenvs/flash-skills-rag-agentes-ia/lib/python3.12/site-packages (0.3.1)\r\n",
      "Requirement already satisfied: langchain-core<1.0.0,>=0.3.70 in /home/bender/.virtualenvs/flash-skills-rag-agentes-ia/lib/python3.12/site-packages (from langchain-huggingface) (0.3.74)\r\n",
      "Requirement already satisfied: tokenizers>=0.19.1 in /home/bender/.virtualenvs/flash-skills-rag-agentes-ia/lib/python3.12/site-packages (from langchain-huggingface) (0.21.4)\r\n",
      "Requirement already satisfied: huggingface-hub>=0.33.4 in /home/bender/.virtualenvs/flash-skills-rag-agentes-ia/lib/python3.12/site-packages (from langchain-huggingface) (0.34.4)\r\n",
      "Requirement already satisfied: langsmith>=0.3.45 in /home/bender/.virtualenvs/flash-skills-rag-agentes-ia/lib/python3.12/site-packages (from langchain-core<1.0.0,>=0.3.70->langchain-huggingface) (0.4.14)\r\n",
      "Requirement already satisfied: tenacity!=8.4.0,<10.0.0,>=8.1.0 in /home/bender/.virtualenvs/flash-skills-rag-agentes-ia/lib/python3.12/site-packages (from langchain-core<1.0.0,>=0.3.70->langchain-huggingface) (9.1.2)\r\n",
      "Requirement already satisfied: jsonpatch<2.0,>=1.33 in /home/bender/.virtualenvs/flash-skills-rag-agentes-ia/lib/python3.12/site-packages (from langchain-core<1.0.0,>=0.3.70->langchain-huggingface) (1.33)\r\n",
      "Requirement already satisfied: PyYAML>=5.3 in /home/bender/.virtualenvs/flash-skills-rag-agentes-ia/lib/python3.12/site-packages (from langchain-core<1.0.0,>=0.3.70->langchain-huggingface) (6.0.2)\r\n",
      "Requirement already satisfied: typing-extensions>=4.7 in /home/bender/.virtualenvs/flash-skills-rag-agentes-ia/lib/python3.12/site-packages (from langchain-core<1.0.0,>=0.3.70->langchain-huggingface) (4.14.1)\r\n",
      "Requirement already satisfied: packaging>=23.2 in /home/bender/.virtualenvs/flash-skills-rag-agentes-ia/lib/python3.12/site-packages (from langchain-core<1.0.0,>=0.3.70->langchain-huggingface) (25.0)\r\n",
      "Requirement already satisfied: pydantic>=2.7.4 in /home/bender/.virtualenvs/flash-skills-rag-agentes-ia/lib/python3.12/site-packages (from langchain-core<1.0.0,>=0.3.70->langchain-huggingface) (2.11.7)\r\n",
      "Requirement already satisfied: jsonpointer>=1.9 in /home/bender/.virtualenvs/flash-skills-rag-agentes-ia/lib/python3.12/site-packages (from jsonpatch<2.0,>=1.33->langchain-core<1.0.0,>=0.3.70->langchain-huggingface) (3.0.0)\r\n",
      "Requirement already satisfied: filelock in /home/bender/.virtualenvs/flash-skills-rag-agentes-ia/lib/python3.12/site-packages (from huggingface-hub>=0.33.4->langchain-huggingface) (3.19.1)\r\n",
      "Requirement already satisfied: fsspec>=2023.5.0 in /home/bender/.virtualenvs/flash-skills-rag-agentes-ia/lib/python3.12/site-packages (from huggingface-hub>=0.33.4->langchain-huggingface) (2025.7.0)\r\n",
      "Requirement already satisfied: requests in /home/bender/.virtualenvs/flash-skills-rag-agentes-ia/lib/python3.12/site-packages (from huggingface-hub>=0.33.4->langchain-huggingface) (2.32.4)\r\n",
      "Requirement already satisfied: tqdm>=4.42.1 in /home/bender/.virtualenvs/flash-skills-rag-agentes-ia/lib/python3.12/site-packages (from huggingface-hub>=0.33.4->langchain-huggingface) (4.67.1)\r\n",
      "Requirement already satisfied: hf-xet<2.0.0,>=1.1.3 in /home/bender/.virtualenvs/flash-skills-rag-agentes-ia/lib/python3.12/site-packages (from huggingface-hub>=0.33.4->langchain-huggingface) (1.1.7)\r\n",
      "Requirement already satisfied: httpx<1,>=0.23.0 in /home/bender/.virtualenvs/flash-skills-rag-agentes-ia/lib/python3.12/site-packages (from langsmith>=0.3.45->langchain-core<1.0.0,>=0.3.70->langchain-huggingface) (0.28.1)\r\n",
      "Requirement already satisfied: orjson>=3.9.14 in /home/bender/.virtualenvs/flash-skills-rag-agentes-ia/lib/python3.12/site-packages (from langsmith>=0.3.45->langchain-core<1.0.0,>=0.3.70->langchain-huggingface) (3.11.2)\r\n",
      "Requirement already satisfied: requests-toolbelt>=1.0.0 in /home/bender/.virtualenvs/flash-skills-rag-agentes-ia/lib/python3.12/site-packages (from langsmith>=0.3.45->langchain-core<1.0.0,>=0.3.70->langchain-huggingface) (1.0.0)\r\n",
      "Requirement already satisfied: zstandard>=0.23.0 in /home/bender/.virtualenvs/flash-skills-rag-agentes-ia/lib/python3.12/site-packages (from langsmith>=0.3.45->langchain-core<1.0.0,>=0.3.70->langchain-huggingface) (0.23.0)\r\n",
      "Requirement already satisfied: anyio in /home/bender/.virtualenvs/flash-skills-rag-agentes-ia/lib/python3.12/site-packages (from httpx<1,>=0.23.0->langsmith>=0.3.45->langchain-core<1.0.0,>=0.3.70->langchain-huggingface) (4.10.0)\r\n",
      "Requirement already satisfied: certifi in /home/bender/.virtualenvs/flash-skills-rag-agentes-ia/lib/python3.12/site-packages (from httpx<1,>=0.23.0->langsmith>=0.3.45->langchain-core<1.0.0,>=0.3.70->langchain-huggingface) (2025.8.3)\r\n",
      "Requirement already satisfied: httpcore==1.* in /home/bender/.virtualenvs/flash-skills-rag-agentes-ia/lib/python3.12/site-packages (from httpx<1,>=0.23.0->langsmith>=0.3.45->langchain-core<1.0.0,>=0.3.70->langchain-huggingface) (1.0.9)\r\n",
      "Requirement already satisfied: idna in /home/bender/.virtualenvs/flash-skills-rag-agentes-ia/lib/python3.12/site-packages (from httpx<1,>=0.23.0->langsmith>=0.3.45->langchain-core<1.0.0,>=0.3.70->langchain-huggingface) (3.10)\r\n",
      "Requirement already satisfied: h11>=0.16 in /home/bender/.virtualenvs/flash-skills-rag-agentes-ia/lib/python3.12/site-packages (from httpcore==1.*->httpx<1,>=0.23.0->langsmith>=0.3.45->langchain-core<1.0.0,>=0.3.70->langchain-huggingface) (0.16.0)\r\n",
      "Requirement already satisfied: annotated-types>=0.6.0 in /home/bender/.virtualenvs/flash-skills-rag-agentes-ia/lib/python3.12/site-packages (from pydantic>=2.7.4->langchain-core<1.0.0,>=0.3.70->langchain-huggingface) (0.7.0)\r\n",
      "Requirement already satisfied: pydantic-core==2.33.2 in /home/bender/.virtualenvs/flash-skills-rag-agentes-ia/lib/python3.12/site-packages (from pydantic>=2.7.4->langchain-core<1.0.0,>=0.3.70->langchain-huggingface) (2.33.2)\r\n",
      "Requirement already satisfied: typing-inspection>=0.4.0 in /home/bender/.virtualenvs/flash-skills-rag-agentes-ia/lib/python3.12/site-packages (from pydantic>=2.7.4->langchain-core<1.0.0,>=0.3.70->langchain-huggingface) (0.4.1)\r\n",
      "Requirement already satisfied: charset_normalizer<4,>=2 in /home/bender/.virtualenvs/flash-skills-rag-agentes-ia/lib/python3.12/site-packages (from requests->huggingface-hub>=0.33.4->langchain-huggingface) (3.4.3)\r\n",
      "Requirement already satisfied: urllib3<3,>=1.21.1 in /home/bender/.virtualenvs/flash-skills-rag-agentes-ia/lib/python3.12/site-packages (from requests->huggingface-hub>=0.33.4->langchain-huggingface) (2.5.0)\r\n",
      "Requirement already satisfied: sniffio>=1.1 in /home/bender/.virtualenvs/flash-skills-rag-agentes-ia/lib/python3.12/site-packages (from anyio->httpx<1,>=0.23.0->langsmith>=0.3.45->langchain-core<1.0.0,>=0.3.70->langchain-huggingface) (1.3.1)\r\n",
      "\r\n",
      "\u001B[1m[\u001B[0m\u001B[34;49mnotice\u001B[0m\u001B[1;39;49m]\u001B[0m\u001B[39;49m A new release of pip is available: \u001B[0m\u001B[31;49m25.1.1\u001B[0m\u001B[39;49m -> \u001B[0m\u001B[32;49m25.2\u001B[0m\r\n",
      "\u001B[1m[\u001B[0m\u001B[34;49mnotice\u001B[0m\u001B[1;39;49m]\u001B[0m\u001B[39;49m To update, run: \u001B[0m\u001B[32;49m/home/bender/.virtualenvs/flash-skills-rag-agentes-ia/bin/python -m pip install --upgrade pip\u001B[0m\r\n",
      "Note: you may need to restart the kernel to use updated packages.\n",
      "/bin/bash: warning: setlocale: LC_ALL: cannot change locale (en_US.UTF-8)\r\n",
      "Requirement already satisfied: langgraph in /home/bender/.virtualenvs/flash-skills-rag-agentes-ia/lib/python3.12/site-packages (0.6.5)\r\n",
      "Requirement already satisfied: langchain-core>=0.1 in /home/bender/.virtualenvs/flash-skills-rag-agentes-ia/lib/python3.12/site-packages (from langgraph) (0.3.74)\r\n",
      "Requirement already satisfied: langgraph-checkpoint<3.0.0,>=2.1.0 in /home/bender/.virtualenvs/flash-skills-rag-agentes-ia/lib/python3.12/site-packages (from langgraph) (2.1.1)\r\n",
      "Requirement already satisfied: langgraph-prebuilt<0.7.0,>=0.6.0 in /home/bender/.virtualenvs/flash-skills-rag-agentes-ia/lib/python3.12/site-packages (from langgraph) (0.6.4)\r\n",
      "Requirement already satisfied: langgraph-sdk<0.3.0,>=0.2.0 in /home/bender/.virtualenvs/flash-skills-rag-agentes-ia/lib/python3.12/site-packages (from langgraph) (0.2.0)\r\n",
      "Requirement already satisfied: pydantic>=2.7.4 in /home/bender/.virtualenvs/flash-skills-rag-agentes-ia/lib/python3.12/site-packages (from langgraph) (2.11.7)\r\n",
      "Requirement already satisfied: xxhash>=3.5.0 in /home/bender/.virtualenvs/flash-skills-rag-agentes-ia/lib/python3.12/site-packages (from langgraph) (3.5.0)\r\n",
      "Requirement already satisfied: ormsgpack>=1.10.0 in /home/bender/.virtualenvs/flash-skills-rag-agentes-ia/lib/python3.12/site-packages (from langgraph-checkpoint<3.0.0,>=2.1.0->langgraph) (1.10.0)\r\n",
      "Requirement already satisfied: httpx>=0.25.2 in /home/bender/.virtualenvs/flash-skills-rag-agentes-ia/lib/python3.12/site-packages (from langgraph-sdk<0.3.0,>=0.2.0->langgraph) (0.28.1)\r\n",
      "Requirement already satisfied: orjson>=3.10.1 in /home/bender/.virtualenvs/flash-skills-rag-agentes-ia/lib/python3.12/site-packages (from langgraph-sdk<0.3.0,>=0.2.0->langgraph) (3.11.2)\r\n",
      "Requirement already satisfied: anyio in /home/bender/.virtualenvs/flash-skills-rag-agentes-ia/lib/python3.12/site-packages (from httpx>=0.25.2->langgraph-sdk<0.3.0,>=0.2.0->langgraph) (4.10.0)\r\n",
      "Requirement already satisfied: certifi in /home/bender/.virtualenvs/flash-skills-rag-agentes-ia/lib/python3.12/site-packages (from httpx>=0.25.2->langgraph-sdk<0.3.0,>=0.2.0->langgraph) (2025.8.3)\r\n",
      "Requirement already satisfied: httpcore==1.* in /home/bender/.virtualenvs/flash-skills-rag-agentes-ia/lib/python3.12/site-packages (from httpx>=0.25.2->langgraph-sdk<0.3.0,>=0.2.0->langgraph) (1.0.9)\r\n",
      "Requirement already satisfied: idna in /home/bender/.virtualenvs/flash-skills-rag-agentes-ia/lib/python3.12/site-packages (from httpx>=0.25.2->langgraph-sdk<0.3.0,>=0.2.0->langgraph) (3.10)\r\n",
      "Requirement already satisfied: h11>=0.16 in /home/bender/.virtualenvs/flash-skills-rag-agentes-ia/lib/python3.12/site-packages (from httpcore==1.*->httpx>=0.25.2->langgraph-sdk<0.3.0,>=0.2.0->langgraph) (0.16.0)\r\n",
      "Requirement already satisfied: langsmith>=0.3.45 in /home/bender/.virtualenvs/flash-skills-rag-agentes-ia/lib/python3.12/site-packages (from langchain-core>=0.1->langgraph) (0.4.14)\r\n",
      "Requirement already satisfied: tenacity!=8.4.0,<10.0.0,>=8.1.0 in /home/bender/.virtualenvs/flash-skills-rag-agentes-ia/lib/python3.12/site-packages (from langchain-core>=0.1->langgraph) (9.1.2)\r\n",
      "Requirement already satisfied: jsonpatch<2.0,>=1.33 in /home/bender/.virtualenvs/flash-skills-rag-agentes-ia/lib/python3.12/site-packages (from langchain-core>=0.1->langgraph) (1.33)\r\n",
      "Requirement already satisfied: PyYAML>=5.3 in /home/bender/.virtualenvs/flash-skills-rag-agentes-ia/lib/python3.12/site-packages (from langchain-core>=0.1->langgraph) (6.0.2)\r\n",
      "Requirement already satisfied: typing-extensions>=4.7 in /home/bender/.virtualenvs/flash-skills-rag-agentes-ia/lib/python3.12/site-packages (from langchain-core>=0.1->langgraph) (4.14.1)\r\n",
      "Requirement already satisfied: packaging>=23.2 in /home/bender/.virtualenvs/flash-skills-rag-agentes-ia/lib/python3.12/site-packages (from langchain-core>=0.1->langgraph) (25.0)\r\n",
      "Requirement already satisfied: jsonpointer>=1.9 in /home/bender/.virtualenvs/flash-skills-rag-agentes-ia/lib/python3.12/site-packages (from jsonpatch<2.0,>=1.33->langchain-core>=0.1->langgraph) (3.0.0)\r\n",
      "Requirement already satisfied: requests-toolbelt>=1.0.0 in /home/bender/.virtualenvs/flash-skills-rag-agentes-ia/lib/python3.12/site-packages (from langsmith>=0.3.45->langchain-core>=0.1->langgraph) (1.0.0)\r\n",
      "Requirement already satisfied: requests>=2.0.0 in /home/bender/.virtualenvs/flash-skills-rag-agentes-ia/lib/python3.12/site-packages (from langsmith>=0.3.45->langchain-core>=0.1->langgraph) (2.32.4)\r\n",
      "Requirement already satisfied: zstandard>=0.23.0 in /home/bender/.virtualenvs/flash-skills-rag-agentes-ia/lib/python3.12/site-packages (from langsmith>=0.3.45->langchain-core>=0.1->langgraph) (0.23.0)\r\n",
      "Requirement already satisfied: annotated-types>=0.6.0 in /home/bender/.virtualenvs/flash-skills-rag-agentes-ia/lib/python3.12/site-packages (from pydantic>=2.7.4->langgraph) (0.7.0)\r\n",
      "Requirement already satisfied: pydantic-core==2.33.2 in /home/bender/.virtualenvs/flash-skills-rag-agentes-ia/lib/python3.12/site-packages (from pydantic>=2.7.4->langgraph) (2.33.2)\r\n",
      "Requirement already satisfied: typing-inspection>=0.4.0 in /home/bender/.virtualenvs/flash-skills-rag-agentes-ia/lib/python3.12/site-packages (from pydantic>=2.7.4->langgraph) (0.4.1)\r\n",
      "Requirement already satisfied: charset_normalizer<4,>=2 in /home/bender/.virtualenvs/flash-skills-rag-agentes-ia/lib/python3.12/site-packages (from requests>=2.0.0->langsmith>=0.3.45->langchain-core>=0.1->langgraph) (3.4.3)\r\n",
      "Requirement already satisfied: urllib3<3,>=1.21.1 in /home/bender/.virtualenvs/flash-skills-rag-agentes-ia/lib/python3.12/site-packages (from requests>=2.0.0->langsmith>=0.3.45->langchain-core>=0.1->langgraph) (2.5.0)\r\n",
      "Requirement already satisfied: sniffio>=1.1 in /home/bender/.virtualenvs/flash-skills-rag-agentes-ia/lib/python3.12/site-packages (from anyio->httpx>=0.25.2->langgraph-sdk<0.3.0,>=0.2.0->langgraph) (1.3.1)\r\n",
      "\r\n",
      "\u001B[1m[\u001B[0m\u001B[34;49mnotice\u001B[0m\u001B[1;39;49m]\u001B[0m\u001B[39;49m A new release of pip is available: \u001B[0m\u001B[31;49m25.1.1\u001B[0m\u001B[39;49m -> \u001B[0m\u001B[32;49m25.2\u001B[0m\r\n",
      "\u001B[1m[\u001B[0m\u001B[34;49mnotice\u001B[0m\u001B[1;39;49m]\u001B[0m\u001B[39;49m To update, run: \u001B[0m\u001B[32;49m/home/bender/.virtualenvs/flash-skills-rag-agentes-ia/bin/python -m pip install --upgrade pip\u001B[0m\r\n",
      "Note: you may need to restart the kernel to use updated packages.\n",
      "/bin/bash: warning: setlocale: LC_ALL: cannot change locale (en_US.UTF-8)\r\n",
      "Requirement already satisfied: python-dotenv in /home/bender/.virtualenvs/flash-skills-rag-agentes-ia/lib/python3.12/site-packages (1.1.1)\r\n",
      "\r\n",
      "\u001B[1m[\u001B[0m\u001B[34;49mnotice\u001B[0m\u001B[1;39;49m]\u001B[0m\u001B[39;49m A new release of pip is available: \u001B[0m\u001B[31;49m25.1.1\u001B[0m\u001B[39;49m -> \u001B[0m\u001B[32;49m25.2\u001B[0m\r\n",
      "\u001B[1m[\u001B[0m\u001B[34;49mnotice\u001B[0m\u001B[1;39;49m]\u001B[0m\u001B[39;49m To update, run: \u001B[0m\u001B[32;49m/home/bender/.virtualenvs/flash-skills-rag-agentes-ia/bin/python -m pip install --upgrade pip\u001B[0m\r\n",
      "Note: you may need to restart the kernel to use updated packages.\n"
     ]
    }
   ],
   "execution_count": 1
  },
  {
   "cell_type": "markdown",
   "source": [
    "# Perguntando sobre Marte"
   ],
   "metadata": {
    "id": "sVfdI4H2x1AK"
   }
  },
  {
   "cell_type": "code",
   "source": [
    "from dotenv import load_dotenv\n",
    "import os\n",
    "\n",
    "load_dotenv()  # Carrega variáveis do .env\n",
    "\n",
    "api_key = os.getenv('GROQ_API_KEY')\n",
    "huggingface_token = os.getenv('HUGGINGFACE_TOKEN')\n",
    "print(api_key)  # Verifique se foi carregado corretamente\n",
    "print(huggingface_token)"
   ],
   "metadata": {
    "id": "VE0sb8x2yqSY",
    "ExecuteTime": {
     "end_time": "2025-08-19T12:33:34.588817Z",
     "start_time": "2025-08-19T12:33:34.582007Z"
    }
   },
   "outputs": [
    {
     "name": "stdout",
     "output_type": "stream",
     "text": [
      "None\n",
      "None\n"
     ]
    }
   ],
   "execution_count": 2
  },
  {
   "cell_type": "code",
   "source": [
    "from langchain_groq import ChatGroq"
   ],
   "metadata": {
    "id": "bpVvuiHZysIt",
    "ExecuteTime": {
     "end_time": "2025-08-19T12:33:34.920873Z",
     "start_time": "2025-08-19T12:33:34.631773Z"
    }
   },
   "outputs": [],
   "execution_count": 3
  },
  {
   "cell_type": "code",
   "source": [
    "llm = ChatGroq(model='llama-3.3-70b-versatile')"
   ],
   "metadata": {
    "id": "hfDRZLwaytum",
    "ExecuteTime": {
     "end_time": "2025-08-19T12:33:35.112235Z",
     "start_time": "2025-08-19T12:33:34.936693Z"
    }
   },
   "outputs": [
    {
     "ename": "GroqError",
     "evalue": "The api_key client option must be set either by passing api_key to the client or by setting the GROQ_API_KEY environment variable",
     "output_type": "error",
     "traceback": [
      "\u001B[31m---------------------------------------------------------------------------\u001B[39m",
      "\u001B[31mGroqError\u001B[39m                                 Traceback (most recent call last)",
      "\u001B[36mCell\u001B[39m\u001B[36m \u001B[39m\u001B[32mIn[4]\u001B[39m\u001B[32m, line 1\u001B[39m\n\u001B[32m----> \u001B[39m\u001B[32m1\u001B[39m llm = \u001B[43mChatGroq\u001B[49m\u001B[43m(\u001B[49m\u001B[43mmodel\u001B[49m\u001B[43m=\u001B[49m\u001B[33;43m'\u001B[39;49m\u001B[33;43mllama-3.3-70b-versatile\u001B[39;49m\u001B[33;43m'\u001B[39;49m\u001B[43m)\u001B[49m\n",
      "\u001B[36mFile \u001B[39m\u001B[32m~/.virtualenvs/flash-skills-rag-agentes-ia/lib/python3.12/site-packages/langchain_core/load/serializable.py:130\u001B[39m, in \u001B[36mSerializable.__init__\u001B[39m\u001B[34m(self, *args, **kwargs)\u001B[39m\n\u001B[32m    128\u001B[39m \u001B[38;5;28;01mdef\u001B[39;00m\u001B[38;5;250m \u001B[39m\u001B[34m__init__\u001B[39m(\u001B[38;5;28mself\u001B[39m, *args: Any, **kwargs: Any) -> \u001B[38;5;28;01mNone\u001B[39;00m:\n\u001B[32m    129\u001B[39m \u001B[38;5;250m    \u001B[39m\u001B[33;03m\"\"\"\"\"\"\u001B[39;00m  \u001B[38;5;66;03m# noqa: D419\u001B[39;00m\n\u001B[32m--> \u001B[39m\u001B[32m130\u001B[39m     \u001B[38;5;28;43msuper\u001B[39;49m\u001B[43m(\u001B[49m\u001B[43m)\u001B[49m\u001B[43m.\u001B[49m\u001B[34;43m__init__\u001B[39;49m\u001B[43m(\u001B[49m\u001B[43m*\u001B[49m\u001B[43margs\u001B[49m\u001B[43m,\u001B[49m\u001B[43m \u001B[49m\u001B[43m*\u001B[49m\u001B[43m*\u001B[49m\u001B[43mkwargs\u001B[49m\u001B[43m)\u001B[49m\n",
      "    \u001B[31m[... skipping hidden 1 frame]\u001B[39m\n",
      "\u001B[36mFile \u001B[39m\u001B[32m~/.virtualenvs/flash-skills-rag-agentes-ia/lib/python3.12/site-packages/langchain_groq/chat_models.py:439\u001B[39m, in \u001B[36mChatGroq.validate_environment\u001B[39m\u001B[34m(self)\u001B[39m\n\u001B[32m    437\u001B[39m sync_specific: \u001B[38;5;28mdict\u001B[39m[\u001B[38;5;28mstr\u001B[39m, Any] = {\u001B[33m\"\u001B[39m\u001B[33mhttp_client\u001B[39m\u001B[33m\"\u001B[39m: \u001B[38;5;28mself\u001B[39m.http_client}\n\u001B[32m    438\u001B[39m \u001B[38;5;28;01mif\u001B[39;00m \u001B[38;5;129;01mnot\u001B[39;00m \u001B[38;5;28mself\u001B[39m.client:\n\u001B[32m--> \u001B[39m\u001B[32m439\u001B[39m     \u001B[38;5;28mself\u001B[39m.client = \u001B[43mgroq\u001B[49m\u001B[43m.\u001B[49m\u001B[43mGroq\u001B[49m\u001B[43m(\u001B[49m\n\u001B[32m    440\u001B[39m \u001B[43m        \u001B[49m\u001B[43m*\u001B[49m\u001B[43m*\u001B[49m\u001B[43mclient_params\u001B[49m\u001B[43m,\u001B[49m\u001B[43m \u001B[49m\u001B[43m*\u001B[49m\u001B[43m*\u001B[49m\u001B[43msync_specific\u001B[49m\n\u001B[32m    441\u001B[39m \u001B[43m    \u001B[49m\u001B[43m)\u001B[49m.chat.completions\n\u001B[32m    442\u001B[39m \u001B[38;5;28;01mif\u001B[39;00m \u001B[38;5;129;01mnot\u001B[39;00m \u001B[38;5;28mself\u001B[39m.async_client:\n\u001B[32m    443\u001B[39m     async_specific: \u001B[38;5;28mdict\u001B[39m[\u001B[38;5;28mstr\u001B[39m, Any] = {\u001B[33m\"\u001B[39m\u001B[33mhttp_client\u001B[39m\u001B[33m\"\u001B[39m: \u001B[38;5;28mself\u001B[39m.http_async_client}\n",
      "\u001B[36mFile \u001B[39m\u001B[32m~/.virtualenvs/flash-skills-rag-agentes-ia/lib/python3.12/site-packages/groq/_client.py:79\u001B[39m, in \u001B[36mGroq.__init__\u001B[39m\u001B[34m(self, api_key, base_url, timeout, max_retries, default_headers, default_query, http_client, _strict_response_validation)\u001B[39m\n\u001B[32m     77\u001B[39m     api_key = os.environ.get(\u001B[33m\"\u001B[39m\u001B[33mGROQ_API_KEY\u001B[39m\u001B[33m\"\u001B[39m)\n\u001B[32m     78\u001B[39m \u001B[38;5;28;01mif\u001B[39;00m api_key \u001B[38;5;129;01mis\u001B[39;00m \u001B[38;5;28;01mNone\u001B[39;00m:\n\u001B[32m---> \u001B[39m\u001B[32m79\u001B[39m     \u001B[38;5;28;01mraise\u001B[39;00m GroqError(\n\u001B[32m     80\u001B[39m         \u001B[33m\"\u001B[39m\u001B[33mThe api_key client option must be set either by passing api_key to the client or by setting the GROQ_API_KEY environment variable\u001B[39m\u001B[33m\"\u001B[39m\n\u001B[32m     81\u001B[39m     )\n\u001B[32m     82\u001B[39m \u001B[38;5;28mself\u001B[39m.api_key = api_key\n\u001B[32m     84\u001B[39m \u001B[38;5;28;01mif\u001B[39;00m base_url \u001B[38;5;129;01mis\u001B[39;00m \u001B[38;5;28;01mNone\u001B[39;00m:\n",
      "\u001B[31mGroqError\u001B[39m: The api_key client option must be set either by passing api_key to the client or by setting the GROQ_API_KEY environment variable"
     ]
    }
   ],
   "execution_count": 4
  },
  {
   "cell_type": "code",
   "source": [
    "prompt = \"\"\"\n",
    "    messages: Segundo a NASA quais seriam os benefícios científicos de ir para Marte?\n",
    "    \"\"\""
   ],
   "metadata": {
    "id": "q2qaKQ2gy-U_",
    "ExecuteTime": {
     "end_time": "2025-08-19T12:33:50.145976700Z",
     "start_time": "2025-08-16T19:42:52.684119Z"
    }
   },
   "outputs": [],
   "execution_count": 48
  },
  {
   "cell_type": "code",
   "source": [
    "resposta = llm.invoke(prompt)"
   ],
   "metadata": {
    "id": "KLo9AaWcy8Dg",
    "ExecuteTime": {
     "end_time": "2025-08-19T12:33:50.199062100Z",
     "start_time": "2025-08-16T19:42:52.744093Z"
    }
   },
   "outputs": [],
   "execution_count": 49
  },
  {
   "cell_type": "code",
   "source": [
    "resposta"
   ],
   "metadata": {
    "colab": {
     "base_uri": "https://localhost:8080/"
    },
    "id": "tJctjyIl0-ft",
    "outputId": "626fd74b-cca6-4dfc-d448-ff7a51248a83",
    "ExecuteTime": {
     "end_time": "2025-08-19T12:33:50.209139300Z",
     "start_time": "2025-08-16T19:42:55.417Z"
    }
   },
   "outputs": [
    {
     "data": {
      "text/plain": [
       "AIMessage(content='A NASA identificou vários benefícios científicos em enviar missões tripuladas para Marte. Aqui estão alguns dos principais objetivos e vantagens científicas:\\n\\n1. **Entendimento da Formação e Evolução do Sistema Solar**: Marte é considerado um \"irmão\" mais antigo da Terra, oferecendo uma janela para o passado do Sistema Solar. Estudar Marte pode fornecer insights sobre a formação e evolução dos planetas terrestres.\\n\\n2. **Busca por Vida Passada ou Presente**: Uma das questões mais fundamentais da exploração espacial é se estamos sós no universo. Marte, com sua superfície hostil mas que pode ter sido mais hospitaleira no passado, é um alvo primário na busca por evidências de vida extraterrestre, seja ela passada ou presente.\\n\\n3. **Geologia e Clima de Marte**: A superfície de Marte é marcada por vastas planícies vulcânicas, o maior vulcão do Sistema Solar (Olympus Mons), e cânions imensos, como o Valles Marineris. Estudar essas formações pode revelar detalhes sobre a história geológica do planeta, incluindo sua atividade tectônica e climática passada.\\n\\n4. **Potencial de Recursos**: Marte pode ter recursos que seriam cruciais para o estabelecimento de bases permanentes ou para a viagem espacial de longa duração, como água congelada, que pode ser usada para produzir oxigênio e combustível.\\n\\n5. **Preparação para Missões de Longa Duração**: Uma missão a Marte seria a mais longa e complexa já empreendida pela humanidade. O aprendizado adquirido com essa missão, incluindo a proteção contra radiação, o suprimento de comida e água, e a saúde mental dos astronautas, seria valioso para futuras explorações espaciais.\\n\\n6. **Desenvolvimento Tecnológico**: As missões a Marte impulsionam o desenvolvimento de tecnologias avançadas, desde sistemas de propulsão mais eficientes até equipamentos de proteção contra radiação e ambientes hostis. Esses avanços tecnológicos podem ter aplicações terrestres, melhorando a vida das pessoas em áreas como medicina, transporte e comunicação.\\n\\n7. **Entendimento do Ambiente de Radiação**: Marte oferece uma oportunidade única para estudar os efeitos da radiação cósmica em seres vivos e equipamentos eletrônicos, o que é crucial para a proteção de astronautas em viagens espaciais de longa duração.\\n\\n8. **Geofísica e Campo Magnético**: Estudar o campo magnético de Marte, ou sua ausência, pode fornecer insights sobre a história do planeta e como isso afeta sua capacidade de sustentar vida.\\n\\nEnfim, a exploração de Marte é uma jornada científica que pode revelar segredos sobre o universo, a formação dos planetas, a possibilidade de vida extraterrestre, e muito mais, contribuindo significativamente para o avanço da ciência e da humanidade.', additional_kwargs={}, response_metadata={'token_usage': {'completion_tokens': 730, 'prompt_tokens': 60, 'total_tokens': 790, 'completion_time': 2.131458515, 'prompt_time': 0.012029323, 'queue_time': 0.269794663, 'total_time': 2.143487838}, 'model_name': 'llama-3.3-70b-versatile', 'system_fingerprint': 'fp_3f3b593e33', 'service_tier': 'on_demand', 'finish_reason': 'stop', 'logprobs': None}, id='run--8182f080-ae76-4b77-89ee-72b93910e9d6-0', usage_metadata={'input_tokens': 60, 'output_tokens': 730, 'total_tokens': 790})"
      ]
     },
     "execution_count": 50,
     "metadata": {},
     "output_type": "execute_result"
    }
   ],
   "execution_count": 50
  },
  {
   "cell_type": "markdown",
   "source": [
    "# Carregando um pdf"
   ],
   "metadata": {
    "id": "YpHCmQvyS1Bn"
   }
  },
  {
   "cell_type": "code",
   "source": [
    "url = 'https://raw.githubusercontent.com/allanspadini/curso-flash-rag/main/m2m_strategy_and_objectives_development.pdf'"
   ],
   "metadata": {
    "id": "4QQ7s6RPSifL",
    "ExecuteTime": {
     "end_time": "2025-08-19T12:33:50.211304Z",
     "start_time": "2025-08-16T19:42:55.472053Z"
    }
   },
   "outputs": [],
   "execution_count": 51
  },
  {
   "cell_type": "code",
   "source": [
    "from langchain_community.document_loaders import PyPDFLoader\n",
    "\n",
    "loader = PyPDFLoader(url)\n",
    "pages = []\n",
    "async for page in loader.alazy_load():\n",
    "    pages.append(page)"
   ],
   "metadata": {
    "id": "fiZg5f4oS5D2",
    "ExecuteTime": {
     "end_time": "2025-08-19T12:33:50.211808800Z",
     "start_time": "2025-08-16T19:44:45.166882Z"
    }
   },
   "outputs": [],
   "execution_count": 81
  },
  {
   "cell_type": "code",
   "source": [
    "print(f\"{pages[0].metadata}\\n\")\n",
    "print(pages[0].page_content)"
   ],
   "metadata": {
    "colab": {
     "base_uri": "https://localhost:8080/"
    },
    "id": "Qq7lYi01S6Xy",
    "outputId": "eb87e4f1-cbc3-4313-87f1-203697d6bc86",
    "ExecuteTime": {
     "end_time": "2025-08-19T12:33:50.212728200Z",
     "start_time": "2025-08-16T19:42:57.283435Z"
    }
   },
   "outputs": [
    {
     "name": "stdout",
     "output_type": "stream",
     "text": [
      "{'producer': 'Adobe PDF Library 17.0', 'creator': 'Adobe InDesign 18.2 (Windows)', 'creationdate': '2023-04-06T17:28:28-04:00', 'moddate': '2023-04-06T17:29:25-04:00', 'trapped': '/False', 'source': 'https://raw.githubusercontent.com/allanspadini/curso-flash-rag/main/m2m_strategy_and_objectives_development.pdf', 'total_pages': 78, 'page': 0, 'page_label': '1'}\n",
      "\n",
      "NASA’S \n",
      "MOON TO MARS \n",
      "STRATEGY AND \n",
      "OBJECTIVES \n",
      "DEVELOPMENT\n",
      "A blueprint for sustained \n",
      "human presence and \n",
      "exploration throughout \n",
      "the Solar System\n",
      "National Aeronautics and\n",
      "Space Administration\n"
     ]
    }
   ],
   "execution_count": 53
  },
  {
   "cell_type": "markdown",
   "source": [
    "# Base de dados vetorial"
   ],
   "metadata": {
    "id": "hj53-1zATOgD"
   }
  },
  {
   "cell_type": "code",
   "source": [
    "from langchain_core.vectorstores import InMemoryVectorStore\n",
    "from langchain_huggingface import HuggingFaceEmbeddings"
   ],
   "metadata": {
    "id": "XXrEC1OqS-1g",
    "ExecuteTime": {
     "end_time": "2025-08-19T12:33:50.212728200Z",
     "start_time": "2025-08-16T19:44:03.684355Z"
    }
   },
   "outputs": [],
   "execution_count": 67
  },
  {
   "cell_type": "code",
   "source": [
    "import os\n",
    "from huggingface_hub import InferenceClient\n",
    "\n",
    "client = InferenceClient(\n",
    "    provider=\"hf-inference\",\n",
    "    api_key=huggingface_token,\n",
    ")\n",
    "result = client.feature_extraction(\n",
    "    \"Today is a sunny day and I will get some ice cream.\",\n",
    "    model=\"mixedbread-ai/mxbai-embed-large-v1\",\n",
    ")\n",
    "\n"
   ],
   "metadata": {
    "colab": {
     "base_uri": "https://localhost:8080/",
     "height": 369,
     "referenced_widgets": [
      "66b39e83322d4be7870927072b2451f2",
      "f712f377be7a40709bc259e054898c40",
      "e2acd2a571464c77ad4721bf5324aec3",
      "77ed2a6884f44d58816189fa684a8cbc",
      "8183539308a24cee8674f2ba4712c395",
      "b7077068afc04e7f93865b4dcb87af62",
      "c27e7325c0f34bff9bf69a24aab49603",
      "a74ccad6110843ec898986c47a2d2c30",
      "03cfe087344148feb5b45a60e28ba39f",
      "3eb2056b018d47d6ad51133b3213fa34",
      "79773f675ae74f3580a99e92cc5007e5",
      "0f87d90831c14c0793dbbf7a9824de47",
      "70fba00bb5aa4d52ac406b09dd164071",
      "6981f724bf03434e82389310cda71ef8",
      "ae2ca684471643e1a98ccb1ac5431326",
      "e18df2b8baa048348ce4fdef6efece3a",
      "a6c3e0e391fd4333a51d618241e9a75b",
      "681e1dc41bf94de1b51f7851d7e2dbe7",
      "9b182e6ad1684bb18762dbcf23fb3038",
      "ffcae20b07d445bcaab82598d4d91a85",
      "0a42e55e3cb2427a863a6a69a993968d",
      "8b7048778302459da442a3ca3d8f7b02",
      "9b3c9912ae8345f79ffcb382085e0850",
      "3c437d09b55443609a5fc37c1df6e7ad",
      "f64dc8ac0fa0424cb76afe36139012f1",
      "97c21b75b9af4fd6894cbe74c1969dd5",
      "ef3e2722b2504c34abd5acdfe941c194",
      "02bb8719a1444f5db8538a862908b828",
      "2298ed0f32e049c99e1ec02ceb931bc0",
      "c75ac322860a4520899c4ac0da87452b",
      "ae7fd200e0694772b91ae49ef097130e",
      "0e1ec1d705184f31aefc8df96468f1a8",
      "5a850197348847529e7db1a10c1f1f68",
      "ec21fd6393a240ec9ea5dba5329927f7",
      "084852ffe9ed41b085821f91cf955d0a",
      "9714139bb8fc449990b63c96584e086d",
      "873aebd8810f40c8882d6041d2b4e1b6",
      "95ea0497937b4841a3e8992b8182685b",
      "249e1001dbba41cdb9c366d0fa75d0b3",
      "f337e068467c45a4862dae16473ae73c",
      "6a170a51ef63422f9013994b5b5564a5",
      "cf89c8e5290445028a9c686ed060ceed",
      "4e9aba63fa8a4c0eb4257dc2361ec0e2",
      "19db5f7539734db3a4cd7f8df2a99f16",
      "3ba294f9898046d3a58f4e17a95043ed",
      "44cf7987d7364acba5a308392a16c6f3",
      "8ad770435f704d18a3fa6da349ff07f7",
      "809a827fdbc3499e835dea227fe9ac72",
      "ed1c820e3a224e3f83977be7785a1c41",
      "3f227785d4004d328c78a68616ff60de",
      "7d9f5edf83a4411892dd9611af58e953",
      "f87caeae1f0c468896e24991a20cf8a7",
      "f6a5319ee2de4ad189be20a6ddeb0710",
      "c855fbec7cb3428386274a3511f857c4",
      "80a6247f237641a89b87c31bd58b3e03",
      "a18ce5d79c7746d6932e8b2a320761fb",
      "b905d58f8a6841b3a505df8a68d53199",
      "1cdfff3bd6ec4dda92be622e7efd57da",
      "4f0f9e39101a4accaea9cbc0301e3509",
      "6a8261fa730d4ff997faa4ed3e51e9d3",
      "d724affb48414ce6a15bad9fcb7007e4",
      "030a106570304525aa45427e388e1a41",
      "2da645314fa9478cb4111399f6a8a983",
      "7dbc29e770204630907f2ed744d098d8",
      "8d322515cda44ddb89e2c486b6108407",
      "df93646759a940fc838e1ad2133066b9",
      "b2c079e225ce4d1b905e343890fd2495",
      "ce9e3a860f2b43d6a0b11e9adc70dd5e",
      "4a6383f9d10646a69f79ac30f05b6597",
      "b3d66860b4fc4a5680c865ff4b38d600",
      "0cce157f09174660bd8864befb59d50d",
      "87961513fe5d4d3b9c59d1a152f0b0b8",
      "9ac1b2ccd32c4be4b70561943ed1baaa",
      "35564f1069e443c9ae04b0b14be70df6",
      "411f2721e2eb40e79acc1f750012acb0",
      "4ed052a9e18743c39f50f759251a4fd5",
      "d51558dd1210498d97f02b3c2f209dda",
      "3a2347f1087e45f58aa04c8e166b7609",
      "90691ea7d8a4404082546ff44684fa3b",
      "c608a36acfd04388a91e79115b45ec73",
      "7d6268a08b8044c6835846a6c8106da3",
      "dcf191cf95154ee3b19bec1b20477844",
      "782ab966d42d4c769ab5a2fc53929bf5",
      "680df6f3670c483bb8e3164eaf97a0d0",
      "0158be5b1b3e4d13b5356327d13ab588",
      "468d923d2e634c0a9e73efd29e2c9178",
      "83549cde934d4559938556b8d4781159",
      "f00c9fca50c64ee78f086a0215b4f5a5",
      "d3146668c7f4460a9d0008781875b7b4",
      "515193786e064733be6a82ae3e6d7b46",
      "68ad68d4cc204943be4ef6624487df16",
      "b9d85835763841b989a584b55cadd803",
      "777899c7aded444a829adaac4c9f05d6",
      "150c58ad391048d3a189862edcc69ee1",
      "926785c7450747ff8ebe2a58c6a402c2",
      "17d2c3f6ae68483eb543096d9c2607b9",
      "a9e2360ecc0c4417ac655aa3c702a48f",
      "85b14208607540c5a713692d6fd4ccfe",
      "5bcaefb285d34839a9041d33100a52df",
      "90859410deed4b82be8c363690bf2052",
      "997babc96fd14949a2bb3bdf984f90a8",
      "b25029e79e934e27b50c5bc344f597fe",
      "6dbd6cb32a6e4421a49be83ca6c1c91b",
      "eb292fc1bc6f4069b0ba4a3f8b38cf7e",
      "9b1922f3218d4b159692e92ceb66b8e8",
      "2c6ce03c96ab4fc69b2901037b49fb0c",
      "0e89c82570ba4ddfa756d6c7d60617bc",
      "0ab3deb983d64dc58007347835fdc2c8",
      "824e3c45336741d29755cf30ad64b8f9",
      "89b6027824c5452b983d117ac6db50ca",
      "0f4f3f486b574a5e926f273db51e89ce",
      "56cecb1b26424869ac55933b28e8f0d4",
      "dafb1110a1564867a6a1543c2afeaeb9",
      "ccf3cbee3d974479a6bba042313d0d43",
      "25b0fc6cba0d4e9d8e9295344c8ec699",
      "413df1a7f6534016b10de9097818a465",
      "ec901e6780c94d9ba41f9ceaae6d84f1",
      "a2a9f8df3f6c4660b7b5afb8f2189b0b",
      "2035c91befa1433385fa0d9b1af52638",
      "d4188a8063784f9d9d14829c706d849b",
      "80078ebe110b465da94c077ec08bf0db"
     ]
    },
    "id": "7mSPHgBeTSFB",
    "outputId": "cd3e9cdd-bb65-4bec-9bea-b7e97f18b8c1",
    "ExecuteTime": {
     "end_time": "2025-08-19T12:33:50.212728200Z",
     "start_time": "2025-08-16T19:44:41.483944Z"
    }
   },
   "outputs": [],
   "execution_count": 80
  },
  {
   "metadata": {
    "ExecuteTime": {
     "end_time": "2025-08-19T12:33:50.213741300Z",
     "start_time": "2025-08-16T19:43:01.171406Z"
    }
   },
   "cell_type": "code",
   "source": [
    "%pip install sentence-transformers\n",
    "embed_model = HuggingFaceEmbeddings(model_name=\"mixedbread-ai/mxbai-embed-large-v1\")"
   ],
   "outputs": [
    {
     "name": "stdout",
     "output_type": "stream",
     "text": [
      "/bin/bash: warning: setlocale: LC_ALL: cannot change locale (en_US.UTF-8)\r\n"
     ]
    },
    {
     "name": "stderr",
     "output_type": "stream",
     "text": [
      "huggingface/tokenizers: The current process just got forked, after parallelism has already been used. Disabling parallelism to avoid deadlocks...\n",
      "To disable this warning, you can either:\n",
      "\t- Avoid using `tokenizers` before the fork if possible\n",
      "\t- Explicitly set the environment variable TOKENIZERS_PARALLELISM=(true | false)\n"
     ]
    },
    {
     "name": "stdout",
     "output_type": "stream",
     "text": [
      "Requirement already satisfied: sentence-transformers in /home/bender/.virtualenvs/flash-skills-rag-agentes-ia/lib/python3.12/site-packages (5.1.0)\r\n",
      "Requirement already satisfied: transformers<5.0.0,>=4.41.0 in /home/bender/.virtualenvs/flash-skills-rag-agentes-ia/lib/python3.12/site-packages (from sentence-transformers) (4.55.2)\r\n",
      "Requirement already satisfied: tqdm in /home/bender/.virtualenvs/flash-skills-rag-agentes-ia/lib/python3.12/site-packages (from sentence-transformers) (4.67.1)\r\n",
      "Requirement already satisfied: torch>=1.11.0 in /home/bender/.virtualenvs/flash-skills-rag-agentes-ia/lib/python3.12/site-packages (from sentence-transformers) (2.8.0)\r\n",
      "Requirement already satisfied: scikit-learn in /home/bender/.virtualenvs/flash-skills-rag-agentes-ia/lib/python3.12/site-packages (from sentence-transformers) (1.7.1)\r\n",
      "Requirement already satisfied: scipy in /home/bender/.virtualenvs/flash-skills-rag-agentes-ia/lib/python3.12/site-packages (from sentence-transformers) (1.16.1)\r\n",
      "Requirement already satisfied: huggingface-hub>=0.20.0 in /home/bender/.virtualenvs/flash-skills-rag-agentes-ia/lib/python3.12/site-packages (from sentence-transformers) (0.34.4)\r\n",
      "Requirement already satisfied: Pillow in /home/bender/.virtualenvs/flash-skills-rag-agentes-ia/lib/python3.12/site-packages (from sentence-transformers) (11.3.0)\r\n",
      "Requirement already satisfied: typing_extensions>=4.5.0 in /home/bender/.virtualenvs/flash-skills-rag-agentes-ia/lib/python3.12/site-packages (from sentence-transformers) (4.14.1)\r\n",
      "Requirement already satisfied: filelock in /home/bender/.virtualenvs/flash-skills-rag-agentes-ia/lib/python3.12/site-packages (from transformers<5.0.0,>=4.41.0->sentence-transformers) (3.19.1)\r\n",
      "Requirement already satisfied: numpy>=1.17 in /home/bender/.virtualenvs/flash-skills-rag-agentes-ia/lib/python3.12/site-packages (from transformers<5.0.0,>=4.41.0->sentence-transformers) (2.3.2)\r\n",
      "Requirement already satisfied: packaging>=20.0 in /home/bender/.virtualenvs/flash-skills-rag-agentes-ia/lib/python3.12/site-packages (from transformers<5.0.0,>=4.41.0->sentence-transformers) (25.0)\r\n",
      "Requirement already satisfied: pyyaml>=5.1 in /home/bender/.virtualenvs/flash-skills-rag-agentes-ia/lib/python3.12/site-packages (from transformers<5.0.0,>=4.41.0->sentence-transformers) (6.0.2)\r\n",
      "Requirement already satisfied: regex!=2019.12.17 in /home/bender/.virtualenvs/flash-skills-rag-agentes-ia/lib/python3.12/site-packages (from transformers<5.0.0,>=4.41.0->sentence-transformers) (2025.7.34)\r\n",
      "Requirement already satisfied: requests in /home/bender/.virtualenvs/flash-skills-rag-agentes-ia/lib/python3.12/site-packages (from transformers<5.0.0,>=4.41.0->sentence-transformers) (2.32.4)\r\n",
      "Requirement already satisfied: tokenizers<0.22,>=0.21 in /home/bender/.virtualenvs/flash-skills-rag-agentes-ia/lib/python3.12/site-packages (from transformers<5.0.0,>=4.41.0->sentence-transformers) (0.21.4)\r\n",
      "Requirement already satisfied: safetensors>=0.4.3 in /home/bender/.virtualenvs/flash-skills-rag-agentes-ia/lib/python3.12/site-packages (from transformers<5.0.0,>=4.41.0->sentence-transformers) (0.6.2)\r\n",
      "Requirement already satisfied: fsspec>=2023.5.0 in /home/bender/.virtualenvs/flash-skills-rag-agentes-ia/lib/python3.12/site-packages (from huggingface-hub>=0.20.0->sentence-transformers) (2025.7.0)\r\n",
      "Requirement already satisfied: hf-xet<2.0.0,>=1.1.3 in /home/bender/.virtualenvs/flash-skills-rag-agentes-ia/lib/python3.12/site-packages (from huggingface-hub>=0.20.0->sentence-transformers) (1.1.7)\r\n",
      "Requirement already satisfied: setuptools in /home/bender/.virtualenvs/flash-skills-rag-agentes-ia/lib/python3.12/site-packages (from torch>=1.11.0->sentence-transformers) (80.9.0)\r\n",
      "Requirement already satisfied: sympy>=1.13.3 in /home/bender/.virtualenvs/flash-skills-rag-agentes-ia/lib/python3.12/site-packages (from torch>=1.11.0->sentence-transformers) (1.14.0)\r\n",
      "Requirement already satisfied: networkx in /home/bender/.virtualenvs/flash-skills-rag-agentes-ia/lib/python3.12/site-packages (from torch>=1.11.0->sentence-transformers) (3.5)\r\n",
      "Requirement already satisfied: jinja2 in /home/bender/.virtualenvs/flash-skills-rag-agentes-ia/lib/python3.12/site-packages (from torch>=1.11.0->sentence-transformers) (3.1.6)\r\n",
      "Requirement already satisfied: nvidia-cuda-nvrtc-cu12==12.8.93 in /home/bender/.virtualenvs/flash-skills-rag-agentes-ia/lib/python3.12/site-packages (from torch>=1.11.0->sentence-transformers) (12.8.93)\r\n",
      "Requirement already satisfied: nvidia-cuda-runtime-cu12==12.8.90 in /home/bender/.virtualenvs/flash-skills-rag-agentes-ia/lib/python3.12/site-packages (from torch>=1.11.0->sentence-transformers) (12.8.90)\r\n",
      "Requirement already satisfied: nvidia-cuda-cupti-cu12==12.8.90 in /home/bender/.virtualenvs/flash-skills-rag-agentes-ia/lib/python3.12/site-packages (from torch>=1.11.0->sentence-transformers) (12.8.90)\r\n",
      "Requirement already satisfied: nvidia-cudnn-cu12==9.10.2.21 in /home/bender/.virtualenvs/flash-skills-rag-agentes-ia/lib/python3.12/site-packages (from torch>=1.11.0->sentence-transformers) (9.10.2.21)\r\n",
      "Requirement already satisfied: nvidia-cublas-cu12==12.8.4.1 in /home/bender/.virtualenvs/flash-skills-rag-agentes-ia/lib/python3.12/site-packages (from torch>=1.11.0->sentence-transformers) (12.8.4.1)\r\n",
      "Requirement already satisfied: nvidia-cufft-cu12==11.3.3.83 in /home/bender/.virtualenvs/flash-skills-rag-agentes-ia/lib/python3.12/site-packages (from torch>=1.11.0->sentence-transformers) (11.3.3.83)\r\n",
      "Requirement already satisfied: nvidia-curand-cu12==10.3.9.90 in /home/bender/.virtualenvs/flash-skills-rag-agentes-ia/lib/python3.12/site-packages (from torch>=1.11.0->sentence-transformers) (10.3.9.90)\r\n",
      "Requirement already satisfied: nvidia-cusolver-cu12==11.7.3.90 in /home/bender/.virtualenvs/flash-skills-rag-agentes-ia/lib/python3.12/site-packages (from torch>=1.11.0->sentence-transformers) (11.7.3.90)\r\n",
      "Requirement already satisfied: nvidia-cusparse-cu12==12.5.8.93 in /home/bender/.virtualenvs/flash-skills-rag-agentes-ia/lib/python3.12/site-packages (from torch>=1.11.0->sentence-transformers) (12.5.8.93)\r\n",
      "Requirement already satisfied: nvidia-cusparselt-cu12==0.7.1 in /home/bender/.virtualenvs/flash-skills-rag-agentes-ia/lib/python3.12/site-packages (from torch>=1.11.0->sentence-transformers) (0.7.1)\r\n",
      "Requirement already satisfied: nvidia-nccl-cu12==2.27.3 in /home/bender/.virtualenvs/flash-skills-rag-agentes-ia/lib/python3.12/site-packages (from torch>=1.11.0->sentence-transformers) (2.27.3)\r\n",
      "Requirement already satisfied: nvidia-nvtx-cu12==12.8.90 in /home/bender/.virtualenvs/flash-skills-rag-agentes-ia/lib/python3.12/site-packages (from torch>=1.11.0->sentence-transformers) (12.8.90)\r\n",
      "Requirement already satisfied: nvidia-nvjitlink-cu12==12.8.93 in /home/bender/.virtualenvs/flash-skills-rag-agentes-ia/lib/python3.12/site-packages (from torch>=1.11.0->sentence-transformers) (12.8.93)\r\n",
      "Requirement already satisfied: nvidia-cufile-cu12==1.13.1.3 in /home/bender/.virtualenvs/flash-skills-rag-agentes-ia/lib/python3.12/site-packages (from torch>=1.11.0->sentence-transformers) (1.13.1.3)\r\n",
      "Requirement already satisfied: triton==3.4.0 in /home/bender/.virtualenvs/flash-skills-rag-agentes-ia/lib/python3.12/site-packages (from torch>=1.11.0->sentence-transformers) (3.4.0)\r\n",
      "Requirement already satisfied: mpmath<1.4,>=1.1.0 in /home/bender/.virtualenvs/flash-skills-rag-agentes-ia/lib/python3.12/site-packages (from sympy>=1.13.3->torch>=1.11.0->sentence-transformers) (1.3.0)\r\n",
      "Requirement already satisfied: MarkupSafe>=2.0 in /home/bender/.virtualenvs/flash-skills-rag-agentes-ia/lib/python3.12/site-packages (from jinja2->torch>=1.11.0->sentence-transformers) (3.0.2)\r\n",
      "Requirement already satisfied: charset_normalizer<4,>=2 in /home/bender/.virtualenvs/flash-skills-rag-agentes-ia/lib/python3.12/site-packages (from requests->transformers<5.0.0,>=4.41.0->sentence-transformers) (3.4.3)\r\n",
      "Requirement already satisfied: idna<4,>=2.5 in /home/bender/.virtualenvs/flash-skills-rag-agentes-ia/lib/python3.12/site-packages (from requests->transformers<5.0.0,>=4.41.0->sentence-transformers) (3.10)\r\n",
      "Requirement already satisfied: urllib3<3,>=1.21.1 in /home/bender/.virtualenvs/flash-skills-rag-agentes-ia/lib/python3.12/site-packages (from requests->transformers<5.0.0,>=4.41.0->sentence-transformers) (2.5.0)\r\n",
      "Requirement already satisfied: certifi>=2017.4.17 in /home/bender/.virtualenvs/flash-skills-rag-agentes-ia/lib/python3.12/site-packages (from requests->transformers<5.0.0,>=4.41.0->sentence-transformers) (2025.8.3)\r\n",
      "Requirement already satisfied: joblib>=1.2.0 in /home/bender/.virtualenvs/flash-skills-rag-agentes-ia/lib/python3.12/site-packages (from scikit-learn->sentence-transformers) (1.5.1)\r\n",
      "Requirement already satisfied: threadpoolctl>=3.1.0 in /home/bender/.virtualenvs/flash-skills-rag-agentes-ia/lib/python3.12/site-packages (from scikit-learn->sentence-transformers) (3.6.0)\r\n",
      "\r\n",
      "\u001B[1m[\u001B[0m\u001B[34;49mnotice\u001B[0m\u001B[1;39;49m]\u001B[0m\u001B[39;49m A new release of pip is available: \u001B[0m\u001B[31;49m25.1.1\u001B[0m\u001B[39;49m -> \u001B[0m\u001B[32;49m25.2\u001B[0m\r\n",
      "\u001B[1m[\u001B[0m\u001B[34;49mnotice\u001B[0m\u001B[1;39;49m]\u001B[0m\u001B[39;49m To update, run: \u001B[0m\u001B[32;49m/home/bender/.virtualenvs/flash-skills-rag-agentes-ia/bin/python -m pip install --upgrade pip\u001B[0m\r\n",
      "Note: you may need to restart the kernel to use updated packages.\n"
     ]
    }
   ],
   "execution_count": 56
  },
  {
   "cell_type": "code",
   "source": [
    "vector_store = InMemoryVectorStore.from_documents(pages, embed_model)"
   ],
   "metadata": {
    "id": "_4Gk1ks6TVvo",
    "ExecuteTime": {
     "end_time": "2025-08-19T12:33:50.213741300Z",
     "start_time": "2025-08-16T19:43:14.159818Z"
    }
   },
   "outputs": [],
   "execution_count": 57
  },
  {
   "cell_type": "markdown",
   "source": [
    "# Buscando informações"
   ],
   "metadata": {
    "id": "rpUELoqCTZVb"
   }
  },
  {
   "cell_type": "code",
   "source": [
    "docs = vector_store.similarity_search(\"Objectives Development Process\", k=2)"
   ],
   "metadata": {
    "id": "VCA3YqZJTYZt",
    "ExecuteTime": {
     "end_time": "2025-08-19T12:33:50.214733500Z",
     "start_time": "2025-08-16T19:43:06.414038Z"
    }
   },
   "outputs": [],
   "execution_count": 58
  },
  {
   "cell_type": "code",
   "source": [
    "for doc in docs:\n",
    "    print(f'Page {doc.metadata[\"page\"]}: {doc.page_content[:300]}\\n')"
   ],
   "metadata": {
    "colab": {
     "base_uri": "https://localhost:8080/"
    },
    "id": "7NN8qUs7Td8o",
    "outputId": "f75e1dc8-700b-4e56-9685-e0df35109503",
    "ExecuteTime": {
     "end_time": "2025-08-19T12:33:50.214733500Z",
     "start_time": "2025-08-16T19:43:06.466964Z"
    }
   },
   "outputs": [
    {
     "name": "stdout",
     "output_type": "stream",
     "text": [
      "Page 42: APPENDIX B: OBJECTIVES DEVELOPMENT PROCESS\n",
      "In accordance with the methodology principle of Architect from the Right, in November 2021, the NASA Executive Council \n",
      "tasked the mission directorates to draft a set of top-level goals and objectives necessary to achieve the Moon to Mars \n",
      "endeavor. The tas\n",
      "\n",
      "Page 13: objective-baSed approach architect From the riGht / execute From the leFt\n",
      "Architect from the right \n",
      "– work backwards from \n",
      "the defined goal and \n",
      "establish a complete set \n",
      "of elements that will be \n",
      "required for success.\n",
      "NASA’s Moon to Mars strategy is guided by both a robust systems engineering proce\n",
      "\n"
     ]
    }
   ],
   "execution_count": 59
  },
  {
   "cell_type": "markdown",
   "source": [
    "# Pipeline RAG"
   ],
   "metadata": {
    "id": "xSsCmZFLbzP9"
   }
  },
  {
   "cell_type": "code",
   "source": "retriever = vector_store.as_retriever()",
   "metadata": {
    "id": "7qpMOgMMb3zz",
    "ExecuteTime": {
     "end_time": "2025-08-19T12:33:50.219257500Z",
     "start_time": "2025-08-16T19:44:10.580789Z"
    }
   },
   "outputs": [],
   "execution_count": 71
  },
  {
   "cell_type": "code",
   "source": [
    "from langchain_core.prompts import ChatPromptTemplate"
   ],
   "metadata": {
    "id": "EyMOTprMb69X",
    "ExecuteTime": {
     "end_time": "2025-08-19T12:33:50.220259200Z",
     "start_time": "2025-08-16T19:44:10.589286Z"
    }
   },
   "outputs": [],
   "execution_count": 72
  },
  {
   "cell_type": "code",
   "source": [
    "template = \"\"\"You're a helpful assistant that only gives answers bases on the given context. If the answer is not in the context, say \"I don't know\".\n",
    "\n",
    "Context:\n",
    "{context}\n",
    "\n",
    "Question:\n",
    "{question}\n",
    "\n",
    "Answer:\"\"\""
   ],
   "metadata": {
    "id": "LY2ufLQtb-Yt",
    "ExecuteTime": {
     "end_time": "2025-08-19T12:33:50.220259200Z",
     "start_time": "2025-08-16T19:44:13.471378Z"
    }
   },
   "outputs": [],
   "execution_count": 73
  },
  {
   "cell_type": "code",
   "source": [
    "prompt = ChatPromptTemplate.from_template(template)"
   ],
   "metadata": {
    "id": "p4s-Pc6ucJT8",
    "ExecuteTime": {
     "end_time": "2025-08-19T12:33:50.222255800Z",
     "start_time": "2025-08-16T19:43:06.672926Z"
    }
   },
   "outputs": [],
   "execution_count": 63
  },
  {
   "cell_type": "code",
   "source": [
    "from langchain_core.output_parsers import StrOutputParser\n",
    "from langchain_core.runnables import RunnablePassthrough"
   ],
   "metadata": {
    "id": "MUR2YCtocLR_",
    "ExecuteTime": {
     "end_time": "2025-08-19T12:33:50.223260100Z",
     "start_time": "2025-08-16T19:43:06.724962Z"
    }
   },
   "outputs": [],
   "execution_count": 64
  },
  {
   "cell_type": "code",
   "source": [
    "chain = (\n",
    "    {\"context\": retriever, \"question\": RunnablePassthrough()}\n",
    "    | prompt\n",
    "    | llm\n",
    "    | StrOutputParser()\n",
    ")"
   ],
   "metadata": {
    "id": "A_f4DhcBcPDB",
    "ExecuteTime": {
     "end_time": "2025-08-19T12:33:50.224268400Z",
     "start_time": "2025-08-16T19:44:36.956562Z"
    }
   },
   "outputs": [],
   "execution_count": 79
  },
  {
   "cell_type": "code",
   "source": [
    "from IPython.display import display, Markdown"
   ],
   "metadata": {
    "id": "bHriVM4TcQ_I",
    "ExecuteTime": {
     "end_time": "2025-08-19T12:33:50.224268400Z",
     "start_time": "2025-08-16T19:44:47.404231Z"
    }
   },
   "outputs": [],
   "execution_count": 82
  },
  {
   "cell_type": "code",
   "source": [
    "response = chain.invoke(\"What are the Objectives Development Process?\")\n",
    "Markdown(response)"
   ],
   "metadata": {
    "colab": {
     "base_uri": "https://localhost:8080/",
     "height": 301
    },
    "id": "fELyitVncTXE",
    "outputId": "ec24fe37-385d-44f5-981e-0f79677c9402",
    "ExecuteTime": {
     "end_time": "2025-08-19T12:33:50.224268400Z",
     "start_time": "2025-08-16T19:44:50.107279Z"
    }
   },
   "outputs": [
    {
     "data": {
      "text/plain": [
       "<IPython.core.display.Markdown object>"
      ],
      "text/markdown": "The Objectives Development Process is described in Appendix B and also mentioned in other parts of the context. According to the context, in November 2021, NASA leadership began to identify top-level goals and objectives related to the blueprint vision and Moon to Mars strategy. The Federated Board facilitated approval of these goals and objectives, which were binned into four distinct tracks: \n\n1. Operations\n2. Infrastructure\n3. Transportation and Habitation\n4. Science\n\nThe original nine goals and 50 draft objectives were released to the public and the NASA workforce in May 2022 with a request for comments by June 2022. NASA received more than 5,000 inputs, which resulted in modification of many objectives and the addition of several new ones. NASA held consultation workshops with both industry and international partners to continue to refine the objectives and identify gaps, welcoming the substantive and influential feedback.\n\nThe resulting revised 10 goals and 63 final objectives reflect a matured strategy for NASA and its partners to develop a blueprint for sustained human presence and exploration throughout the solar system via the Moon to Mars endeavor. \n\nAdditionally, the context mentions that the Aeronautics Mission Directorate supported the Science Mission Directorate with the Science objectives and was actively involved in the entire objectives development process. The Federated Board reached consensus on an initial draft set of 45 objectives by March 2022. \n\nThe process of architecting from the right can be carried down with increasing specificity to establish a full plan, and once the wireframe is fully architected by looking toward the future state, element development follows from the left, integrating into the blueprint architecture as development advances."
     },
     "execution_count": 83,
     "metadata": {},
     "output_type": "execute_result"
    }
   ],
   "execution_count": 83
  },
  {
   "cell_type": "markdown",
   "source": [
    "# Criando uma ferramenta"
   ],
   "metadata": {
    "id": "JvqtMqs4T_oq"
   }
  },
  {
   "cell_type": "code",
   "source": "from langchain_core.tools import tool",
   "metadata": {
    "id": "IRaupO7iVRhy",
    "ExecuteTime": {
     "end_time": "2025-08-19T12:33:50.225240200Z",
     "start_time": "2025-08-16T19:46:34.920971Z"
    }
   },
   "outputs": [],
   "execution_count": 84
  },
  {
   "cell_type": "code",
   "source": [
    "@tool\n",
    "def pega_contexto(query: str) -> str:\n",
    "    \"\"\"Pega o contexto baseado em uma pesquisa.\"\"\"\n",
    "    retriever = vector_store.as_retriever()\n",
    "    resultado = retriever.invoke(query)\n",
    "    return resultado"
   ],
   "metadata": {
    "id": "8yNhMQOxTkgb",
    "ExecuteTime": {
     "end_time": "2025-08-19T12:33:50.225240200Z",
     "start_time": "2025-08-16T19:46:39.445601Z"
    }
   },
   "outputs": [],
   "execution_count": 85
  },
  {
   "cell_type": "code",
   "source": [
    "async def carrega_pdf(url: str):\n",
    "    loader = PyPDFLoader(url)\n",
    "    pages = []\n",
    "    async for page in loader.alazy_load():\n",
    "        pages.append(page)\n",
    "    vectorstore = InMemoryVectorStore.from_documents(pages, embed_model)\n",
    "    return vectorstore"
   ],
   "metadata": {
    "id": "WjhSMAL0VLIw",
    "ExecuteTime": {
     "end_time": "2025-08-19T12:33:50.225240200Z",
     "start_time": "2025-08-16T19:48:19.148744Z"
    }
   },
   "outputs": [],
   "execution_count": 87
  },
  {
   "cell_type": "code",
   "source": [
    "import asyncio\n",
    "\n",
    "async def load_vector_stores():\n",
    "    global vector_store_agriculture, vector_store_dengue\n",
    "    vector_store_agriculture = await carrega_pdf('https://raw.githubusercontent.com/allanspadini/curso-flash-rag/main/agriculture.pdf')\n",
    "    vector_store_dengue = await carrega_pdf('https://raw.githubusercontent.com/allanspadini/curso-flash-rag/main/dengue.pdf')\n",
    "\n",
    "await load_vector_stores()"
   ],
   "metadata": {
    "id": "FfZhYy7yVXMh",
    "ExecuteTime": {
     "end_time": "2025-08-19T12:33:50.225240200Z",
     "start_time": "2025-08-16T19:48:30.340001Z"
    }
   },
   "outputs": [],
   "execution_count": 88
  },
  {
   "cell_type": "code",
   "source": [
    "@tool\n",
    "def pega_contexto_agriculture(query: str) -> str:\n",
    "    \"\"\"Pega o contexto sobre agricultura baseado em uma pesquisa.\"\"\"\n",
    "    retriever = vector_store_agriculture.as_retriever()\n",
    "    resultado = retriever.invoke(query)\n",
    "    return resultado"
   ],
   "metadata": {
    "id": "rmc9-F32ZFvP",
    "ExecuteTime": {
     "end_time": "2025-08-19T12:33:50.226745900Z",
     "start_time": "2025-08-16T19:48:55.887019Z"
    }
   },
   "outputs": [],
   "execution_count": 89
  },
  {
   "cell_type": "code",
   "source": [
    "@tool\n",
    "def pega_contexto_dengue(query: str) -> str:\n",
    "    \"\"\"Pega o contexto sobre dengue baseado em uma pesquisa.\"\"\"\n",
    "    retriever = vector_store_dengue.as_retriever()\n",
    "    resultado = retriever.invoke(query)\n",
    "    return resultado"
   ],
   "metadata": {
    "id": "8urDg-nmZGQI",
    "ExecuteTime": {
     "end_time": "2025-08-19T12:33:50.226745900Z",
     "start_time": "2025-08-16T19:49:01.323043Z"
    }
   },
   "outputs": [],
   "execution_count": 90
  },
  {
   "cell_type": "code",
   "source": [
    "tools = [pega_contexto,pega_contexto_agriculture,pega_contexto_dengue]"
   ],
   "metadata": {
    "id": "X5_RdzhTWgma",
    "ExecuteTime": {
     "end_time": "2025-08-19T12:33:50.227751600Z",
     "start_time": "2025-08-16T19:49:03.955984Z"
    }
   },
   "outputs": [],
   "execution_count": 91
  },
  {
   "cell_type": "code",
   "source": [
    "pega_contexto_dengue.invoke(\"Cases of dengue we had since the beginning of 2025?\")"
   ],
   "metadata": {
    "colab": {
     "base_uri": "https://localhost:8080/"
    },
    "id": "0nIAYVQWiY1A",
    "outputId": "a2daa49f-4c74-42ab-fe26-5511c44389ee",
    "ExecuteTime": {
     "end_time": "2025-08-19T12:33:50.227751600Z",
     "start_time": "2025-08-16T19:49:08.516459Z"
    }
   },
   "outputs": [
    {
     "data": {
      "text/plain": [
       "[Document(id='cc3c0228-0498-4402-907b-83c203bf1a09', metadata={'producer': 'Microsoft® Word for Microsoft 365', 'creator': 'Microsoft® Word for Microsoft 365', 'creationdate': '2022-04-05T11:18:49+02:00', 'author': 'ECDC', 'keywords': 'dengue; annual epidemiological report; EU/EEA', 'moddate': '2022-04-05T11:21:18+02:00', 'subject': 'Dengue', 'title': 'Dengue - Annual Epidemiological Report for 2020', 'source': 'https://raw.githubusercontent.com/allanspadini/curso-flash-rag/main/dengue.pdf', 'total_pages': 8, 'page': 0, 'page_label': '1'}, page_content='Suggested citation: European Centre for Disease Prevention and Control. Dengue. In: ECDC. Annual epidemiological report for \\n2020. Stockholm: ECDC; 2022. \\n \\nStockholm, April 2022 \\n \\n© European Centre for Disease Prevention and Control, 2022. Reproduction is authorised, provided the source is acknowledged. \\n \\n \\n \\n \\n \\n \\n \\n \\n \\n \\n \\n SURVEILLANCE REPORT \\nDengue \\n \\nAnnual Epidemiological Report for 2020 \\n \\n \\n \\n \\n \\nKey facts \\n• For 2020, 26 EU/EEA countries reported 1 957 cases of dengue, of which 1 820 (93%) were confirmed. \\n• From 2016 to 2020, no obvious trend in the number of cases could be identified.  \\n• The EU/EEA notification rate in 2020 was 0.5 cases per 100 000 population. \\n• The highest rates in both men and women were among those aged 25–44 years. \\n• The number of cases peaked in January and in August. \\n• 79% of the cases with known probable country of infection were imported from the Americas, mostly \\nfrom Martinique and Guadeloupe.  \\n• Twenty-four autochthonous dengue cases were reported from the EU/EEA1: 13 by France and 11 by \\nItaly. \\nIntroduction \\nDengue is a mosquito-borne disease caused by viruses of the Flaviviridae family. The disease is widespread in \\ntropical and subtropical regions. While most clinical cases present a febrile illness, severe forms have been \\nreported, in some instances leading to the death of the patient. \\nMethods \\nThis report is based on data for 2020 retrieved from The European Surveillance System (TESSy) on 25 October \\n2021. TESSy is a system for the collection, analysis and dissemination of data on communicable diseases.  \\nFor a detailed description of the methods used to produce this report, refer to the Methods chapter [1]. \\nAn overview of the national surveillance systems is available online [2].  \\nA subset of the data used for this report is available through ECDC’s online Surveillance atlas of infectious diseases  [3]. \\n  \\n \\n \\n \\n \\n1 For the purposes of this document, the EU/EEA excludes the Outermost Regions and the Overseas Countries and Territories'),\n",
       " Document(id='1e9eed55-9f0a-449a-9887-3dfb966f6b07', metadata={'producer': 'Microsoft® Word for Microsoft 365', 'creator': 'Microsoft® Word for Microsoft 365', 'creationdate': '2022-04-05T11:18:49+02:00', 'author': 'ECDC', 'keywords': 'dengue; annual epidemiological report; EU/EEA', 'moddate': '2022-04-05T11:21:18+02:00', 'subject': 'Dengue', 'title': 'Dengue - Annual Epidemiological Report for 2020', 'source': 'https://raw.githubusercontent.com/allanspadini/curso-flash-rag/main/dengue.pdf', 'total_pages': 8, 'page': 5, 'page_label': '6'}, page_content='Annual epidemiological report for 2020 SURVEILLANCE REPORT \\n \\n \\n6 \\n \\n \\n \\nFrance (n = 13) and Italy (n = 11) were the only two countries that reported autochthonous dengue cases in \\n2020. The vast majority of the dengue cases reported at the EU/EEA level were therefore related to travel to \\ndengue-endemic countries. Information on the probable country of infection was available for 1 688 travel-related \\ncases, who acquired their infections in 68 different probable countries of infection. The majority (n = 1 327; 79%) \\nof these cases were likely infected in the Americas, principally in the French overseas departments of Martinique \\n(n = 716; 54%) and Guadeloupe (n = 386; 29%).  \\nDiscussion \\nThe decrease in the number of travel-related cases of dengue in the EU/EEA in 2020 can largely be explained by \\nthe decrease in travel that occurred due to the restrictions implemented during the COVID-19 pandemic. Similarly, \\ncompared to previous years, the number of dengue cases reported in dengue-endemic countries was generally \\nvery low [4]. While it could be hypothesised that the level of virus circulation worldwide was low, it is likely that the \\nCOVID-19 pandemic limited diagnostic and surveillance capacities in EU/EEA countries and globally, thereby \\nlimiting the number of cases diagnosed and reported. Overall, 2020 data should be interpreted with caution, as it is \\nunclear how the pandemic influenced diagnostic capacity and surveillance in EU/EEA countries or globally. \\nThe vast majority of countries observed a decrease in the number of travel-related cases; however, France \\nobserved a major increase driven by epidemics in the French overseas departments of Martinique and Guadeloupe, \\nas travel between the departments and mainland France remained possible during most of 2020. \\nAs the UK left the EU on 31 January 2020, the country did not report any 2020 data through TESSy. Considering that \\nthe UK was among the countries reporting the highest numbers of cases in previous years, the total number of cases \\nreported in the EU/EEA compared with related rates of infection should be interpreted with caution.  \\nThe age and sex distribution of the dengue cases reported in the EU/EEA most likely reflects the demographic \\ncharacteristics of travellers rather than other risk factors.  \\nThe peak in the number of cases observed from January to February and the decrease in the number of cases \\nobserved in the spring were expected, as travel restrictions were established from March onwards in many \\ncountries. The peak in the number of cases observed in the winter and summer months reflects the seasonal \\ntransmission patterns in the probable countries of infection as well as the seasonality of travel. \\nSeven autochthonous vector-borne transmission events of dengue virus were reported within the EU/EEA, \\ncomprising a cumulative total of 24 cases. Six of these events occurred in France and one occurred in Italy, the \\nlatter being the first report of autochthonous dengue transmission in the country [5]. Vector-borne transmission \\nevents of dengue virus within the EU/EEA are expected in areas where Aedes albopictus is established and when \\nenvironmental conditions allow sufficient vector capacity (roughly from early summer to mid-autumn) [6]. Vector-\\nborne transmission of dengue virus has occurred within mainland EU every year since 2010, but so far all of these \\nevents have remained limited size [5].  \\nPublic health implications \\nVigilance regarding travel-related cases of dengue and other Aedes-borne infections remains essential. Public \\nhealth authorities in the EU/EEA should consider raising awareness among clinicians and travel clinic specialists \\nabout the risk related to such diseases, especially when and where vector-borne secondary transmission may take \\nplace. The detection of an autochthonous case in the EU/EEA should trigger epidemiological and entomological \\ninvestigations to assess the size of the transmission area and the potential for onward transmission, as well as to \\nguide vector control measures.  \\nTo date, Aedes albopictus is the main competent vector for dengue virus in mainland EU/EEA and is largely \\nestablished throughout the region. Aedes aegypti, the primary vector for dengue virus transmission globally, is not \\nestablished in the EU/EEA, but the species is established around the Black Sea and in several EU Overseas Countries \\nand Territories (e.g. Anguilla, Aruba, French Polynesia) and Outermost regions (e.g. Madeira, Martinique, La Réunion). \\nThe introduction and subsequent establishment of Aedes aegypti in mainland EU/EEA would certainly increase the \\nlikelihood of autochthonous transmission events within the region, as well as the size of the epidemics. \\nTransmission of dengue virus through transfusion of erythrocytes, platelets and plasma [7-10], as well as through \\nkidney, liver and bone marrow transplantation, has been documented [11,12]. Therefore, measures to prevent \\ndengue virus transmission via substances of human origin should be implemented for travellers returning from \\naffected areas and in response to autochthonous transmission within the EU/EEA. These measures may include \\ndonor deferral, donor/donation screening, blood donation quarantine, post-donation information and pathogen \\ninactivation of plasma and platelets [13].'),\n",
       " Document(id='ad5a3b70-a67c-467f-81f4-d19d75e8d121', metadata={'producer': 'Microsoft® Word for Microsoft 365', 'creator': 'Microsoft® Word for Microsoft 365', 'creationdate': '2022-04-05T11:18:49+02:00', 'author': 'ECDC', 'keywords': 'dengue; annual epidemiological report; EU/EEA', 'moddate': '2022-04-05T11:21:18+02:00', 'subject': 'Dengue', 'title': 'Dengue - Annual Epidemiological Report for 2020', 'source': 'https://raw.githubusercontent.com/allanspadini/curso-flash-rag/main/dengue.pdf', 'total_pages': 8, 'page': 1, 'page_label': '2'}, page_content='Annual epidemiological report for 2020 SURVEILLANCE REPORT \\n \\n \\n2 \\n \\n \\n \\nFor 2020, 26 EU/EEA countries reported data on dengue. No data were reported by Bulgaria, Cyprus, Denmark or \\nLiechtenstein. In addition, as the United Kingdom (UK) left the EU on 31 January 2020, the country was not \\nincluded in the data call and consequently did not provide data. All countries reported case-based data, except for \\nBelgium. Czechia and Iceland reported zero cases.  \\nEight countries (Belgium, Greece, Italy, Lithuania, Malta, Poland, Romania, Spain) referred to the 2018 dengue \\ncase definition, 13 countries referred to the EU generic case definition for viral haemorrhagic fevers, one country \\ndid not specify which case definition was used (France), and four countries used other case definitions (Czechia, \\nGermany, the Netherlands, Portugal). \\nAll reporting countries except for the Netherlands had a comprehensive surveillance system. Reporting was \\ncompulsory in all countries. \\nEpidemiology \\nFor 2020, 26 countries reported 1 957 cases of dengue, of which 1 820 (93%) were confirmed (Table 1). This was \\nthe lowest number of cases reported at the EU/EEA level since 2016. However, the UK, which was among the \\nthree countries with the highest number of cases reported from 2016 to 2019, did not provide data in 2020 due to \\nno longer being an EU Member State.  \\nFrom 2016 to 2020, the number of reported cases (excluding those from the UK) ranged from 1 563 in 2017 to \\n3 540 in 2019, with no discernible trend (Figure 2). A 45% decrease in number of cases was observed in 2020 \\ncompared with 2019 (excluding UK data). This decrease was particularly pronounced in Austria, Germany, Italy, \\nSpain and Sweden. In contrast, France observed a large increase in number of cases compared to previous years.   \\nIn 2020, France reported the highest proportion of cases (70%), followed by Germany (10%) (Table 1, Figure 1).  \\nThe EU/EEA notification rate in 2020 was 0.5 cases per 100 000 population; the country-specific rate was highest \\nin France (2.0 cases per 100 000 population).'),\n",
       " Document(id='1ef74819-0bb4-4bc2-80c9-1aa0a116fb8c', metadata={'producer': 'Microsoft® Word for Microsoft 365', 'creator': 'Microsoft® Word for Microsoft 365', 'creationdate': '2022-04-05T11:18:49+02:00', 'author': 'ECDC', 'keywords': 'dengue; annual epidemiological report; EU/EEA', 'moddate': '2022-04-05T11:21:18+02:00', 'subject': 'Dengue', 'title': 'Dengue - Annual Epidemiological Report for 2020', 'source': 'https://raw.githubusercontent.com/allanspadini/curso-flash-rag/main/dengue.pdf', 'total_pages': 8, 'page': 7, 'page_label': '8'}, page_content='Annual epidemiological report for 2020 SURVEILLANCE REPORT \\n \\n \\n8 \\n \\n \\nReferences \\n1. European Centre for Disease Prevention and Control (ECDC). Introduction to the Annual Epidemiological \\nReport. Stockholm: ECDC; 2020. Available at: https://ecdc.europa.eu/en/annual-epidemiological-\\nreports/methods \\n2. European Centre for Disease Prevention and Control (ECDC). Surveillance systems overview for 2020. \\nStockholm: ECDC; 2022. Available at: https://www.ecdc.europa.eu/en/publications-data/surveillance-\\nsystems-overview-2020 \\n3. European Centre for Disease Prevention and Control (ECDC). Surveillance atlas of infectious diseases - \\nDengue data. Stockholm: ECDC. [Accessed: 3 Mar 2022]. Available at: \\nhttp://atlas.ecdc.europa.eu/public/index.aspx?Dataset=27&HealthTopic=16 \\n4. European Centre for Disease Prevention and Control (ECDC). Communicable disease threats report, week 51, 13-19 \\nDecember 2020. Stockholm: ECDC; 2020. Available at: \\nhttps://www.ecdc.europa.eu/sites/default/files/documents/Communicable-disease-threats-report-19-dec-2020.pdf \\n5. European Centre for Disease Prevention and Control (ECDC). Autochthonous transmission of dengue virus in \\nEU/EEA, 2010-present. Stockholm: ECDC; 2022. Available at: https://www.ecdc.europa.eu/en/all-topics-\\nz/dengue/surveillance-and-disease-data/autochthonous-transmission-dengue-virus-eueea \\n6. European Centre for Disease Prevention and Control (ECDC), European Food Safety Authority (EFSA). Aedes \\nalbopictus - current known distribution, October 2021. Stockholm: ECDC; 2021. Available at: \\nhttps://www.ecdc.europa.eu/en/publications-data/aedes-albopictus-current-known-distribution-october-2021 \\n7. Tambyah PA, Koay ES, Poon ML, Lin RV, Ong BK, Transfusion-Transmitted Dengue Infection Study Group. \\nDengue hemorrhagic fever transmitted by blood transfusion. N Engl J Med. 2008 Oct 2;359(14):1526-7. \\nAvailable at: https://www.ncbi.nlm.nih.gov/pubmed/18832256 \\n8. Oh HB, Muthu V, Daruwalla ZJ, Lee SY, Koay ES, Tambyah PA. Bitten by a bug or a bag? Transfusion-\\ntransmitted dengue: a rare complication in the bleeding surgical patient. Transfusion (Paris). 2015 \\nJul;55(7):1655-61. Available at: https://www.ncbi.nlm.nih.gov/pubmed/25728040 \\n9. Matos D, Tomashek KM, Perez-Padilla J, Munoz-Jordan J, Hunsperger E, Horiuchi K, et al. Probable and \\npossible transfusion-transmitted dengue associated with NS1 antigen-negative but RNA confirmed-positive \\nred blood cells. Transfusion (Paris). 2016 Jan;56(1):215-22. Available at: \\nhttps://www.ncbi.nlm.nih.gov/pubmed/26469514 \\n10. Levi JE, Nishiya A, Felix AC, Salles NA, Sampaio LR, Hangai F, et al. Real-time symptomatic case of \\ntransfusion-transmitted dengue. Transfusion (Paris). 2015 May;55(5):961-4. Available at: \\nhttps://www.ncbi.nlm.nih.gov/pubmed/25605570 \\n11. Rosso F, Sanz AM, Parra-Lara LG, Moncada PA, Velez JD, Caicedo LA. Dengue Virus Infection in Solid Organ \\nTransplant Recipients: A Case Series and Literature Review. Am J Trop Med Hyg. 2019 Dec;101(6):1226-31. \\nAvailable at: https://www.ncbi.nlm.nih.gov/pubmed/31628736 \\n12. Punzel M, Korukluoglu G, Caglayik DY, Menemenlioglu D, Bozdag SC, Tekgunduz E, et al. Dengue virus \\ntransmission by blood stem cell donor after travel to Sri Lanka; Germany, 2013. Emerg Infect Dis. 2014 \\nAug;20(8):1366-9. Available at: https://www.ncbi.nlm.nih.gov/pubmed/25062084 \\n13. European Directorate for the Quality of Medicines and Healthcare of the Council of Europe. Guide to the \\npreparation, use and quality assurance of blood components, 20th edition. Strasbourg: EDQM; 2020. \\nAvailable at: https://www.edqm.eu/en/blood-guide \\n14. European Medicines Agency. First vaccine for prevention of dengue. Amsterdam: EMA; 2018. Available at: \\nhttps://www.ema.europa.eu/en/news/first-vaccine-prevention-dengue')]"
      ]
     },
     "execution_count": 93,
     "metadata": {},
     "output_type": "execute_result"
    }
   ],
   "execution_count": 93
  },
  {
   "cell_type": "markdown",
   "source": [
    "# Agentic RAG"
   ],
   "metadata": {
    "id": "fv_U4_K9VnEi"
   }
  },
  {
   "cell_type": "code",
   "source": [
    "from langgraph.prebuilt import create_react_agent"
   ],
   "metadata": {
    "id": "09DvR64aVc14",
    "ExecuteTime": {
     "end_time": "2025-08-19T12:33:50.228759700Z",
     "start_time": "2025-08-16T19:51:45.170600Z"
    }
   },
   "outputs": [],
   "execution_count": 94
  },
  {
   "cell_type": "code",
   "source": [
    "system_prompt = \"\"\" You're a helpful assistant that only gives answers bases on the given context. If the answer is not in the context, say \"I don't know\"\n",
    "    - pega_contexto: Tool that returns the context based on the users query if the query is about NASA and space travels.\n",
    "    - pega_contexto_agriculture: Tool that returns the context based on the users query if the query is about agriculture.\n",
    "    - pega_contexto_dengue: Tool that returns the context based on the users query if the query is about dengue.\n",
    "\"\"\""
   ],
   "metadata": {
    "id": "FRA1-vXLVr4E",
    "ExecuteTime": {
     "end_time": "2025-08-19T12:33:50.229750800Z",
     "start_time": "2025-08-16T21:36:07.015535Z"
    }
   },
   "outputs": [],
   "execution_count": 95
  },
  {
   "cell_type": "code",
   "source": [
    "agente_pdf = create_react_agent(model=llm, tools=tools, prompt=system_prompt)"
   ],
   "metadata": {
    "id": "PZ69RCZvWWzx",
    "ExecuteTime": {
     "end_time": "2025-08-19T12:33:50.232718400Z",
     "start_time": "2025-08-16T21:36:14.105031Z"
    }
   },
   "outputs": [],
   "execution_count": 96
  },
  {
   "cell_type": "code",
   "source": [
    "resultado= agente_pdf.invoke({\"messages\": [(\"user\", \"What are the Objectives Development Process?\")]})"
   ],
   "metadata": {
    "id": "7VAsvchoWlIt"
   },
   "execution_count": null,
   "outputs": []
  },
  {
   "cell_type": "code",
   "source": [
    "resultado"
   ],
   "metadata": {
    "colab": {
     "base_uri": "https://localhost:8080/"
    },
    "id": "1Bg8yQlwYtEJ",
    "outputId": "6f74bfa5-bf5c-4c43-b607-2965f38f9a7a"
   },
   "execution_count": null,
   "outputs": [
    {
     "output_type": "execute_result",
     "data": {
      "text/plain": [
       "{'messages': [HumanMessage(content='What are the Objectives Development Process?', additional_kwargs={}, response_metadata={}, id='8ec97c27-4d39-4d26-b450-c90c3c784603'),\n",
       "  AIMessage(content=\"I don't know\", additional_kwargs={}, response_metadata={'token_usage': {'completion_tokens': 5, 'prompt_tokens': 492, 'total_tokens': 497, 'completion_time': 0.021147964, 'prompt_time': 0.031728376, 'queue_time': 0.056525611, 'total_time': 0.05287634}, 'model_name': 'llama-3.3-70b-versatile', 'system_fingerprint': 'fp_9a8b91ba77', 'service_tier': 'on_demand', 'finish_reason': 'stop', 'logprobs': None}, id='run--d4e42b62-c047-4914-bdf1-51a1198e6002-0', usage_metadata={'input_tokens': 492, 'output_tokens': 5, 'total_tokens': 497})]}"
      ]
     },
     "metadata": {},
     "execution_count": 66
    }
   ]
  },
  {
   "cell_type": "code",
   "source": [
    "resultado= agente_pdf.invoke({\"messages\": [(\"user\", \"What causes dengue?\")]})\n",
    "resultado"
   ],
   "metadata": {
    "colab": {
     "base_uri": "https://localhost:8080/"
    },
    "id": "opaUgwO3d98F",
    "outputId": "5f264e49-c235-4623-f844-73f12727e99d"
   },
   "execution_count": null,
   "outputs": [
    {
     "output_type": "execute_result",
     "data": {
      "text/plain": [
       "{'messages': [HumanMessage(content='What causes dengue?', additional_kwargs={}, response_metadata={}, id='6457e19b-ea4d-4b77-a75e-2c2e353c20ac'),\n",
       "  AIMessage(content='', additional_kwargs={'tool_calls': [{'id': 'km32b91pd', 'function': {'arguments': '{\"query\":\"dengue causes\"}', 'name': 'pega_contexto_dengue'}, 'type': 'function'}]}, response_metadata={'token_usage': {'completion_tokens': 23, 'prompt_tokens': 490, 'total_tokens': 513, 'completion_time': 0.071679112, 'prompt_time': 0.024892364, 'queue_time': 0.065049276, 'total_time': 0.096571476}, 'model_name': 'llama-3.3-70b-versatile', 'system_fingerprint': 'fp_9a8b91ba77', 'service_tier': 'on_demand', 'finish_reason': 'tool_calls', 'logprobs': None}, id='run--cff84798-8c06-4296-acaa-c8e667463779-0', tool_calls=[{'name': 'pega_contexto_dengue', 'args': {'query': 'dengue causes'}, 'id': 'km32b91pd', 'type': 'tool_call'}], usage_metadata={'input_tokens': 490, 'output_tokens': 23, 'total_tokens': 513}),\n",
       "  ToolMessage(content=\"[Document(id='64451c1f-b30b-44e8-8e9e-41c0e194cf91', metadata={'producer': 'Microsoft® Word for Microsoft 365', 'creator': 'Microsoft® Word for Microsoft 365', 'creationdate': '2022-04-05T11:18:49+02:00', 'author': 'ECDC', 'keywords': 'dengue; annual epidemiological report; EU/EEA', 'moddate': '2022-04-05T11:21:18+02:00', 'subject': 'Dengue', 'title': 'Dengue - Annual Epidemiological Report for 2020', 'source': 'https://raw.githubusercontent.com/allanspadini/curso-flash-rag/main/dengue.pdf', 'total_pages': 8, 'page': 0, 'page_label': '1'}, page_content='Suggested citation: European Centre for Disease Prevention and Control. Dengue. In: ECDC. Annual epidemiological report for \\\\n2020. Stockholm: ECDC; 2022. \\\\n \\\\nStockholm, April 2022 \\\\n \\\\n© European Centre for Disease Prevention and Control, 2022. Reproduction is authorised, provided the source is acknowledged. \\\\n \\\\n \\\\n \\\\n \\\\n \\\\n \\\\n \\\\n \\\\n \\\\n \\\\n \\\\n SURVEILLANCE REPORT \\\\nDengue \\\\n \\\\nAnnual Epidemiological Report for 2020 \\\\n \\\\n \\\\n \\\\n \\\\n \\\\nKey facts \\\\n• For 2020, 26 EU/EEA countries reported 1 957 cases of dengue, of which 1 820 (93%) were confirmed. \\\\n• From 2016 to 2020, no obvious trend in the number of cases could be identified.  \\\\n• The EU/EEA notification rate in 2020 was 0.5 cases per 100 000 population. \\\\n• The highest rates in both men and women were among those aged 25–44 years. \\\\n• The number of cases peaked in January and in August. \\\\n• 79% of the cases with known probable country of infection were imported from the Americas, mostly \\\\nfrom Martinique and Guadeloupe.  \\\\n• Twenty-four autochthonous dengue cases were reported from the EU/EEA1: 13 by France and 11 by \\\\nItaly. \\\\nIntroduction \\\\nDengue is a mosquito-borne disease caused by viruses of the Flaviviridae family. The disease is widespread in \\\\ntropical and subtropical regions. While most clinical cases present a febrile illness, severe forms have been \\\\nreported, in some instances leading to the death of the patient. \\\\nMethods \\\\nThis report is based on data for 2020 retrieved from The European Surveillance System (TESSy) on 25 October \\\\n2021. TESSy is a system for the collection, analysis and dissemination of data on communicable diseases.  \\\\nFor a detailed description of the methods used to produce this report, refer to the Methods chapter [1]. \\\\nAn overview of the national surveillance systems is available online [2].  \\\\nA subset of the data used for this report is available through ECDC’s online Surveillance atlas of infectious diseases  [3]. \\\\n  \\\\n \\\\n \\\\n \\\\n \\\\n1 For the purposes of this document, the EU/EEA excludes the Outermost Regions and the Overseas Countries and Territories'), Document(id='8fe55927-4384-4a03-9eba-1aeb7e0d3b24', metadata={'producer': 'Microsoft® Word for Microsoft 365', 'creator': 'Microsoft® Word for Microsoft 365', 'creationdate': '2022-04-05T11:18:49+02:00', 'author': 'ECDC', 'keywords': 'dengue; annual epidemiological report; EU/EEA', 'moddate': '2022-04-05T11:21:18+02:00', 'subject': 'Dengue', 'title': 'Dengue - Annual Epidemiological Report for 2020', 'source': 'https://raw.githubusercontent.com/allanspadini/curso-flash-rag/main/dengue.pdf', 'total_pages': 8, 'page': 6, 'page_label': '7'}, page_content='SURVEILLANCE REPORT Annual epidemiological report for 2020 \\\\n \\\\n \\\\n7 \\\\n \\\\n \\\\nIn 2018, the European Medicines Agency granted a marketing authorisation to the Dengvaxia vaccine, which is a \\\\ntetravalent vaccine (live, attenuated) for the prevention of dengue [14]. The vaccine can be given to people who \\\\nare from 9 to 45 years old, who live in endemic areas and who have had a prior dengue virus infection \\\\n(seropositive individuals). This vaccine is therefore not recommended for populations of mainland EU/EEA, but \\\\ncould be used in EU Overseas Countries and Territories and EU Outermost Regions where dengue is endemic.  \\\\nPersonal protective measures focus principally on protection against mosquito bites. Aedes mosquitoes have diurnal \\\\nbiting activities in both indoor and outdoor environments. Personal protective measures should therefore be applied \\\\nall day long and especially during the hours of highest mosquito activity (mid-morning and late afternoon to twilight). \\\\nPersonal protective measures to reduce the risk of mosquito bites include: using mosquito bed nets (preferably \\\\ninsecticide-treated nets), sleeping or resting in screened or air-conditioned rooms, wearing clothes that cover most of \\\\nthe body, and using mosquito repellent in accordance with the instructions indicated on the product label.  \\\\nTravellers that visit dengue-endemic areas and reside in receptive areas of mainland EU/EEA should continue to \\\\napply personal protective measures after their return for a period of about two weeks. This is to avoid infecting \\\\nlocal mosquitoes, which could result in autochthonous transmission within mainland EU/EEA. It should be noted \\\\nthat asymptomatic individuals infected with dengue virus can be infectious and therefore further transmit the virus. \\\\nIn addition, local authorities may consider conducting preventive vector control measures around imported dengue \\\\ncases in receptive areas.'), Document(id='c0e563c7-5e4d-47c3-9fad-ece6de10682f', metadata={'producer': 'Microsoft® Word for Microsoft 365', 'creator': 'Microsoft® Word for Microsoft 365', 'creationdate': '2022-04-05T11:18:49+02:00', 'author': 'ECDC', 'keywords': 'dengue; annual epidemiological report; EU/EEA', 'moddate': '2022-04-05T11:21:18+02:00', 'subject': 'Dengue', 'title': 'Dengue - Annual Epidemiological Report for 2020', 'source': 'https://raw.githubusercontent.com/allanspadini/curso-flash-rag/main/dengue.pdf', 'total_pages': 8, 'page': 5, 'page_label': '6'}, page_content='Annual epidemiological report for 2020 SURVEILLANCE REPORT \\\\n \\\\n \\\\n6 \\\\n \\\\n \\\\n \\\\nFrance (n = 13) and Italy (n = 11) were the only two countries that reported autochthonous dengue cases in \\\\n2020. The vast majority of the dengue cases reported at the EU/EEA level were therefore related to travel to \\\\ndengue-endemic countries. Information on the probable country of infection was available for 1 688 travel-related \\\\ncases, who acquired their infections in 68 different probable countries of infection. The majority (n = 1 327; 79%) \\\\nof these cases were likely infected in the Americas, principally in the French overseas departments of Martinique \\\\n(n = 716; 54%) and Guadeloupe (n = 386; 29%).  \\\\nDiscussion \\\\nThe decrease in the number of travel-related cases of dengue in the EU/EEA in 2020 can largely be explained by \\\\nthe decrease in travel that occurred due to the restrictions implemented during the COVID-19 pandemic. Similarly, \\\\ncompared to previous years, the number of dengue cases reported in dengue-endemic countries was generally \\\\nvery low [4]. While it could be hypothesised that the level of virus circulation worldwide was low, it is likely that the \\\\nCOVID-19 pandemic limited diagnostic and surveillance capacities in EU/EEA countries and globally, thereby \\\\nlimiting the number of cases diagnosed and reported. Overall, 2020 data should be interpreted with caution, as it is \\\\nunclear how the pandemic influenced diagnostic capacity and surveillance in EU/EEA countries or globally. \\\\nThe vast majority of countries observed a decrease in the number of travel-related cases; however, France \\\\nobserved a major increase driven by epidemics in the French overseas departments of Martinique and Guadeloupe, \\\\nas travel between the departments and mainland France remained possible during most of 2020. \\\\nAs the UK left the EU on 31 January 2020, the country did not report any 2020 data through TESSy. Considering that \\\\nthe UK was among the countries reporting the highest numbers of cases in previous years, the total number of cases \\\\nreported in the EU/EEA compared with related rates of infection should be interpreted with caution.  \\\\nThe age and sex distribution of the dengue cases reported in the EU/EEA most likely reflects the demographic \\\\ncharacteristics of travellers rather than other risk factors.  \\\\nThe peak in the number of cases observed from January to February and the decrease in the number of cases \\\\nobserved in the spring were expected, as travel restrictions were established from March onwards in many \\\\ncountries. The peak in the number of cases observed in the winter and summer months reflects the seasonal \\\\ntransmission patterns in the probable countries of infection as well as the seasonality of travel. \\\\nSeven autochthonous vector-borne transmission events of dengue virus were reported within the EU/EEA, \\\\ncomprising a cumulative total of 24 cases. Six of these events occurred in France and one occurred in Italy, the \\\\nlatter being the first report of autochthonous dengue transmission in the country [5]. Vector-borne transmission \\\\nevents of dengue virus within the EU/EEA are expected in areas where Aedes albopictus is established and when \\\\nenvironmental conditions allow sufficient vector capacity (roughly from early summer to mid-autumn) [6]. Vector-\\\\nborne transmission of dengue virus has occurred within mainland EU every year since 2010, but so far all of these \\\\nevents have remained limited size [5].  \\\\nPublic health implications \\\\nVigilance regarding travel-related cases of dengue and other Aedes-borne infections remains essential. Public \\\\nhealth authorities in the EU/EEA should consider raising awareness among clinicians and travel clinic specialists \\\\nabout the risk related to such diseases, especially when and where vector-borne secondary transmission may take \\\\nplace. The detection of an autochthonous case in the EU/EEA should trigger epidemiological and entomological \\\\ninvestigations to assess the size of the transmission area and the potential for onward transmission, as well as to \\\\nguide vector control measures.  \\\\nTo date, Aedes albopictus is the main competent vector for dengue virus in mainland EU/EEA and is largely \\\\nestablished throughout the region. Aedes aegypti, the primary vector for dengue virus transmission globally, is not \\\\nestablished in the EU/EEA, but the species is established around the Black Sea and in several EU Overseas Countries \\\\nand Territories (e.g. Anguilla, Aruba, French Polynesia) and Outermost regions (e.g. Madeira, Martinique, La Réunion). \\\\nThe introduction and subsequent establishment of Aedes aegypti in mainland EU/EEA would certainly increase the \\\\nlikelihood of autochthonous transmission events within the region, as well as the size of the epidemics. \\\\nTransmission of dengue virus through transfusion of erythrocytes, platelets and plasma [7-10], as well as through \\\\nkidney, liver and bone marrow transplantation, has been documented [11,12]. Therefore, measures to prevent \\\\ndengue virus transmission via substances of human origin should be implemented for travellers returning from \\\\naffected areas and in response to autochthonous transmission within the EU/EEA. These measures may include \\\\ndonor deferral, donor/donation screening, blood donation quarantine, post-donation information and pathogen \\\\ninactivation of plasma and platelets [13].'), Document(id='fdaa3b13-f553-4312-95e6-1d21c95c81a8', metadata={'producer': 'Microsoft® Word for Microsoft 365', 'creator': 'Microsoft® Word for Microsoft 365', 'creationdate': '2022-04-05T11:18:49+02:00', 'author': 'ECDC', 'keywords': 'dengue; annual epidemiological report; EU/EEA', 'moddate': '2022-04-05T11:21:18+02:00', 'subject': 'Dengue', 'title': 'Dengue - Annual Epidemiological Report for 2020', 'source': 'https://raw.githubusercontent.com/allanspadini/curso-flash-rag/main/dengue.pdf', 'total_pages': 8, 'page': 3, 'page_label': '4'}, page_content='Annual epidemiological report for 2020 SURVEILLANCE REPORT \\\\n \\\\n \\\\n4 \\\\n \\\\n \\\\nFigure 1. Distribution of dengue cases by country, EU/EEA, 2020 \\\\n \\\\nSource: Country reports from Austria, Belgium, Croatia, Czechia, Estonia, Finland, France, Germany, Greece, Hungary, Iceland, \\\\nIreland, Italy, Latvia, Lithuania, Luxembourg, Malta, the Netherlands, Norway, Poland, Portugal, Romania, Slovakia, Slovenia, \\\\nSpain and Sweden \\\\nInformation about the month of onset, diagnosis and/or reporting was available for 1 871 cases. A large proportion \\\\nof these cases were observed in winter and late summer, with peaks in the number of cases in January (n = 271) \\\\nand August (n = 354) (Figures 2 and 3). When compared with previous years, the monthly numbers of cases \\\\nreported from April to July were below the expected range. \\\\n \\\\nFigure 2. Distribution of dengue cases by month, EU/EEA, 2016–2020 \\\\n  \\\\nSource: Country reports from Austria, Czechia, Estonia, Finland, France, Germany, Greece, Hungary, Iceland, Ireland, Italy, \\\\nLatvia, Malta, the Netherlands, Norway, Poland, Portugal, Romania, Slovakia, Slovenia, Spain and Sweden')]\", name='pega_contexto_dengue', id='85b23a91-3544-447a-b7d8-f6c96e3ed442', tool_call_id='km32b91pd'),\n",
       "  AIMessage(content='Dengue is a mosquito-borne disease caused by viruses of the Flaviviridae family. The disease is widespread in tropical and subtropical regions. While most clinical cases present a febrile illness, severe forms have been reported, in some instances leading to the death of the patient.', additional_kwargs={}, response_metadata={'token_usage': {'completion_tokens': 61, 'prompt_tokens': 3799, 'total_tokens': 3860, 'completion_time': 0.276885815, 'prompt_time': 0.227030865, 'queue_time': 0.06620532500000001, 'total_time': 0.50391668}, 'model_name': 'llama-3.3-70b-versatile', 'system_fingerprint': 'fp_3f3b593e33', 'service_tier': 'on_demand', 'finish_reason': 'stop', 'logprobs': None}, id='run--ef84c7c7-a9ab-4198-80ba-92a6e84fc510-0', usage_metadata={'input_tokens': 3799, 'output_tokens': 61, 'total_tokens': 3860})]}"
      ]
     },
     "metadata": {},
     "execution_count": 67
    }
   ]
  },
  {
   "cell_type": "code",
   "source": [
    "resultado= agente_pdf.invoke({\"messages\": [(\"user\", \"Why is agriculture crucial for India's economy, and what's its current need?\")]})\n",
    "resultado"
   ],
   "metadata": {
    "colab": {
     "base_uri": "https://localhost:8080/"
    },
    "id": "uaBkoJzTeSH-",
    "outputId": "e57e3e41-ce38-49fb-b4eb-92b5465721eb"
   },
   "execution_count": null,
   "outputs": [
    {
     "output_type": "execute_result",
     "data": {
      "text/plain": [
       "{'messages': [HumanMessage(content=\"Why is agriculture crucial for India's economy, and what's its current need?\", additional_kwargs={}, response_metadata={}, id='a1ccee4a-cea6-4942-a849-bb7012ff3425'),\n",
       "  AIMessage(content='', additional_kwargs={'tool_calls': [{'id': 'g1ph8hbtr', 'function': {'arguments': '{\"query\":\"Importance and current needs of agriculture in India\\'s economy\"}', 'name': 'pega_contexto_agriculture'}, 'type': 'function'}]}, response_metadata={'token_usage': {'completion_tokens': 30, 'prompt_tokens': 500, 'total_tokens': 530, 'completion_time': 0.083741109, 'prompt_time': 0.02528431, 'queue_time': 0.06435504, 'total_time': 0.109025419}, 'model_name': 'llama-3.3-70b-versatile', 'system_fingerprint': 'fp_6507bcfb6f', 'service_tier': 'on_demand', 'finish_reason': 'tool_calls', 'logprobs': None}, id='run--3b31bd11-be0e-4ac3-b035-05ce295934aa-0', tool_calls=[{'name': 'pega_contexto_agriculture', 'args': {'query': \"Importance and current needs of agriculture in India's economy\"}, 'id': 'g1ph8hbtr', 'type': 'tool_call'}], usage_metadata={'input_tokens': 500, 'output_tokens': 30, 'total_tokens': 530}),\n",
       "  ToolMessage(content=\"[Document(id='89044793-069a-4889-af09-fc6647a91778', metadata={'producer': 'Microsoft® Word 2016', 'creator': 'Microsoft® Word 2016', 'creationdate': '2023-05-18T18:20:05+05:30', 'title': 'Paper Title (use style: paper title)', 'author': 'IEEE', 'moddate': '2023-05-18T18:20:05+05:30', 'source': 'https://raw.githubusercontent.com/allanspadini/curso-flash-rag/main/agriculture.pdf', 'total_pages': 4, 'page': 0, 'page_label': '1'}, page_content='International Journal of Engineering and Advanced Technology (IJEAT) \\\\nISSN: 2249-8958 (Online), Volume-9 Issue-1S4, December 2019 \\\\n107 \\\\nPublished By: \\\\nBlue Eyes Intelligence Engineering  \\\\nand Sciences Publication (BEIESP)  \\\\n© Copyright: All rights reserved. \\\\n \\\\nRetrieval Number: A11001291S419/2019©BEIESP \\\\nDOI:10.35940/ijeat.A1100.1291S419 \\\\nJournal Website: www.ijeat.org \\\\n \\\\nAnalysis of Crop Production Dataset using R Tool \\\\nA. Srividhya, K.Sumathi \\\\nAbstract: Agriculture is the most important factor of the \\\\nIndian economy, but this vital industry which currently needs \\\\nmore support than any other. Agriculture is the main sector \\\\nwhich is responsible for feeding every individual, but the people \\\\ninvolved in it are totally neglected and last to be taken care of. \\\\nWith newer problems cropping up every day in the most \\\\ninevitable indigenous sectors, it is high time we resort to \\\\nemerging technologies for solutions. Effective Data Analysis is \\\\nused to predict the production values and market rates.  In this \\\\npaper Agriculture data of virudunagar district is analyzed using \\\\nR Tool and Microsoft Azure in different aspects such as \\\\npercentage of crop produced in various season,   Production \\\\ndetails of various crops, and crop production in different years \\\\nfrom 1997 to 2013. The dataset is also analyzed to list out the low \\\\nproduction crops, average production crops and high production \\\\ncrops using R Tool.  \\\\n Keywords: Agri-Dataset Analysis, R Tool for Data Analysis \\\\nI. INTRODUCTION \\\\nIn the 21st century modern forming techniques should be \\\\nadopted to cater to the need of the mass, Innovative \\\\ntechniques to be implemented so that it will produce good \\\\nresults. Hence the farmers and their stake holders moving \\\\ntowards data-driven transformations and adopting smart \\\\nfarming technologies and decision making systems. The \\\\nsoreness in agriculture is to predict the events which will \\\\nshow the results and rising of production cost is the real \\\\nproblem for the farmers. Increasing the acre of land is not a \\\\nviable solution at all to grow more crops and yield high \\\\nproduction. Technology is an important aspect in making \\\\nthe better use of available space, minimizing the production \\\\ncost and maximizes the productivity. Nowadays, \\\\nTechnology is used to collect data from multiple \\\\nhydrogenous Dataset and IoT devices mounted on the field, \\\\ncrop and to ground. The status of the crop is analyzed by \\\\ncapturing real time data from the field sensors. These data \\\\ncan be used for predictive analysis so that the necessary \\\\nadvisory services can be sent to the farmers frequently \\\\nthrough internet, mobile devices etc., and sending necessary \\\\ninsights to the farmers help to improve the agriculture \\\\nactivities.      Agribusiness needs to improve their \\\\nproductivity to compensate with the growth of population at \\\\na rapid speed. Productivity analysis is used to increase the \\\\nproductivity over the subsequent years. Nowadays BigData \\\\nAnalytics, IoT and smart agriculture can help farmers to \\\\nenhance their productivity, minimize production cost and \\\\nutilize the natural resources efficiently.   Integrating IoT \\\\nwith data analytics in agriculture can help to acquire \\\\naccurate predictions for crop and market conditions and also \\\\nincrease their yields and profits. \\\\n \\\\nManuscript published on 30 December 2019. \\\\n* Correspondence Author (s) \\\\nA. Srividhya,   Department of CS & IT,  Kalasalingam Academy of \\\\nResearch and Education, Krishnankoil,  Virudhunagar, Tamilnadu, India, \\\\nDr.K.Sumathi,  Assistant Professor,   Department of CS & IT, \\\\nKalasalingam Academy of Research and Education, Krishnankoil, \\\\nVirudhunagar, Tamilnadu, India,. \\\\n \\\\n© The Authors. Published by Blue Eyes Intelligence Engineering and \\\\nSciences Publication (BEIESP). This is an open access article under the \\\\nCC-BY-NC-ND license http://creativecommons.org/licenses/by-nc-nd/4.0/ \\\\n \\\\nMost of the Data analysis is carried out using R tool for \\\\nstatistical computing and visualization [1], R is an open-\\\\nsource dialect of the S statistical computing language. It is \\\\nfree, runs on most computing platforms, and contains \\\\ncontributions from top computational statisticians.  \\\\nVarious data analytics tools are used by the researchers to \\\\nanalyze the dataset.  R Tool provides a variety of ways to \\\\nanalyze the data.  R Language provides many add-on \\\\npackages which have been written by other statisticians. R \\\\nprovides over 5,000 contributed packages which are \\\\navailable for free download from CRAN[2]. RStudio is an \\\\nIDE in which we can run R programs.  \\\\nII. RELATED WORKS \\\\nCh. Chandra Sekhar et.al [3] applied data clustering \\\\ntechniques to examine disseminated dataset and proposed a \\\\nBig Data Analytics Framework on Crop Sales Data and \\\\nexplained the crop sale data analysis steps.     Reliable crop \\\\ndataset collected from Open Government Data (OGD) \\\\nPlatform India published by National Data Sharing and \\\\nAccessibility Policy. By using R Tool, data is analyzed and \\\\noutput that crop growing sample and diversification, \\\\nexcessive yield production, agro-climatic region wise \\\\nperformance and crop production.  Narendra Gupta et. al \\\\n[4] discussed about the a) importance of data  analysis in \\\\nagriculture b) how to store the valuable data in \\\\ncomputerized form. They also explained that a) most of the \\\\norganizations keeping their data in MS Excel, MS Word, \\\\nMS Access or MS SQL and RDBMS b) a well-organized \\\\ndata maintaining structure have been developed by different \\\\ncountries \\\\nJharna Majumdar  et al. [5] implemented various data \\\\nmining techniques to assess the best performance yielding \\\\nmethod. Data mining techniques used are PAM, CLARA \\\\nand DBSCAN to obtain the optimal climate requirement of \\\\nwheat like optimal range of best temperature, worst \\\\ntemperature and rain fall to achieve higher production of \\\\nwheat crop. Changes in Cropping Pattern and Crop Output \\\\nand Growth Performance of Major Crops At National Level \\\\nis discussed by Elumalai Kannan and Sujata Sundaram[6] \\\\nIII. PROPOSED FRAMEWORK \\\\nDataset is downloaded from tamilnadu agriculture \\\\ndataset[1].  This agriculture dataset includes 13,547 records \\\\nwhich describes the crop production details of 31 districts \\\\nof tamilnadu from 1997 to 2013.  This data set contains \\\\nCrop Data which is collected from different districts of \\\\nTamilnadu. The dataset includes State_Name, \\\\nDistrict_Name, Crop_Year, Season, Crop, Area, Production \\\\ndetails.  In this paper, crop production data of virudhunagar \\\\ndistrict is analyzed using various machine learning tools. \\\\nDataset is analyzed in various aspects using R tool.  a) crop \\\\nproduced in various season b) Production details of various \\\\ncrops c)  crop produced  in different years from 1997 to \\\\n2013 .'), Document(id='82024377-0813-4c77-8c5e-f44668d228fb', metadata={'producer': 'Microsoft® Word 2016', 'creator': 'Microsoft® Word 2016', 'creationdate': '2023-05-18T18:20:05+05:30', 'title': 'Paper Title (use style: paper title)', 'author': 'IEEE', 'moddate': '2023-05-18T18:20:05+05:30', 'source': 'https://raw.githubusercontent.com/allanspadini/curso-flash-rag/main/agriculture.pdf', 'total_pages': 4, 'page': 3, 'page_label': '4'}, page_content='Analysis of Crop Production Dataset using R Tool \\\\n110 \\\\nPublished By: \\\\nBlue Eyes Intelligence Engineering  \\\\nand Sciences Publication (BEIESP)  \\\\n© Copyright: All rights reserved. \\\\n \\\\nRetrieval Number: A11001291S419/2019©BEIESP \\\\nDOI:10.35940/ijeat.A1100.1291S419 \\\\nJournal Website: www.ijeat.org \\\\n \\\\nOrange \\\\n \\\\n1.555556e+00 \\\\n Samai \\\\n \\\\n1.900000e+01 \\\\n Horse-gram \\\\n \\\\n3.094118e+01 \\\\n Potato Other Cereals & Mill\\\\nets \\\\n \\\\n5.500000e+01 \\\\n Castor seed \\\\n \\\\n3.000000e+00 \\\\n Cashewnut \\\\n \\\\n2.345455e+01 \\\\n Turmeric \\\\n \\\\n3.371429e+01 \\\\n Cardamom \\\\n \\\\n2.600000e+01 \\\\n Korra \\\\n \\\\n3.966667e+01 \\\\n Varagu \\\\n \\\\n1.023077e+01 \\\\n \\\\nTable 4 - Average Production Crops \\\\nCrop Production \\\\nOther Kharif pulses 2.78E+02 \\\\nTapioca 5.92E+02 \\\\nRagi 8.19E+02 \\\\nBrinjal 1.99E+03 \\\\nTomato 2.67E+03 \\\\nGroundnut 8.49E+03 \\\\nCitrus Fruit 2.89E+02 \\\\nSweet potato 6.24E+02 \\\\nBhindi 1.03E+03 \\\\nSmall millets 2.23E+03 \\\\nMoong(Green Gram) 4.58E+03 \\\\nJowar 8.61E+03 \\\\n  \\\\nJack Fruit 3.99E+02 \\\\nSunflower 7.05E+02 \\\\nSesamum 1.24E+03 \\\\nDry chillies 2.48E+03 \\\\nPome Fruit 5.31E+03 \\\\nBajra 9.73E+03 \\\\nArhar/Tur 4.01E+02 \\\\nSannhamp 7.44E+02 \\\\nCoriander 1.64E+03 \\\\nUrad 2.67E+03 \\\\nOnion 6.95E+03 \\\\nPulses total 9.92E+03 \\\\n \\\\nThe productivity is reduced gradually form 2003 due to a) \\\\npoor techniques and production b) Rural atmosphere is not \\\\ngood c) people are having very less area of land from 2 to 5 \\\\nhectares c)  non availability of advisory services d) lack of \\\\ntechnology usage.  \\\\nIV. CONCLUSION \\\\n       In a nut -shell Effective business decisions are mainly \\\\nfocused on accurate agriculture data and reliable analysis. \\\\nThe Farmers and other stakeholders have started using \\\\ntechnology to get benefits  such as cost savings, reduction in \\\\nfertilizer, yield optimization, etc., In this paper, Agriculture \\\\ndata of virudunagar district is analyzed using Microsoft \\\\nAzure and R Tool in different aspects such as  percentage of \\\\ncrop produced in various season,    Production details of \\\\nvarious crops, crop pr oduction in different years from 1997 \\\\nto 2013. The dataset is also analyzed to list out the low \\\\nproduction crops, average production crops and high \\\\nproduction crops using R Tool.  \\\\nREFERENCES \\\\n1. R Ihaka and R Gentleman. R: A language for data analysis and \\\\ngraphics.Journal of Computational and Graphical Statistics, \\\\n5(3):299–314, 1996. 1 \\\\n2. https://rstats4ag.org/intro.html \\\\n3. Ch. Chandra Sekhar1, J. UdayKumar1, B. Kishor Kumar1 and Ch. \\\\nSekhar2,  Effective use of Big Data Analytics in Crop planning to \\\\nincrease Agriculture Production in India, International Journal of \\\\nAdvanced Science and Technology  Vol.113 (2018), pp.31-40 \\\\n4. Gupta N.K. Isaac R.K  and R.K. Singh , Maintenance and Analysis \\\\nof Agricultural Data: A Challenge , I NTERNATIONAL JOURNAL \\\\nOF BIOASSAYS ISSN: 2278-778X. pg. 4842-4848 \\\\n5. Jharna Majumdar*, Sneha Naraseeyappa and Shilpa Ankalak \\\\n,Analysis of agriculture data using data mining techniques: \\\\napplication of big data, journal of BigData,2017, Pg. no- 1-15 \\\\n6. http://www.environmentportal.in/files/file/Analysis%20of%20Trend\\\\ns%20in%20India%E2%80%99s%20Agricultural%20Growth.pdf  \\\\n7. https://www.kaggle.com/vijayaghanapathy/tamil-nadu-agriculture-\\\\ndata-set  \\\\n8. https://arxiv.org/ftp/arxiv/papers/1310/1310.4647.pdf \\\\n9. http://www.ijesrt.com/issues%20pdf%20file/Archive-2016/August-\\\\n2016/26.pdf \\\\n10. http://ijsetr.org/wp-content/uploads/2017/04/IJSETR-VOL-6-\\\\nISSUE-4-504-507.pdf'), Document(id='91c72e61-acf8-4003-98a2-81878256025b', metadata={'producer': 'Microsoft® Word 2016', 'creator': 'Microsoft® Word 2016', 'creationdate': '2023-05-18T18:20:05+05:30', 'title': 'Paper Title (use style: paper title)', 'author': 'IEEE', 'moddate': '2023-05-18T18:20:05+05:30', 'source': 'https://raw.githubusercontent.com/allanspadini/curso-flash-rag/main/agriculture.pdf', 'total_pages': 4, 'page': 2, 'page_label': '3'}, page_content='International Journal of Engineering and Advanced Technology (IJEAT) \\\\nISSN: 2249-8958 (Online), Volume-9 Issue-1S4, December 2019 \\\\n109 \\\\nPublished By: \\\\nBlue Eyes Intelligence Engineering  \\\\nand Sciences Publication (BEIESP)  \\\\n© Copyright: All rights reserved. \\\\n \\\\nRetrieval Number: A11001291S419/2019©BEIESP \\\\nDOI:10.35940/ijeat.A1100.1291S419 \\\\nJournal Website: www.ijeat.org \\\\n \\\\n \\\\n  \\\\n \\\\n \\\\n \\\\n \\\\nFigure 6. Crop wise production - Analysis \\\\n \\\\n \\\\nFigure 7. Crop wise production Chart \\\\n \\\\nThe dataset is analyzed and crop names are listed out under \\\\nhigh production, low production and av erage Production in \\\\ntable 2, table 3 and table 4 respectively.  \\\\n \\\\nTable 2 - High Production Crops \\\\n \\\\nCrop Production \\\\nMango  \\\\n \\\\n1.322800e+04  \\\\n Maize  \\\\n \\\\n3.938783e+04  \\\\n Coconut \\\\n \\\\n2.464034e+07 \\\\n Cotton(lint) \\\\n \\\\n1.941379e+04 \\\\n Total foodgrain   \\\\n \\\\n8.400800e+04  \\\\n Guar seed \\\\n \\\\n3.087100e+04  \\\\n Rice  \\\\n \\\\n9.346894e+04  \\\\n Banana \\\\n \\\\n3.145773e+04  \\\\nSugarcane 4.973585e+05 \\\\n  \\\\n Table 3 - Low Production Crops  \\\\n \\\\nCrop Production \\\\nGrapes \\\\n \\\\n1.500000e+01 \\\\n Dry ginger \\\\n \\\\n2.600000e+01 \\\\n Gram \\\\n \\\\n5.137500e+01'), Document(id='c35b8042-b59b-4eec-9454-8ba49f5aca01', metadata={'producer': 'Microsoft® Word 2016', 'creator': 'Microsoft® Word 2016', 'creationdate': '2023-05-18T18:20:05+05:30', 'title': 'Paper Title (use style: paper title)', 'author': 'IEEE', 'moddate': '2023-05-18T18:20:05+05:30', 'source': 'https://raw.githubusercontent.com/allanspadini/curso-flash-rag/main/agriculture.pdf', 'total_pages': 4, 'page': 1, 'page_label': '2'}, page_content='Analysis of Crop Production Dataset using R Tool \\\\n108 \\\\nPublished By: \\\\nBlue Eyes Intelligence Engineering  \\\\nand Sciences Publication (BEIESP)  \\\\n© Copyright: All rights reserved. \\\\n \\\\nRetrieval Number: A11001291S419/2019©BEIESP \\\\nDOI:10.35940/ijeat.A1100.1291S419 \\\\nJournal Website: www.ijeat.org \\\\n \\\\nThe dataset is analyzed for finding the crops that are \\\\nproduced frequently and rarely using R Tool. R tool \\\\nprovides lot of gr ouping and aggregation methods for data \\\\nanalysis. It also provides numerous methods to visualize the \\\\noutput data.  \\\\nThe data set includes 13547 records, 493 records \\\\nare extracted for analysis.  Crop production data of various \\\\nseasons was analyzed using R To ol. The data set includes 3 \\\\nseasons namely Whole Year, Kharif, and Rabi. The \\\\nproductivity under these categories is analyzed.  The \\\\nanalysis of crop produced in various season is displayed in \\\\nFigure 1. \\\\n \\\\n \\\\n \\\\nFigure 1. Analysis - crop produced in various season \\\\n \\\\nThe production details of various crop is analyzed.  Totally \\\\nthe 65 crops are produced around virudhunagar district. Fre\\\\nquently sowing crops are a)  Ragi, Groundnut, Cotton(lint) \\\\nare produced in 19 farms, b) Urad, Moong(Green Gram), M\\\\naize, Sunflower crops are produced in 18 farms of different \\\\nlocation in virudhunagar district.  Rarely sowing crops are 1\\\\n) Dry ginger 2) Potato 3) Other Cereals & Millets 4) Sannha\\\\nmp 5) Guar seed 6) Grapes produced in only one farm.  \\\\n \\\\n \\\\n \\\\nFigure 2. Analysis - Production details of various crops \\\\n \\\\nThe Crop production details of various years are also \\\\nanalyzed using R Tool. Dataset includes production details \\\\nfrom 1997 to 2013. In the year of 2001, only 12 farmers \\\\nproduced 12 different crops in their farm. In 2003, 56 \\\\nfarmers produced 54 different crops in various seasons.  \\\\n \\\\n \\\\nFigure 3. Analysis - crop produced from 1997-2013 \\\\n \\\\nFigure 4. Analysis - Crop Year and Production  \\\\n \\\\nThe production details of various crops are also analyzed \\\\nusing R Tool. Dataset includes production detai ls 63 crops \\\\nwhich are produced by 493 farmers. The production details \\\\nof various crops for 1997 to 2013 are displayed in table 1 \\\\nand figure 6. Crop wise production chart is displayed in \\\\nFigure 7.  \\\\n \\\\nTable1 . Analysis - Crop wise Production Details')]\", name='pega_contexto_agriculture', id='ae4477f1-ac73-4638-aaf1-3b46cd114154', tool_call_id='g1ph8hbtr'),\n",
       "  AIMessage(content=\"Agriculture is crucial for India's economy as it is the main sector responsible for feeding every individual, and it is also a significant contributor to the country's GDP. However, the agriculture sector in India is currently facing several challenges, including poor techniques and production, rural atmosphere, non-availability of advisory services, and lack of technology usage. To improve the productivity of agriculture in India, it is essential to adopt modern farming techniques, use technology, and provide advisory services to farmers. The use of data analytics and R Tool can help in analyzing crop production data, identifying high, low, and average production crops, and providing insights to farmers to improve their productivity.\", additional_kwargs={}, response_metadata={'token_usage': {'completion_tokens': 134, 'prompt_tokens': 5093, 'total_tokens': 5227, 'completion_time': 0.573935305, 'prompt_time': 0.300585726, 'queue_time': 0.05908619999999998, 'total_time': 0.874521031}, 'model_name': 'llama-3.3-70b-versatile', 'system_fingerprint': 'fp_9a8b91ba77', 'service_tier': 'on_demand', 'finish_reason': 'stop', 'logprobs': None}, id='run--ad332660-5794-490b-8cfb-8fcb752a930a-0', usage_metadata={'input_tokens': 5093, 'output_tokens': 134, 'total_tokens': 5227})]}"
      ]
     },
     "metadata": {},
     "execution_count": 68
    }
   ]
  },
  {
   "cell_type": "markdown",
   "source": [
    "# Definindo um grafo com memória"
   ],
   "metadata": {
    "id": "Hrgv5bETclTo"
   }
  },
  {
   "cell_type": "code",
   "source": [
    "from langgraph.checkpoint.memory import MemorySaver\n",
    "from langgraph.graph import MessagesState\n",
    "from langgraph.graph import START, StateGraph, END\n",
    "from langgraph.prebuilt import tools_condition\n",
    "\n",
    "from langgraph.prebuilt import ToolNode\n",
    "from IPython.display import Image, display\n",
    "from langchain_core.messages import HumanMessage, SystemMessage"
   ],
   "metadata": {
    "id": "p2p4-XuQaHz5"
   },
   "execution_count": null,
   "outputs": []
  },
  {
   "cell_type": "code",
   "source": [
    "grafo = StateGraph(MessagesState)"
   ],
   "metadata": {
    "id": "4f68EQ5Ec841"
   },
   "execution_count": null,
   "outputs": []
  },
  {
   "cell_type": "code",
   "source": [
    "grafo.add_node(\"assistente\", agente_pdf)\n",
    "grafo.add_node(\"tools\", ToolNode(tools))"
   ],
   "metadata": {
    "colab": {
     "base_uri": "https://localhost:8080/"
    },
    "id": "ZuB0wzfYdLZc",
    "outputId": "eb180731-6e8a-4235-a94f-9aee10c25e7c"
   },
   "execution_count": null,
   "outputs": [
    {
     "output_type": "execute_result",
     "data": {
      "text/plain": [
       "<langgraph.graph.state.StateGraph at 0x7a3ee70329d0>"
      ]
     },
     "metadata": {},
     "execution_count": 98
    }
   ]
  },
  {
   "cell_type": "code",
   "source": [
    "grafo.add_edge(START, \"assistente\")\n",
    "grafo.add_conditional_edges(\"assistente\",tools_condition,)"
   ],
   "metadata": {
    "colab": {
     "base_uri": "https://localhost:8080/"
    },
    "id": "6glyBH_LeqKd",
    "outputId": "c7801639-663a-4b23-bd04-c39e85ba0180"
   },
   "execution_count": null,
   "outputs": [
    {
     "output_type": "execute_result",
     "data": {
      "text/plain": [
       "<langgraph.graph.state.StateGraph at 0x7a3ee70329d0>"
      ]
     },
     "metadata": {},
     "execution_count": 99
    }
   ]
  },
  {
   "cell_type": "code",
   "source": [
    "grafo.add_edge(\"tools\", \"assistente\")\n",
    "grafo.add_edge(\"assistente\",END)"
   ],
   "metadata": {
    "colab": {
     "base_uri": "https://localhost:8080/"
    },
    "id": "agobT9w4fd-U",
    "outputId": "28fdbf1d-365c-447d-f30e-2c2cee85ca2a"
   },
   "execution_count": null,
   "outputs": [
    {
     "output_type": "execute_result",
     "data": {
      "text/plain": [
       "<langgraph.graph.state.StateGraph at 0x7a3ee70329d0>"
      ]
     },
     "metadata": {},
     "execution_count": 100
    }
   ]
  },
  {
   "cell_type": "code",
   "source": [
    "memoria = MemorySaver()\n",
    "app = grafo.compile(checkpointer=memoria)"
   ],
   "metadata": {
    "id": "JjG9Oq9Hf1Bv"
   },
   "execution_count": null,
   "outputs": []
  },
  {
   "cell_type": "code",
   "source": [
    "Image(app.get_graph().draw_mermaid_png())"
   ],
   "metadata": {
    "colab": {
     "base_uri": "https://localhost:8080/",
     "height": 266
    },
    "id": "c1ia6GGFfp_c",
    "outputId": "526b4a64-02db-4b7e-d600-695826ad0308"
   },
   "execution_count": null,
   "outputs": [
    {
     "output_type": "execute_result",
     "data": {
      "image/png": "[encoded data removed]",
      "text/plain": [
       "<IPython.core.display.Image object>"
      ]
     },
     "metadata": {},
     "execution_count": 102
    }
   ]
  },
  {
   "cell_type": "code",
   "source": [
    "def chat_com_memoria(mensagem_usuario: str, thread_id=\"1\", verbose = False):\n",
    "  config = {\"configurable\": {\"thread_id\": thread_id}}\n",
    "  messages = app.invoke({\"messages\": [HumanMessage(content=mensagem_usuario)]}, config)\n",
    "  if verbose:\n",
    "        for message in messages['messages']:\n",
    "            message.pretty_print()\n",
    "  else:\n",
    "      messages['messages'][-1].pretty_print()\n",
    "\n",
    "\n",
    "\n"
   ],
   "metadata": {
    "id": "Rw4cP-eThLTx"
   },
   "execution_count": null,
   "outputs": []
  },
  {
   "cell_type": "code",
   "source": [
    "chat_com_memoria(mensagem_usuario=\"Why is agriculture crucial for India's economy, and what's its current need?\", thread_id=\"2\", verbose = False)"
   ],
   "metadata": {
    "colab": {
     "base_uri": "https://localhost:8080/"
    },
    "id": "D_FCpvjRhbLK",
    "outputId": "7cb45bad-6b89-46f7-9216-1d1b148b7b4a"
   },
   "execution_count": null,
   "outputs": [
    {
     "output_type": "stream",
     "name": "stdout",
     "text": [
      "==================================\u001B[1m Ai Message \u001B[0m==================================\n",
      "\n",
      "Agriculture is the most important factor of the Indian economy, but this vital industry currently needs more support than any other. The current need of agriculture in India's economy is to improve productivity, minimize production costs, and utilize natural resources efficiently. This can be achieved by adopting emerging technologies such as data analytics, IoT, and smart farming technologies. Effective data analysis can help predict production values and market rates, and R Tool can be used to analyze agriculture data in various aspects, including crop production details, season-wise production, and year-wise production.\n"
     ]
    }
   ]
  },
  {
   "cell_type": "code",
   "source": [
    "chat_com_memoria(mensagem_usuario=\"What is the planet NASA is going?\", thread_id=\"2\", verbose = False)"
   ],
   "metadata": {
    "colab": {
     "base_uri": "https://localhost:8080/"
    },
    "id": "gBG0qUdPj9Ad",
    "outputId": "f6007a4e-163b-4959-9eae-47172bd2fc01"
   },
   "execution_count": null,
   "outputs": [
    {
     "output_type": "stream",
     "name": "stdout",
     "text": [
      "==================================\u001B[1m Ai Message \u001B[0m==================================\n",
      "\n",
      "NASA is going to Mars.\n"
     ]
    }
   ]
  },
  {
   "cell_type": "code",
   "source": [
    "chat_com_memoria(mensagem_usuario=\"What planet again?\", thread_id=\"2\", verbose = False)"
   ],
   "metadata": {
    "id": "O2QgLHaIkHKU",
    "colab": {
     "base_uri": "https://localhost:8080/"
    },
    "outputId": "f25e8026-bbf6-4eae-80b0-c32aeb163155"
   },
   "execution_count": null,
   "outputs": [
    {
     "output_type": "stream",
     "name": "stdout",
     "text": [
      "==================================\u001B[1m Ai Message \u001B[0m==================================\n",
      "\n",
      "Mars.\n"
     ]
    }
   ]
  },
  {
   "cell_type": "code",
   "source": [],
   "metadata": {
    "id": "lYU4m0_c12OD"
   },
   "execution_count": null,
   "outputs": []
  }
 ]
}
