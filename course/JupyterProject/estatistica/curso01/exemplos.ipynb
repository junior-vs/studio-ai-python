{
 "cells": [
  {
   "cell_type": "markdown",
   "id": "9b95905b",
   "metadata": {},
   "source": [
    "Vamos pensar na distribuição de frequência como uma forma de organizar e resumir informações, assim como uma biblioteca organiza livros.\n",
    "\n",
    "Imagine que você tem uma coleção de livros de diferentes gêneros: ficção, não-ficção, mistério, fantasia, etc. Para entender melhor a sua coleção, você decide contar quantos livros tem de cada gênero.\n",
    "\n",
    "Frequência Absoluta: É como contar quantos livros você tem de cada gênero. Por exemplo, se você tem 5 livros de ficção, 3 de não-ficção e 2 de mistério, isso representa a frequência absoluta de cada gênero.\n",
    "\n",
    "Frequência Absoluta Acumulada: Agora, se você quiser saber quantos livros tem até um certo gênero, você soma as quantidades. Por exemplo, até o gênero \"não-ficção\", você tem 5 (ficção) + 3 (não-ficção) = 8 livros.\n",
    "\n",
    "Frequência Relativa: Para entender a proporção de cada gênero em relação ao total de livros, você calcula a frequência relativa. Se você tem 10 livros no total e 5 são de ficção, a frequência relativa de ficção seria 5/10 = 0,5 ou 50%.\n",
    "\n",
    "Frequência Relativa Acumulada: Por fim, se você quiser saber a proporção acumulada de livros até um certo gênero, você soma as frequências relativas. Por exemplo, se a frequência relativa de ficção é 0,5 e a de não-ficção é 0,3, a frequência relativa acumulada até não-ficção seria 0,5 + 0,3 = 0,8 ou 80%.\n",
    "\n",
    "Assim, a distribuição de frequência ajuda a visualizar e entender a composição dos dados, permitindo que você veja padrões e tendências de forma clara. Se precisar de mais exemplos ou exercícios sobre esse tema, é só avisar!"
   ]
  },
  {
   "cell_type": "code",
   "execution_count": 2,
   "id": "62902ff0",
   "metadata": {},
   "outputs": [],
   "source": [
    "import pandas as pd"
   ]
  },
  {
   "cell_type": "code",
   "execution_count": null,
   "id": "6bf124ba",
   "metadata": {},
   "outputs": [],
   "source": [
    "# Dados das preferências de transporte\n",
    "\n",
    "transporte = [\n",
    "    \"Carro\", \"Ônibus\", \"Bicicleta\", \"Carro\", \"Metrô\", \"Ônibus\", \n",
    "    \"Bicicleta\", \"Carro\", \"Metrô\", \"Bicicleta\", \"Carro\", \"Ônibus\", \n",
    "    \"Bicicleta\", \"Carro\", \"Metrô\", \"Carro\", \"Ônibus\", \"Bicicleta\", \n",
    "    \"Carro\", \"Metrô\", \"Ônibus\", \"Bicicleta\", \"Metrô\", \"Carro\",\n",
    "    \"Bicicleta\", \"Carro\", \"Metrô\", \"Ônibus\", \"Carro\", \"Bicicleta\",\n",
    "    \"Metrô\", \"Ônibus\", \"Carro\", \"Bicicleta\", \"Ônibus\", \"Metrô\",\n",
    "    \"Carro\", \"Ônibus\", \"Metrô\", \"Bicicleta\", \"Carro\", \"Metrô\",\n",
    "    \"Bicicleta\", \"Ônibus\", \"Carro\", \"Metrô\", \"Ônibus\", \"Bicicleta\"\n",
    "]"
   ]
  },
  {
   "cell_type": "code",
   "execution_count": null,
   "id": "95be63cd",
   "metadata": {},
   "outputs": [],
   "source": [
    "# Transformando em um DataFrame\n",
    "\n",
    "dados = pd.DataFrame(transporte, columns=[\"Transporte\"])"
   ]
  },
  {
   "cell_type": "code",
   "execution_count": null,
   "id": "6daca34c",
   "metadata": {},
   "outputs": [],
   "source": []
  },
  {
   "cell_type": "code",
   "execution_count": null,
   "id": "f419a5f7",
   "metadata": {},
   "outputs": [],
   "source": []
  }
 ],
 "metadata": {
  "kernelspec": {
   "display_name": ".venv (3.13.4)",
   "language": "python",
   "name": "python3"
  },
  "language_info": {
   "codemirror_mode": {
    "name": "ipython",
    "version": 3
   },
   "file_extension": ".py",
   "mimetype": "text/x-python",
   "name": "python",
   "nbconvert_exporter": "python",
   "pygments_lexer": "ipython3",
   "version": "3.13.4"
  }
 },
 "nbformat": 4,
 "nbformat_minor": 5
}
