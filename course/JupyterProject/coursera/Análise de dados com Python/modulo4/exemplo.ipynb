{
 "cells": [
  {
   "cell_type": "markdown",
   "metadata": {},
   "source": [
    "# Análise e Avaliação de Modelos de Regressão\n",
    "\n",
    "Este notebook demonstra as 4 partes da avaliação de um modelo de regressão, conforme explicado na aula:\n",
    "\n",
    "1.  **Análise de \"Bom Senso\"**: Previsões e Coeficientes.\n",
    "2.  **Análise Visual**: Gráficos de diagnóstico (Regressão, Resíduos, Distribuição).\n",
    "3.  **Análise Numérica**: Métricas MSE e R-quadrado.\n",
    "4.  **A \"Armadilha\" da Comparação**: Comparando um modelo simples com um mais complexo."
   ]
  },
  {
   "cell_type": "markdown",
   "metadata": {},
   "source": [
    "## Setup: Importações e Dados Simulados"
   ]
  },
  {
   "cell_type": "code",
   "execution_count": 2,
   "metadata": {},
   "outputs": [
    {
     "name": "stdout",
     "output_type": "stream",
     "text": [
      "DataFrame de exemplo criado com sucesso!\n"
     ]
    },
    {
     "data": {
      "application/vnd.microsoft.datawrangler.viewer.v0+json": {
       "columns": [
        {
         "name": "index",
         "rawType": "int64",
         "type": "integer"
        },
        {
         "name": "highway_mpg",
         "rawType": "float64",
         "type": "float"
        },
        {
         "name": "engine_size",
         "rawType": "float64",
         "type": "float"
        },
        {
         "name": "price",
         "rawType": "float64",
         "type": "float"
        }
       ],
       "ref": "625bf70f-6113-4a37-a863-e5e5b33434f9",
       "rows": [
        [
         "0",
         "26.236203565420873",
         "235.3225417546646",
         "27252.425535013826"
        ],
        [
         "1",
         "43.52142919229749",
         "128.3299025067156",
         "3062.184115885766"
        ],
        [
         "2",
         "36.95981825434215",
         "113.1831795345957",
         "11473.372809145578"
        ],
        [
         "3",
         "32.959754525911094",
         "168.3124416444101",
         "16612.709229546665"
        ],
        [
         "4",
         "19.680559213273096",
         "247.70407265769612",
         "25191.98741403602"
        ]
       ],
       "shape": {
        "columns": 3,
        "rows": 5
       }
      },
      "text/html": [
       "<div>\n",
       "<style scoped>\n",
       "    .dataframe tbody tr th:only-of-type {\n",
       "        vertical-align: middle;\n",
       "    }\n",
       "\n",
       "    .dataframe tbody tr th {\n",
       "        vertical-align: top;\n",
       "    }\n",
       "\n",
       "    .dataframe thead th {\n",
       "        text-align: right;\n",
       "    }\n",
       "</style>\n",
       "<table border=\"1\" class=\"dataframe\">\n",
       "  <thead>\n",
       "    <tr style=\"text-align: right;\">\n",
       "      <th></th>\n",
       "      <th>highway_mpg</th>\n",
       "      <th>engine_size</th>\n",
       "      <th>price</th>\n",
       "    </tr>\n",
       "  </thead>\n",
       "  <tbody>\n",
       "    <tr>\n",
       "      <th>0</th>\n",
       "      <td>26.236204</td>\n",
       "      <td>235.322542</td>\n",
       "      <td>27252.425535</td>\n",
       "    </tr>\n",
       "    <tr>\n",
       "      <th>1</th>\n",
       "      <td>43.521429</td>\n",
       "      <td>128.329903</td>\n",
       "      <td>3062.184116</td>\n",
       "    </tr>\n",
       "    <tr>\n",
       "      <th>2</th>\n",
       "      <td>36.959818</td>\n",
       "      <td>113.183180</td>\n",
       "      <td>11473.372809</td>\n",
       "    </tr>\n",
       "    <tr>\n",
       "      <th>3</th>\n",
       "      <td>32.959755</td>\n",
       "      <td>168.312442</td>\n",
       "      <td>16612.709230</td>\n",
       "    </tr>\n",
       "    <tr>\n",
       "      <th>4</th>\n",
       "      <td>19.680559</td>\n",
       "      <td>247.704073</td>\n",
       "      <td>25191.987414</td>\n",
       "    </tr>\n",
       "  </tbody>\n",
       "</table>\n",
       "</div>"
      ],
      "text/plain": [
       "   highway_mpg  engine_size         price\n",
       "0    26.236204   235.322542  27252.425535\n",
       "1    43.521429   128.329903   3062.184116\n",
       "2    36.959818   113.183180  11473.372809\n",
       "3    32.959755   168.312442  16612.709230\n",
       "4    19.680559   247.704073  25191.987414"
      ]
     },
     "execution_count": 2,
     "metadata": {},
     "output_type": "execute_result"
    }
   ],
   "source": [
    "import numpy as np\n",
    "import pandas as pd\n",
    "import matplotlib.pyplot as plt\n",
    "import seaborn as sns\n",
    "from sklearn.linear_model import LinearRegression\n",
    "from sklearn.metrics import mean_squared_error, r2_score\n",
    "\n",
    "# Configurando o estilo dos gráficos para uma melhor visualização\n",
    "sns.set_style(\"whitegrid\")\n",
    "plt.rcParams['figure.figsize'] = (10, 6)\n",
    "\n",
    "# Criando um DataFrame simulado de carros\n",
    "# Preço = f(consumo, tamanho_motor) + ruído\n",
    "np.random.seed(42)\n",
    "num_carros = 150\n",
    "dados = {\n",
    "    'highway_mpg': np.random.uniform(15, 45, num_carros),\n",
    "    'engine_size': np.random.uniform(90, 250, num_carros)\n",
    "}\n",
    "df = pd.DataFrame(dados)\n",
    "\n",
    "# Criando a relação: preço base + bônus por tamanho_motor - penalidade por mpg + ruído\n",
    "df['price'] = (1000 + \n",
    "               df['engine_size'] * 150 - \n",
    "               df['highway_mpg'] * 350 + \n",
    "               np.random.normal(0, 3000, num_carros))\n",
    "\n",
    "print(\"DataFrame de exemplo criado com sucesso!\")\n",
    "df.head()"
   ]
  },
  {
   "cell_type": "markdown",
   "metadata": {},
   "source": [
    "## Parte 1: Análise de \"Bom Senso\" (Previsões e Coeficientes)\n",
    "\n",
    "Vamos começar com um modelo simples (Regressão Linear Simples - SLR) que usa apenas `highway_mpg` para prever o `price`."
   ]
  },
  {
   "cell_type": "code",
   "execution_count": 3,
   "metadata": {},
   "outputs": [
    {
     "name": "stdout",
     "output_type": "stream",
     "text": [
      "--- PARTE 1: Análise de 'Bom Senso' (Modelo Simples) ---\n",
      "Previsão de preço para um carro com 30 MPG: $16,648.03\n",
      "   -> O valor parece razoável? Sim, não é negativo nem absurdo.\n",
      "\n",
      "Coeficiente (inclinação) para 'highway_mpg': -296.71\n",
      "   -> Interpretação: Para cada 1 MPG a mais, o preço do carro diminui em ~$738.\n",
      "Intercepto: 25549.33\n",
      "   -> O intercepto é o valor teórico se MPG fosse 0. Muitas vezes não tem um sentido prático.\n"
     ]
    },
    {
     "name": "stderr",
     "output_type": "stream",
     "text": [
      "c:\\Users\\junio\\develop\\repos\\studio-ia-python\\course\\JupyterProject\\.venv\\Lib\\site-packages\\sklearn\\utils\\validation.py:2749: UserWarning: X does not have valid feature names, but LinearRegression was fitted with feature names\n",
      "  warnings.warn(\n"
     ]
    }
   ],
   "source": [
    "# Treinando o modelo simples (SLR)\n",
    "slr_model = LinearRegression()\n",
    "X_slr = df[['highway_mpg']]\n",
    "y = df['price']\n",
    "slr_model.fit(X_slr, y)\n",
    "\n",
    "print(\"--- PARTE 1: Análise de 'Bom Senso' (Modelo Simples) ---\")\n",
    "\n",
    "# 1.1 Fazer uma previsão específica\n",
    "mpg_teste = 30\n",
    "preco_previsto = slr_model.predict(np.array([[mpg_teste]]))[0]\n",
    "print(f\"Previsão de preço para um carro com {mpg_teste} MPG: ${preco_previsto:,.2f}\")\n",
    "print(\"   -> O valor parece razoável? Sim, não é negativo nem absurdo.\")\n",
    "\n",
    "# 1.2 Examinar os coeficientes\n",
    "coeficiente = slr_model.coef_[0]\n",
    "intercepto = slr_model.intercept_\n",
    "print(f\"\\nCoeficiente (inclinação) para 'highway_mpg': {coeficiente:.2f}\")\n",
    "print(\"   -> Interpretação: Para cada 1 MPG a mais, o preço do carro diminui em ~$738.\")\n",
    "print(f\"Intercepto: {intercepto:.2f}\")\n",
    "print(\"   -> O intercepto é o valor teórico se MPG fosse 0. Muitas vezes não tem um sentido prático.\")"
   ]
  },
  {
   "cell_type": "markdown",
   "metadata": {},
   "source": [
    "## Parte 2: Análise Visual (Diagnóstico com Gráficos)"
   ]
  },
  {
   "cell_type": "code",
   "execution_count": null,
   "metadata": {},
   "outputs": [],
   "source": [
    "print(\"--- PARTE 2: Análise Visual (gerando gráficos) ---\")\n",
    "\n",
    "# 2.1 Gráfico de Regressão e 2.2 Gráfico de Resíduos (lado a lado)\n",
    "plt.figure(figsize=(14, 6))\n",
    "\n",
    "plt.subplot(1, 2, 1) # Gráfico 1 de 2\n",
    "sns.regplot(x='highway_mpg', y='price', data=df,\n",
    "            scatter_kws={'alpha':0.6, 'color': 'blue'},\n",
    "            line_kws={'color': 'red', 'linewidth': 2})\n",
    "plt.title('Gráfico de Regressão')\n",
    "plt.xlabel('Consumo (Highway MPG)')\n",
    "plt.ylabel('Preço ($)')\n",
    "\n",
    "plt.subplot(1, 2, 2) # Gráfico 2 de 2\n",
    "sns.residplot(x=X_slr.squeeze(), y=y, color='green')\n",
    "plt.title('Gráfico de Resíduos')\n",
    "plt.xlabel('Consumo (Highway MPG)')\n",
    "plt.ylabel('Erro (Resíduo)')\n",
    "\n",
    "plt.suptitle('Diagnóstico Visual do Modelo Simples (SLR)', fontsize=16)\n",
    "plt.tight_layout(rect=[0, 0.03, 1, 0.95])\n",
    "plt.show()\n",
    "\n",
    "print(\"Análise: O Gráfico de Resíduos mostra um padrão claro (não é aleatório), indicando que o modelo linear simples está perdendo alguma informação (neste caso, o efeito do 'engine_size').\")"
   ]
  },
  {
   "cell_type": "code",
   "execution_count": null,
   "metadata": {},
   "outputs": [],
   "source": [
    "# 2.3 Gráfico de Distribuição\n",
    "y_pred_slr = slr_model.predict(X_slr)\n",
    "\n",
    "plt.figure(figsize=(10, 6))\n",
    "sns.kdeplot(y, color='blue', fill=True, label='Preços Reais')\n",
    "sns.kdeplot(y_pred_slr, color='red', fill=True, alpha=0.5, label='Preços Previstos (SLR)')\n",
    "plt.title('Distribuição dos Preços Reais vs. Previstos')\n",
    "plt.xlabel('Preço ($)')\n",
    "plt.legend()\n",
    "plt.show()"
   ]
  },
  {
   "cell_type": "markdown",
   "metadata": {},
   "source": [
    "## Parte 3: Análise Numérica (MSE e R-quadrado)"
   ]
  },
  {
   "cell_type": "code",
   "execution_count": null,
   "metadata": {},
   "outputs": [],
   "source": [
    "print(\"--- PARTE 3: Análise Numérica (Métricas) ---\")\n",
    "\n",
    "# 3.1 Calcular MSE e R² para o modelo simples (SLR)\n",
    "mse_slr = mean_squared_error(y, y_pred_slr)\n",
    "r2_slr = r2_score(y, y_pred_slr)\n",
    "\n",
    "print(f\"Métricas para o Modelo Simples (SLR):\")\n",
    "print(f\"  - Erro Quadrático Médio (MSE): {mse_slr:,.2f}\")\n",
    "print(f\"  - Raiz do Erro Quadrático Médio (RMSE): ${np.sqrt(mse_slr):,.2f}\")\n",
    "print(f\"  - R-quadrado (R²): {r2_slr:.4f}\")\n",
    "print(f\"\\nInterpretação do R²: O consumo (MPG) sozinho explica aproximadamente {r2_slr:.1%} da variação no preço dos carros.\")"
   ]
  },
  {
   "cell_type": "markdown",
   "metadata": {},
   "source": [
    "## Parte 4: A \"Armadilha\" Final (Comparando Modelos)\n",
    "\n",
    "Agora vamos treinar um modelo mais complexo (Regressão Linear Múltipla - MLR) usando `highway_mpg` e `engine_size` e comparar as métricas."
   ]
  },
  {
   "cell_type": "code",
   "execution_count": null,
   "metadata": {},
   "outputs": [],
   "source": [
    "print(\"--- PARTE 4: A 'Armadilha' - Comparando Modelos ---\")\n",
    "\n",
    "# 4.1 Treinar um modelo mais complexo: Regressão Linear Múltipla (MLR)\n",
    "mlr_model = LinearRegression()\n",
    "X_mlr = df[['highway_mpg', 'engine_size']]\n",
    "mlr_model.fit(X_mlr, y)\n",
    "y_pred_mlr = mlr_model.predict(X_mlr)\n",
    "\n",
    "# 4.2 Calcular as métricas para o modelo complexo (MLR)\n",
    "mse_mlr = mean_squared_error(y, y_pred_mlr)\n",
    "r2_mlr = r2_score(y, y_pred_mlr)\n",
    "\n",
    "print(\"\\nMétricas para o Modelo Complexo (MLR):\")\n",
    "print(f\"  - Erro Quadrático Médio (MSE): {mse_mlr:,.2f}\")\n",
    "print(f\"  - Raiz do Erro Quadrático Médio (RMSE): ${np.sqrt(mse_mlr):,.2f}\")\n",
    "print(f\"  - R-quadrado (R²): {r2_mlr:.4f}\")\n",
    "\n",
    "# 4.3 A conclusão da aula\n",
    "print(\"\\n--- Conclusão da Aula (A Armadilha) ---\")\n",
    "print(f\"Comparação SLR vs MLR:\")\n",
    "print(f\"  - MSE: {mse_slr:,.2f} (Simples) -> {mse_mlr:,.2f} (Complexo)\")\n",
    "print(f\"  - R²:  {r2_slr:.4f} (Simples) -> {r2_mlr:.4f} (Complexo)\")\n",
    "\n",
    "print(\"\\nAVISO DA AULA: Como esperado, o MSE do modelo MLR é MENOR e o R² é MAIOR.\")\n",
    "print(\"Isso acontece porque adicionar mais variáveis (mesmo que inúteis) dá ao modelo mais flexibilidade para se 'ajustar' aos dados de treino.\")\n",
    "print(\"Neste caso, 'engine_size' é uma variável útil, então a melhora é real. Mas isso nem sempre é verdade.\")\n",
    "print(\"É por isso que precisamos de técnicas mais avançadas (como R² ajustado e Validação Cruzada) para saber se um modelo mais complexo é *realmente* melhor.\")"
   ]
  }
 ],
 "metadata": {
  "kernelspec": {
   "display_name": ".venv",
   "language": "python",
   "name": "python3"
  },
  "language_info": {
   "codemirror_mode": {
    "name": "ipython",
    "version": 3
   },
   "file_extension": ".py",
   "mimetype": "text/x-python",
   "name": "python",
   "nbconvert_exporter": "python",
   "pygments_lexer": "ipython3",
   "version": "3.13.4"
  }
 },
 "nbformat": 4,
 "nbformat_minor": 4
}
