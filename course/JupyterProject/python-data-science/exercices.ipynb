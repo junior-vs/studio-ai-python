{
 "cells": [
  {
   "metadata": {},
   "cell_type": "markdown",
   "source": [
    "Aquecimento\n",
    "1. Escreva um código que lê a lista abaixo e faça:\n",
    "2.\n",
    "```python\n",
    "lista = [16, 14, 63, 65, 17, 99, 70, 11, 20, 48, 79, 32, 17, 89, 12, 25, 66]\n",
    "```\n",
    "\n",
    "- A leitura do tamanho da lista\n",
    "- A leitura do maior e menor valor\n",
    "- A soma dos valores da lista\n",
    "- Ao final exiba uma mensagem dizendo:\n",
    "\n",
    "```python\n",
    "\"A lista possui [tam] números em que o maior número é [maior] e o menor número é [menor]. A so\n",
    "```"
   ],
   "id": "71200b8b31cbe9c3"
  },
  {
   "cell_type": "code",
   "id": "initial_id",
   "metadata": {
    "collapsed": true,
    "ExecuteTime": {
     "end_time": "2025-06-18T12:41:12.862336Z",
     "start_time": "2025-06-18T12:41:12.859086Z"
    }
   },
   "source": [
    "lista = [16, 14, 63, 65, 17, 99, 70, 11, 20, 48, 79, 32, 17, 89, 12, 25, 66]\n",
    "tam = len(lista)\n",
    "menor = min(lista)\n",
    "maior = max(lista)\n",
    "soma = sum(lista)\n",
    "\n",
    "print(f\"A lista possui {tam} números em que o maior número é {maior} e o menor número é {menor}. A soma dos valores presentes nela é igual a {soma}\")"
   ],
   "outputs": [
    {
     "name": "stdout",
     "output_type": "stream",
     "text": [
      "A lista possui 17 números em que o maior número é 99 e o menor número é 11. A soma dos valores presentes nela é igual a 743\n"
     ]
    }
   ],
   "execution_count": 3
  },
  {
   "metadata": {},
   "cell_type": "markdown",
   "source": [
    "Escreva uma função que gere a tabuada de um número inteiro de 1 a 10, de acordo com a escolha da pessoa usuária. Como exemplo, para o número 7, a tabuada deve ser mostrada no seguinte formato:\n",
    "\n",
    "```\n",
    "Tabuada do 7:\n",
    "7 x 0 = 0\n",
    "7 x 1 = 7\n",
    "[...]\n",
    "7 x 10 = 70\n",
    "```\n"
   ],
   "id": "6900b100ead075d8"
  },
  {
   "metadata": {
    "ExecuteTime": {
     "end_time": "2025-06-18T12:48:31.574608Z",
     "start_time": "2025-06-18T12:48:27.596512Z"
    }
   },
   "cell_type": "code",
   "source": [
    "def tabuada(fator: int) -> int:\n",
    "    print(f\"Tabuada de {fator}\"\n",
    "          f\"\")\n",
    "    for c in range(1, 11):\n",
    "        print(f\"{fator} x {c} = {fator*c}\")\n",
    "\n",
    "numero = int(input(\"Tabuada de: ?\"))\n",
    "tabuada(numero)\n",
    "\n"
   ],
   "id": "53f2f0b7aa7b678e",
   "outputs": [
    {
     "name": "stdout",
     "output_type": "stream",
     "text": [
      "Tabuada de 4\n",
      "4 x 1 = 4\n",
      "4 x 2 = 8\n",
      "4 x 3 = 12\n",
      "4 x 4 = 16\n",
      "4 x 5 = 20\n",
      "4 x 6 = 24\n",
      "4 x 7 = 28\n",
      "4 x 8 = 32\n",
      "4 x 9 = 36\n",
      "4 x 10 = 40\n"
     ]
    }
   ],
   "execution_count": 6
  },
  {
   "metadata": {},
   "cell_type": "markdown",
   "source": "4. Crie uma lista dos quadrados dos números da seguinte lista '[1, 2, 3, 4, 5, 6, 7, 8, 9, 10]'. Lembre-se de utilizar as funções lambda e map() para calcular o quadrado de cada elemento da lista.",
   "id": "d67b7d72827addb8"
  },
  {
   "metadata": {},
   "cell_type": "code",
   "outputs": [],
   "execution_count": null,
   "source": "",
   "id": "9e65cccbe74f4bfd"
  },
  {
   "metadata": {},
   "cell_type": "markdown",
   "source": [
    "5. Você foi contratado(a) como cientista de dados de uma associação de skate. Para analisar as notas recebidas de skatistas em algumas competições ao longo do ano, você precisa criar um código que calcula a pontuação dos(as) atletas. Para isso, o seu código deve receber 5 notas digitadas pelas pessoas juradas. Para calcular a pontuação de um(a) skatista, você precisa eliminar a maior e a menor pontuação dentre as 5 notas e tirar a média das 3 notas que sobraram. Retorne a média para apresentar o texto:\n",
    "\n",
    "````\n",
    "\"Nota da manobra: [media]\"\n",
    "````\n"
   ],
   "id": "91eb2736c5e5a3e7"
  },
  {
   "metadata": {},
   "cell_type": "code",
   "outputs": [],
   "execution_count": null,
   "source": "",
   "id": "d4d8f04f3062f38e"
  },
  {
   "metadata": {},
   "cell_type": "markdown",
   "source": [
    "Para atender a uma demanda de uma instituição de ensino para a análise do desempenho de seus(suas) estudantes, você precisa criar uma função que receba uma lista de 4 notas e retorne:\n",
    "\n",
    "- maior nota\n",
    "- menor nota\n",
    "- média\n",
    "- situação (Aprovado(a) ou Reprovado(a))\n",
    "\n",
    "Para testar o comportamento da função, os dados podem ser exibidos em um texto:\n",
    "\n",
    "```\n",
    "\"O(a) estudante obteve uma média de [media], com a sua maior nota de [maior] pontos e a menor nota de [menor] pontos e foi [situacao]\"\n",
    "```\n"
   ],
   "id": "19e3170a46db403c"
  },
  {
   "metadata": {},
   "cell_type": "code",
   "outputs": [],
   "execution_count": null,
   "source": "",
   "id": "8942a102307b3950"
  },
  {
   "metadata": {},
   "cell_type": "markdown",
   "source": [
    "Você recebeu uma demanda para tratar 2 listas com os nomes e sobrenomes de cada estudante concatenando-as para apresentar seus nomes completos na forma Nome Sobrenome. As listas são:\n",
    "```\n",
    "nomes = [\"joão\", \"MaRia\", \"JOSÉ\"]\n",
    "sobrenomes = [\"SILVA\", \"souza\", \"Tavares\"]\n",
    "```\n",
    "\n",
    "O texto exibido ao fim deve ser parecido com:\n",
    "```\n",
    "\n",
    "\"Nome completo: Ana Silva\"\n",
    "```\n",
    "\n",
    "Dica: utilize a função map para mapear os nomes e sobrenomes e as funções de string para tratar o texto.\n"
   ],
   "id": "83e03e5aec0adfd2"
  },
  {
   "metadata": {},
   "cell_type": "code",
   "outputs": [],
   "execution_count": null,
   "source": "",
   "id": "694afbdd01f33548"
  },
  {
   "metadata": {},
   "cell_type": "markdown",
   "source": [
    "Como cientista de dados em um time de futebol, você precisa implementar novas formas de coleta de dados sobre o desempenho de jogadores e do time como um todo. Sua primeira ação é criar uma forma de calcular a pontuação do time no campeonato nacional a partir dos dados de gols marcados e sofridos em cada jogo.\n",
    "\n",
    "Escreva uma função chamada calcula_pontos que recebe como parâmetros duas listas de números inteiros, representando os gols marcados e sofridos pelo time em cada partida do campeonato. A função deve retornar a pontuação do time e o aproveitamento em percentual, levando em consideração que a vitória vale 3 pontos, o empate vale 1 ponto e a derrota 0 pontos.\n",
    "\n",
    "Observação: se a quantidade de gols marcados numa partida for maior que a de sofridos, o time venceu. Caso seja igual, o time empatou e se for menor, o time perdeu. Para calcular o aproveitamento devemos fazer a razão entre a pontuação do time pela pontuação máxima que ele poderia receber."
   ],
   "id": "f15629b9a22af3f"
  },
  {
   "metadata": {},
   "cell_type": "code",
   "outputs": [],
   "execution_count": null,
   "source": "",
   "id": "b4d923e96b57b959"
  },
  {
   "metadata": {},
   "cell_type": "markdown",
   "source": [
    "Você recebeu o desafio de criar um código que calcula os gastos de uma viagem para um das quatro cidades partindo de Recife, sendo elas: Salvador, Fortaleza, Natal e Aracaju.\n",
    "\n",
    "O custo da diária do hotel é de 150 reais em todas elas e o consumo de gasolina na viagem de carro é de 14 km/l, sendo que o valor da gasolina é de 5 reais o litro. O gastos com passeios e alimentação a se fazer em cada uma delas por dia seria de [200, 400, 250, 300], respectivamente.\n",
    "\n",
    "Sabendo que as distâncias entre Recife e cada uma das cidades é de aproximadamente [850, 800, 300, 550] km, crie três funções nas quais: a 1ª função calcule os gastos com hotel (gasto_hotel), a 2ª calcule os gastos com a gasolina (gasto_gasolina) e a 3ª os gastos com passeio e alimentação (gasto_passeio).\n",
    "\n",
    "Para testar, simule uma viagem de 3 dias para Salvador partindo de Recife. Considere a viagem de ida e volta de carro.\n",
    "\n",
    "```\n",
    "\"Com base nos gastos definidos, uma viagem de [dias] dias para [cidade] saindo de Recife custaria [gastos] reais\"\n",
    "```"
   ],
   "id": "8c36e0323742653e"
  },
  {
   "metadata": {},
   "cell_type": "code",
   "outputs": [],
   "execution_count": null,
   "source": "",
   "id": "60691d2d33430157"
  },
  {
   "metadata": {},
   "cell_type": "markdown",
   "source": [
    "Você iniciou um estágio em uma empresa que trabalha com processamento de linguagem natural (NLP). Sua líder requisitou que você criasse um trecho de código que recebe uma frase digitada pela pessoa usuária e filtre apenas as palavras com tamanho maior ou igual a 5, exibindo-as em uma lista. Essa demanda é voltada para a análise do padrão de comportamento de pessoas na escrita de palavras acima dessa quantidade de caracteres.\n",
    "\n",
    "Dica: utilize as funções lambda e filter() para filtrar essas palavras. Lembrando que a função embutida filter() recebe uma função (no nosso exemplo uma função lambda) e filtra um iterável de acordo com a função. Para tratar a frase use replace() para trocar a ',' '.', '!' e '?' por espaço.\n",
    "\n",
    "Use a frase \"Aprender Python aqui na Alura é muito bom\" para testar o código."
   ],
   "id": "751399647913d58f"
  }
 ],
 "metadata": {
  "kernelspec": {
   "display_name": "Python 3",
   "language": "python",
   "name": "python3"
  },
  "language_info": {
   "codemirror_mode": {
    "name": "ipython",
    "version": 2
   },
   "file_extension": ".py",
   "mimetype": "text/x-python",
   "name": "python",
   "nbconvert_exporter": "python",
   "pygments_lexer": "ipython2",
   "version": "2.7.6"
  }
 },
 "nbformat": 4,
 "nbformat_minor": 5
}
